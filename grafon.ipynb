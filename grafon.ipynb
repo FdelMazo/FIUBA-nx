{
 "cells": [
  {
   "cell_type": "markdown",
   "id": "7d3e4e83-58e0-457f-bd75-abf4b9337bed",
   "metadata": {},
   "source": [
    "# Grafon\n",
    "\n",
    "### Qué va a analizar nuestro grafo?\n",
    "\n",
    "Analizar \"gente que haya tenido experiencias facultativas similares\" -> sacamos el factor temporal\n",
    "\n",
    "### Qué queremos responder?\n",
    "\n",
    "Qué electivas curso?\n",
    "\n",
    "### Cómo es el grafo?\n",
    "\n",
    "- Nodos: usuarios\n",
    "- Aristas: cursar misma materia y \"les fue parecido\" -> -1 (en el final), 4-5, 6-7, 8-10\n",
    "- Peso: porcentaje de similitud de materia+nota\n",
    "\n",
    "### Dos formas de armar el análisis\n",
    "- sólo correr sobre materias electivas\n",
    "- correr sobre todas las materias, pero filtrar el output por electivas\n",
    "\n",
    "### Ejemplo de conexión:\n",
    "\n",
    "X y yo cursamos ..."
   ]
  },
  {
   "cell_type": "code",
   "execution_count": null,
   "id": "71577f73-52b6-4a58-afaa-9c1a2d6d18f2",
   "metadata": {},
   "outputs": [],
   "source": []
  }
 ],
 "metadata": {
  "kernelspec": {
   "display_name": "Python 3 (ipykernel)",
   "language": "python",
   "name": "python3"
  }
 },
 "nbformat": 4,
 "nbformat_minor": 5
}
