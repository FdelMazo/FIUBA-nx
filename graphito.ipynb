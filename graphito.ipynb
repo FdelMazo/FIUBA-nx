{
 "cells": [
  {
   "cell_type": "markdown",
   "id": "46eee65d",
   "metadata": {},
   "source": [
    "# Graphito\n",
    "\n",
    "TO DO: Copiar template y analisis de grafazo\n",
    "\n",
    "```\n",
    "# \"que cuatrimestre armo?\" -> Graphito\n",
    "---\n",
    "\n",
    "# Vamos a armar un graphito: Analizar \"gente que se haya armado cuatris parecidos al mio\" -> Ahora tenemos factor temporal \"local\": No me importa que haya sido en el 2022C1, pero si me importa que las materias que curse el mismo cuatri esten en el mismo bucket\n",
    "# nodos -> usuarios\n",
    "# flechas -> compartir N materias el en mismo cuatri\n",
    "# peso -> Cuantas materias compartimos (2, 3, 4 o 5)\n",
    "\n",
    "\n",
    "---\n",
    "# \"que tan recursante sos? // que tan social ;) sos? \"  \n",
    "Tenemos ganas de hacer un grafo en el que no sea multigrafo ni sea con peso, ya que eran los grafos que mas abundaban en los ejemplos y en las posibilidades a lo largo de la materia.\n",
    "# nodos -> alumnes\n",
    "# flechas -> cursar al menos 1 vez la misma materia, el mismo cuatrimetre\n",
    "```"
   ]
  },
  {
   "cell_type": "code",
   "execution_count": null,
   "id": "ee52c2b7",
   "metadata": {},
   "outputs": [],
   "source": [
    "import pandas as pd\n",
    "\n",
    "df = pd.read_pickle('fiuba-map-data.pickle')\n",
    "df.sample(3)"
   ]
  },
  {
   "cell_type": "code",
   "execution_count": null,
   "id": "3d982877-9fe6-4dc9-9ebf-0612560514c8",
   "metadata": {},
   "outputs": [],
   "source": [
    "df_rel = df[['Padron', 'materia_id', 'materia_cuatrimestre']].copy()\n",
    "\n",
    "# Sacamos a aquellos que no ordenan su carrera por cuatrimestres\n",
    "df_rel.dropna(subset=['materia_cuatrimestre'], inplace=True)\n",
    "\n",
    "df_rel.sample(3)"
   ]
  },
  {
   "cell_type": "code",
   "execution_count": null,
   "id": "5da0554b-1af6-4a6f-9853-e4951897b09a",
   "metadata": {},
   "outputs": [],
   "source": [
    "# Juntamos el grafo con si mismo para tener la similiritud entre cada par de padrones\n",
    "df_simil = pd.merge(df_rel, df_rel, on=['materia_id', 'materia_cuatrimestre'])\n",
    "df_simil = df_simil[df_simil['Padron_x'] != df_simil['Padron_y']]\n",
    "\n",
    "df_simil['Padron_min'] = df_simil[['Padron_x', 'Padron_y']].min(axis=1)\n",
    "df_simil['Padron_max'] = df_simil[['Padron_x', 'Padron_y']].max(axis=1)\n",
    "df_simil = df_simil.drop_duplicates(['Padron_min', 'Padron_max', 'materia_id']).reset_index()\n",
    "\n",
    "df_simil = df_simil[['Padron_x', 'Padron_y', 'materia_id', 'materia_cuatrimestre']]\n",
    "df_simil.rename(columns = {'Padron_x':'src_padron', 'Padron_y':'dst_padron'}, inplace = True)\n",
    "display(df_simil.sample(3))\n",
    "df_simil.shape"
   ]
  },
  {
   "cell_type": "code",
   "execution_count": null,
   "id": "38f76bcb-7680-4e21-8628-20fd6af3bb4c",
   "metadata": {},
   "outputs": [],
   "source": [
    "import networkx as nx\n",
    "import matplotlib.pyplot as plt\n",
    "\n",
    "G = nx.from_pandas_edgelist(df_simil, \n",
    "                            source='src_padron', \n",
    "                            target='dst_padron',\n",
    "                            create_using=nx.Graph())\n",
    "\n",
    "nx.set_node_attributes(G, df_simil.to_dict('index'))\n",
    "\n",
    "print(G)"
   ]
  },
  {
   "cell_type": "code",
   "execution_count": null,
   "id": "e5aed875-5424-460d-9cb8-bac98fcc65a0",
   "metadata": {},
   "outputs": [],
   "source": [
    "import numpy as np\n",
    "import matplotlib.pyplot as plt\n",
    "import matplotlib.colors as mcolors\n",
    "import matplotlib.cm as cm\n",
    "\n",
    "def plot_centrality(centrality, g, size = 1):\n",
    "    cent = np.fromiter(centrality.values(), float)\n",
    "    sizes = [v * 500 * size for v in centrality.values()]\n",
    "    normalize = mcolors.Normalize(vmin=cent.min(), vmax=cent.max())\n",
    "    colormap = cm.YlOrRd\n",
    "    \n",
    "    plt.figure(figsize=(10, 10))\n",
    "    nx.draw(g, node_size=sizes, node_color=sizes, cmap=colormap, width = 0.01, with_labels = True, font_size= 10, pos=nx.spring_layout(g, k = 1.5))\n",
    "    plt.show()"
   ]
  },
  {
   "cell_type": "code",
   "execution_count": null,
   "id": "c011354a-f2d5-4c67-bd42-1c1b0f7fb79b",
   "metadata": {},
   "outputs": [],
   "source": [
    "k_centrality = list(nx.k_core(G, 25))\n",
    "k_graph = G.subgraph(k_centrality)\n",
    "plot_centrality(nx.degree_centrality(k_graph), k_graph)"
   ]
  },
  {
   "cell_type": "code",
   "execution_count": null,
   "id": "4009987b-9115-42c2-ae82-23fc687f0c0c",
   "metadata": {},
   "outputs": [],
   "source": [
    "#ahre dios que horrible, a seguir iterando ideas"
   ]
  },
  {
   "cell_type": "code",
   "execution_count": null,
   "id": "76badecf-048f-4eee-b5be-de75a7508268",
   "metadata": {},
   "outputs": [],
   "source": [
    "# Capaz algo asi? mmm hay que juntarse y debatir salu3\n",
    "# from graphrole import RecursiveFeatureExtractor, RoleExtractor\n",
    "# import networkx as nx\n",
    "# import matplotlib.pyplot as plt\n",
    "\n",
    "# def extract_roles_and_plot(G, title='',save = False ,file_name='', big=False):\n",
    "#     feature_extractor = RecursiveFeatureExtractor(G)\n",
    "#     features = feature_extractor.extract_features()\n",
    "#     role_extractor = RoleExtractor(n_roles=None)\n",
    "#     role_extractor.extract_role_factors(features)\n",
    "  \n",
    "#     available_colors = {'role_0':'#9B59B6', 'role_1':'#58D68D', 'role_2':'#AED6F1', 'role_3':'#F4D03F', 'role_4':'#00aa00','role_5':'#aaaa00','role_6':'#aa0000' , 'role_7':'#0000aa'}\n",
    "    \n",
    "#     colors = [available_colors[role_extractor.roles[node]] for node in G.nodes()]\n",
    "    \n",
    "#     pos = nx.kamada_kawai_layout(G)\n",
    "#     plt.figure(figsize=(15,15))\n",
    "#     plt.title(title)\n",
    "\n",
    "#     nx.draw_networkx(G, pos, nodelist=G.nodes(), node_color=colors, alpha=0.7, node_size=200, linewidths=0.5, with_labels=True, width= 0.2, font_size = 9)"
   ]
  }
 ],
 "metadata": {
  "kernelspec": {
   "display_name": "Python 3 (ipykernel)",
   "language": "python",
   "name": "python3"
  },
  "language_info": {
   "codemirror_mode": {
    "name": "ipython",
    "version": 3
   },
   "file_extension": ".py",
   "mimetype": "text/x-python",
   "name": "python",
   "nbconvert_exporter": "python",
   "pygments_lexer": "ipython3",
   "version": "3.11.1"
  },
  "vscode": {
   "interpreter": {
    "hash": "31f2aee4e71d21fbe5cf8b01ff0e069b9275f58929596ceb00d14d90e3e16cd6"
   }
  }
 },
 "nbformat": 4,
 "nbformat_minor": 5
}
