{
 "cells": [
  {
   "cell_type": "markdown",
   "id": "46eee65d",
   "metadata": {},
   "source": [
    "# Graphito: ¿Podemos decir que FIUBA es una red social?\n",
    "\n",
    "A lo largo del trabajo práctico vamos a generar diferentes grafos con el set de datos de alumnos de FIUBA. Pero para dar un primer pantallazo, vamos a conectar a aquellos alumnos que cursaron juntos alguna materia en un mismo cuatrimestre y vamos a hacer un análisis general de la misma:\n",
    "- ¿Cuál es su diámetro(largo máximo de todos los caminos mínimos)?\n",
    "- ¿Cuál es el grado promedio? ¿Les alumnes tienden a tener muchas conexiones, es decir que tienden a hacer las mismas materias con las mismas personas? ¿Cómo se distribuyen los grados?\n",
    "- ¿Cuál es el coeficiente de clustering? ¿Mis amigues son amigues entre sí?\n",
    "- ¿Tiene una componente gigante?\n",
    "- ¿Es una red aleatoria? "
   ]
  },
  {
   "cell_type": "code",
   "execution_count": null,
   "id": "ee52c2b7",
   "metadata": {},
   "outputs": [],
   "source": [
    "import pandas as pd\n",
    "import utils\n",
    "\n",
    "df = pd.read_pickle('fiuba-map-data.pickle')\n",
    "df.sample(3)"
   ]
  },
  {
   "cell_type": "code",
   "execution_count": null,
   "id": "3d982877-9fe6-4dc9-9ebf-0612560514c8",
   "metadata": {},
   "outputs": [],
   "source": [
    "df_nodos = df[df.columns & [\"Padron\", \"materia_id\", \"materia_cuatrimestre\"]]\n",
    "\n",
    "# Sacamos a aquellos que no ordenan su carrera por cuatrimestres\n",
    "df_nodos.dropna(subset=['materia_cuatrimestre'], inplace=True)\n",
    "# Sacamos a aquellos que solo agregaron 1 o 2 cuatrimetres a modo de prueba\n",
    "df_nodos = df_nodos.groupby(['Padron', 'materia_cuatrimestre']).filter(lambda x: len(x)>2)\n",
    "\n",
    "df_nodos.sample(3)"
   ]
  },
  {
   "cell_type": "code",
   "execution_count": null,
   "id": "5da0554b-1af6-4a6f-9853-e4951897b09a",
   "metadata": {},
   "outputs": [],
   "source": [
    "df_red = utils.construir_df_pareando_padrones_por(df_nodos, 'materia_cuatrimestre')\n",
    "\n",
    "df_red = df_red.drop_duplicates(['Padron_min', 'Padron_max']).reset_index()\n",
    "df_red = df_red[['Padron_x', 'Padron_y', 'materia_id', 'materia_cuatrimestre']]\n",
    "df_red.rename(columns = {'Padron_x':'src_padron', 'Padron_y':'dst_padron'}, inplace = True)\n",
    "\n",
    "display(df_red.sample(3))\n",
    "df_red.shape"
   ]
  },
  {
   "cell_type": "code",
   "execution_count": null,
   "id": "38f76bcb-7680-4e21-8628-20fd6af3bb4c",
   "metadata": {},
   "outputs": [],
   "source": [
    "import networkx as nx\n",
    "import matplotlib.pyplot as plt\n",
    "\n",
    "G = nx.from_pandas_edgelist(df_red, \n",
    "                            source='src_padron', \n",
    "                            target='dst_padron',\n",
    "                            create_using=nx.Graph())\n",
    "\n",
    "nx.set_node_attributes(G, df_red.to_dict('index'))\n",
    "\n",
    "print(G)"
   ]
  },
  {
   "cell_type": "code",
   "execution_count": null,
   "id": "a5db33f9-8bec-4938-aac5-25ac90bb0ade",
   "metadata": {},
   "outputs": [],
   "source": [
    "print(f\"\"\"El \\033[1mdiámetro\\033[0m de nuestra red es de {nx.diameter(G)}, y tiene mucho sentido que sea un número tan chico porque el Fiuba Map tiene cargadas las notas de alumnos desde el 2014 en adelante (aproximadamente), así que no hay tantas camadas de alumnos, sumado a que estamos filtrando por una carrera. Además de esto, los alumnos avanzan en la carrera a diferentes velocidades, por lo que hay recursantes que cursan con varias camadas. Teniendo en cuenta estos tres factores, hace que la mayoría de los nodos en el grafo están muy conectados. Es interesante también ver que la \\033[1mdistancia promedio de la red\\033[0m de nuestra red es de {nx.average_shortest_path_length(G)}, lo cual se relaciona mucho a tener un diámetro tan pequeño.\\n\"\"\")\n",
    "\n",
    "utils.plot_diametro(G)"
   ]
  },
  {
   "cell_type": "code",
   "execution_count": null,
   "id": "04096f17-4203-439a-ad95-0b1fa57f8ffd",
   "metadata": {},
   "outputs": [],
   "source": [
    "print(f\"\"\"El \\033[1mgrado promedio de la red\\033[0m es de {sum([n[1] for n in G.degree()]) / len(G):.2f}. Sin embargo la distribución de los grados es uniforme, y eso se debe a que por un lado tenemos alumnes con gran antigüedad(los que escriben este TP) y por otro lado alumnes que recién arrancan las cursadas. Es interesante pensar, que a medida que los años pasen, la distribución va a inclinarse más a los números altos (que es algo que ya podemos notar).\\n\"\"\")\n",
    "\n",
    "utils.plot_distribucion_grados([G])"
   ]
  },
  {
   "cell_type": "code",
   "execution_count": null,
   "id": "abb1e0ad-b17c-43da-adb4-f2fa24eab9e0",
   "metadata": {},
   "outputs": [],
   "source": [
    "print(f\"\"\"El \\033[1mclustering\\033[0m es la probabilidad de que dos vértices adyacentes de A sean adyacentes entre sí. El clustering promedio de esta red es {\"%3.4f\"%nx.average_clustering(G)}. En redes sociales tenemos en general un coeficiente de Clustering alto, aca podemos notar uno bastante alto. Un ejemplo claro es nuestra bella amistad con uno de los integrantes del trabajo. Un amigue A curso con B y nos presentó a B, desde entonces cursamos todas las materias juntes. \"\"\")\n",
    "\n",
    "utils.plot_clustering(G)"
   ]
  },
  {
   "cell_type": "code",
   "execution_count": null,
   "id": "048292d0-9274-4fed-855b-2c78462317ef",
   "metadata": {},
   "outputs": [],
   "source": [
    "print(f\"\"\"Por último, la componente {\"es conexa\" if nx.is_connected(G) else \"no es conexa\"}, es decir que tenemos una \\033[1mcomponente gigante\\033[0m.\\n\"\"\")"
   ]
  },
  {
   "cell_type": "markdown",
   "id": "bd65156d-61f2-4ae6-96b2-000125668a3a",
   "metadata": {},
   "source": [
    "Ahora, vamos a realizar una simulación de un modelado de **Erdös-Rényi** y un modelado de **Preferential Attachment** (ley de potencias) que correspondan a los parámetros de nuestra red, para luego poder compararlos y poder entender si nuestra red es aleatoria. Para eso vamos a conocer el diámetro, grado promedio, distancia promedio, clustering promedio y si se trata de una componente gigante. Al finalizar, vamos realizar una representación de anonymous walks para cada una de las redes y vamos a determinar por distancia coseno cuál sería la simulación más afín y por qué.\n",
    "\n",
    "> El modelo Erdös-Rényi se utiliza para crear redes aleatorias en las redes sociales. En el modelo Erdös-Rényi, se tiene que un nuevo nodo se enlaza con igual probabilidad con el resto de la red, es decir posee una independencia estadística con el resto de nodos de la red\n",
    "\n",
    "> Para el modelo de Preferential Attachment usamos un algoritmo que se denomina Modelo de Barabási–Albert el cual genera redes aleatorias complejas empleando una regla o mecanismo denominado conexión preferencial. Las redes generadas por este algoritmo poseen una distribución de grado de tipo potencia."
   ]
  },
  {
   "cell_type": "code",
   "execution_count": null,
   "id": "2172b2d9-5295-403f-85ad-b50a0487b6b7",
   "metadata": {},
   "outputs": [],
   "source": [
    "g_erdos = nx.erdos_renyi_graph(G.number_of_nodes(), 0.6)\n",
    "print(f\"\"\"\n",
    "Red aleatoria Erdös-Renyi\n",
    "  El diámetro de la red: {nx.diameter(g_erdos)}\n",
    "  El grado promedio de la red: {sum([n[1] for n in g_erdos.degree()]) / len(g_erdos):.2f}\n",
    "  La distancia promedio de la red: {nx.average_shortest_path_length(g_erdos)}\n",
    "  Clustering promedio: {\"%3.4f\"%nx.average_clustering(g_erdos)}\n",
    "  Puentes globales: {list(nx.bridges(g_erdos))}\n",
    "  {\"Es conexa\" if nx.is_connected(g_erdos) else \"No es conexa\"}\n",
    "\"\"\")"
   ]
  },
  {
   "cell_type": "code",
   "execution_count": null,
   "id": "cad0c393-beee-43bb-ae89-2fe17e35d446",
   "metadata": {},
   "outputs": [],
   "source": [
    "g_preferential_attachment = nx.barabasi_albert_graph(G.number_of_nodes(), G.number_of_nodes()//G.number_of_nodes())\n",
    "print(f\"\"\"\n",
    "Red aleatoria Preferential Attachment\n",
    "  El diámetro de la red: {nx.diameter(g_preferential_attachment)}\n",
    "  El grado promedio de la red: {sum([n[1] for n in g_preferential_attachment.degree()]) / len(g_preferential_attachment):.2f}\n",
    "  La distancia promedio de la red: {nx.average_shortest_path_length(g_preferential_attachment)}\n",
    "  Clustering promedio: {nx.average_clustering(g_preferential_attachment)}\n",
    "  {\"Es conexa\" if nx.is_connected(g_preferential_attachment) else \"No es conexa\"}\n",
    "\"\"\")"
   ]
  },
  {
   "cell_type": "code",
   "execution_count": null,
   "id": "ea7e9e59-839d-4f64-959e-b147c1e28ae1",
   "metadata": {},
   "outputs": [],
   "source": [
    "aw_erdos = utils.anoymous_walks(g_erdos)\n",
    "aw_preferential = utils.anoymous_walks(g_preferential_attachment)\n",
    "aw_original = utils.anoymous_walks(G)\n",
    "\n",
    "utils.plot_anoymous_walks([aw_original, aw_erdos, aw_preferential])"
   ]
  },
  {
   "cell_type": "code",
   "execution_count": null,
   "id": "3d3df902-c38f-4923-bd8b-976e35c1f4e8",
   "metadata": {},
   "outputs": [],
   "source": [
    "from numpy import linalg as LA\n",
    "import numpy as np\n",
    "\n",
    "print(f\"\"\"\n",
    "Las leyes de potencias aparecen de la \\033[1m ventaja acumulativa\\033[0m. Esto puede verse como un desbalance desproporcionado entre los que tienen muchos contactos, y los que tienen pocos. Es claro que el grafon no iba a ser similar a el grafo generado por Barabási–Albert, ya que no tiene sentido que un alumno tenga muchísimas aristas, mientras que otros tengan pocas ya que hay muchas materias en común. La distancia de coseno entre nuestro grafon y el grafo aleatorio es de {1 - np.inner(aw_original[7],  aw_preferential[7]) / (LA.norm(aw_original[7]) * LA.norm( aw_preferential[7]))}. \\n\n",
    "En cambio, al compararlo con el grafo generado con Erdös Renyi, podemos encontrar más similitudes. A diferencia del anterior, todos los nodos tienen probabilidad de contar con muchas aristas, dejando un grafo más real y parecido a una red de una Universidad en donde todos los alumnos tienden a cursar materias similares. La distancia de coseno entre los mismos {1 - np.inner(aw_original[7],  aw_erdos[7]) / (LA.norm(aw_original[7]) * LA.norm(aw_erdos[7]))}\n",
    "\"\"\")"
   ]
  },
  {
   "cell_type": "code",
   "execution_count": null,
   "id": "8bd69e13-7786-4d04-b227-ef02a8f61c72",
   "metadata": {},
   "outputs": [],
   "source": [
    "utils.plot_distribucion_grados([G, g_erdos, g_preferential_attachment])"
   ]
  }
 ],
 "metadata": {
  "kernelspec": {
   "display_name": "Python 3 (ipykernel)",
   "language": "python",
   "name": "python3"
  },
  "language_info": {
   "codemirror_mode": {
    "name": "ipython",
    "version": 3
   },
   "file_extension": ".py",
   "mimetype": "text/x-python",
   "name": "python",
   "nbconvert_exporter": "python",
   "pygments_lexer": "ipython3",
   "version": "3.9.6"
  }
 },
 "nbformat": 4,
 "nbformat_minor": 5
}
