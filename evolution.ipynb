{
 "cells": [
  {
   "cell_type": "markdown",
   "id": "963cdaf0-1eb2-4238-8fb7-66f584ca8a28",
   "metadata": {},
   "source": [
    "# Evolución del FIUBA map"
   ]
  },
  {
   "cell_type": "markdown",
   "id": "6554b57b-a1fb-4057-a33b-6db6421f8939",
   "metadata": {},
   "source": [
    "En este caso, vamos a analizar cómo evoluciona la red del FIUBA map respecto a alumnos que alguna vez cursaron juntos.\n",
    "El grafo que armaremos será de alumnos (nodos) que se conectan si alguna vez cursaron juntos una materia (aristas)."
   ]
  },
  {
   "cell_type": "code",
   "execution_count": null,
   "id": "2252160d-d20c-4e87-a4d7-a70246e8be2d",
   "metadata": {},
   "outputs": [],
   "source": [
    "import pandas as pd\n",
    "import networkx as nx\n",
    "import matplotlib.pyplot as plt\n",
    "import utils"
   ]
  },
  {
   "cell_type": "code",
   "execution_count": null,
   "id": "0f40bbba-168c-4978-a691-6a09d15c36fb",
   "metadata": {},
   "outputs": [],
   "source": [
    "df = pd.read_pickle('fiuba-map-data.pickle')\n",
    "df.sample(3)"
   ]
  },
  {
   "cell_type": "code",
   "execution_count": null,
   "id": "7c21fea3-b6b3-4ba1-94f8-2d8ac9597abc",
   "metadata": {},
   "outputs": [],
   "source": [
    "df_rel = df[['Padron', 'materia_id', 'materia_cuatrimestre']].copy()\n",
    "\n",
    "# Sacamos a quienes no ordenan su carrera por cuatrimestres\n",
    "df_rel.dropna(subset=['materia_cuatrimestre'], inplace=True)\n",
    "\n",
    "df_simil = pd.merge(df_rel, df_rel, on=['materia_id', 'materia_cuatrimestre'])\n",
    "df_simil = df_simil[df_simil['Padron_x'] != df_simil['Padron_y']]\n",
    "df_simil = df_simil[['Padron_x', 'Padron_y', 'materia_cuatrimestre']]\n",
    "df_simil = df_simil.sort_values(by=['materia_cuatrimestre'])\n",
    "df_simil.head(3)"
   ]
  },
  {
   "cell_type": "code",
   "execution_count": null,
   "id": "4142b220-4c51-46c7-be23-1a99a0c2c3a8",
   "metadata": {},
   "outputs": [],
   "source": [
    "# tomamos los cuatrimestres hasta la actualidad, sin tener en cuenta cuatrimestres que no pasaron porque la cantidad de nodos se mantiene constante\n",
    "cuatris = df_simil[df_simil['materia_cuatrimestre'] < 2023]['materia_cuatrimestre'].unique()\n",
    "cuatris"
   ]
  },
  {
   "cell_type": "code",
   "execution_count": null,
   "id": "117bae58-6731-4c2d-96ef-771fa910270a",
   "metadata": {},
   "outputs": [],
   "source": [
    "graphs = []\n",
    "for cuatri in cuatris:\n",
    "    df_simil_cuatri = df_simil[df_simil['materia_cuatrimestre'] <= cuatri]\n",
    "    G = nx.from_pandas_edgelist(df_simil_cuatri, \n",
    "                                source='Padron_x', \n",
    "                                target='Padron_y',\n",
    "                                create_using=nx.Graph())\n",
    "    graphs.append((cuatri, G))\n",
    "    print(f\"\"\"cuatri: {cuatri} - nodos: {len(G)} - aristas: {len(G.edges)} - diametro: {nx.diameter(G)} - grado promedio: {sum([n[1] for n in G.degree()]) / len(G):.2f}\"\"\")\n",
    "\n",
    "# fig, axs = plt.subplots(ncols=2, nrows=len(graphs)//2, figsize=(20,50))\n",
    "fig, axs = plt.subplots(ncols=7, nrows=len(graphs)//7, figsize=(20,5))\n",
    "ax = axs.flatten()\n",
    "for i, g in enumerate(graphs):\n",
    "    ax[i].set_title(g[0])\n",
    "    nx.draw_networkx(g[1], pos=nx.kamada_kawai_layout(G), width=0.1 if i < 5 else 0.01, node_size=20, with_labels=False, ax=ax[i])"
   ]
  },
  {
   "cell_type": "markdown",
   "id": "531f8318-ebed-4a0e-b2bc-7c6f9d400b8f",
   "metadata": {},
   "source": [
    "Lo primero que podemos notar es que, a lo largo del tiempo, las aristas crecen mucho más rápido que los nodos (ya veremos en qué proporción), y en consecuencia el diámetro se mantiene constante casi durante toda la evolución del grafo."
   ]
  },
  {
   "cell_type": "markdown",
   "id": "f05eb7c4-fd9a-4b42-8f11-f5bb63fe1389",
   "metadata": {},
   "source": [
    "## Evolución macroscópica"
   ]
  },
  {
   "cell_type": "markdown",
   "id": "4e7a1ba0-acf4-4d62-ad4a-5836dee2b9e5",
   "metadata": {},
   "source": [
    "A continuación analizaremos la relación entre la cantidad de nodos y la cantidad de aristas a lo largo del tiempo"
   ]
  },
  {
   "cell_type": "code",
   "execution_count": null,
   "id": "2d322c0f-c378-4d6f-b201-f6a7da17061b",
   "metadata": {},
   "outputs": [],
   "source": []
  }
 ],
 "metadata": {
  "kernelspec": {
   "display_name": "Python 3 (ipykernel)",
   "language": "python",
   "name": "python3"
  }
 },
 "nbformat": 4,
 "nbformat_minor": 5
}
