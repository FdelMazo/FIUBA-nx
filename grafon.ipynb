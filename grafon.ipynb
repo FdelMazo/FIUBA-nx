{
 "cells": [
  {
   "cell_type": "markdown",
   "id": "7d3e4e83-58e0-457f-bd75-abf4b9337bed",
   "metadata": {},
   "source": [
    "# Grafon\n",
    "\n",
    "### Qué va a analizar nuestro grafo?\n",
    "\n",
    "Analizar \"gente que haya tenido experiencias facultativas similares\" -> sacamos el factor temporal\n",
    "\n",
    "### Qué queremos responder?\n",
    "\n",
    "Qué electivas curso?\n",
    "\n",
    "### Cómo es el grafo?\n",
    "\n",
    "- Nodos: usuarios\n",
    "- Aristas: cursar misma materia y \"les fue parecido\" -> -1 (en el final), 4-5, 6-7, 8-10\n",
    "- Peso: porcentaje de similitud de materia+nota\n",
    "\n",
    "### Dos formas de armar el análisis\n",
    "- sólo correr sobre materias electivas\n",
    "- correr sobre todas las materias, pero filtrar el output por electivas\n",
    "\n",
    "### Ejemplo de conexión:\n",
    "\n",
    "X y yo cursamos ..."
   ]
  },
  {
   "cell_type": "code",
   "execution_count": null,
   "id": "71577f73-52b6-4a58-afaa-9c1a2d6d18f2",
   "metadata": {},
   "outputs": [],
   "source": [
    "import pandas as pd\n",
    "\n",
    "df = pd.read_pickle('fiuba-map-data.pickle')\n",
    "df.tail(3)"
   ]
  },
  {
   "cell_type": "code",
   "execution_count": null,
   "id": "aa0663cb-1172-4be0-a27a-8f70e52c0156",
   "metadata": {},
   "outputs": [],
   "source": [
    "categories = {\n",
    "    4: 0,\n",
    "    5: 0,\n",
    "    6: 1,\n",
    "    7: 1,\n",
    "    8: 2,\n",
    "    9: 2,\n",
    "    10: 2\n",
    "}\n",
    "\n",
    "df_rel = df[['Padron', 'materia_id', 'materia_nota']].copy()\n",
    "\n",
    "# Sacamos materias en final y a cursar\n",
    "df_rel = df_rel[df_rel['materia_nota'] >= 4]\n",
    "# Sacamos gente que no le pone la nota a su fiubamap\n",
    "df_rel['promedio'] = df_rel.groupby('Padron')['materia_nota'].transform('mean')\n",
    "df_rel = df_rel[df_rel['promedio'] > 5]\n",
    "\n",
    "df_rel['materia_categoria'] = df_rel['materia_nota'].apply(lambda x: categories[x])\n",
    "df_simil = pd.merge(df_rel, df_rel, on=['materia_id', 'materia_categoria'])\n",
    "df_simil = df_simil[df_simil['Padron_x'] != df_simil['Padron_y']]\n",
    "df_simil = df_simil.reset_index()\n",
    "df_simil"
   ]
  },
  {
   "cell_type": "markdown",
   "id": "c4cd9b1c-0bee-431f-b8b0-1a913a155481",
   "metadata": {},
   "source": [
    "Esto resultaría en un grafo con pocos nodos y 1407892 de aristas, es decir demasiadas aristas. Por eso se busca un enfoque de unificar aristas mediante algún tipo de criterio y de esta forma tener sólo una arista entre padrones."
   ]
  },
  {
   "cell_type": "code",
   "execution_count": null,
   "id": "2ac5eee6-7040-4b7e-86fc-1b0cbdba770f",
   "metadata": {},
   "outputs": [],
   "source": [
    "import numpy as np\n",
    "\n",
    "df_simil_agg = df_simil.groupby(['Padron_x', 'Padron_y']).agg(cant=('materia_id', 'count'))\n",
    "df_simil_agg = df_simil_agg.reset_index()\n",
    "\n",
    "df_simil_agg['Padron_min'] = df_simil_agg[['Padron_x', 'Padron_y']].min(axis=1)\n",
    "df_simil_agg['Padron_max'] = df_simil_agg[['Padron_x', 'Padron_y']].max(axis=1)\n",
    "df_simil_agg = df_simil_agg.drop_duplicates(['Padron_min', 'Padron_max']).reset_index()\n",
    "\n",
    "df_simil_agg['inv_cant'] = df_simil_agg['cant'].max() - df_simil_agg['cant'] + 1\n",
    "df_simil_agg"
   ]
  },
  {
   "cell_type": "code",
   "execution_count": null,
   "id": "7b6e85c8-2f37-4e64-88d2-e06e4e5b8f5c",
   "metadata": {},
   "outputs": [],
   "source": [
    "df_simil_agg.sort_values('cant', ascending=False).head(25)"
   ]
  },
  {
   "cell_type": "code",
   "execution_count": null,
   "id": "1226ed0c-90e3-4082-b6a4-c7924a9449c2",
   "metadata": {},
   "outputs": [],
   "source": [
    "import networkx as nx\n",
    "G = nx.from_pandas_edgelist(df_simil_agg, \n",
    "                            source='Padron_x', \n",
    "                            target='Padron_y', \n",
    "                            edge_attr='inv_cant',\n",
    "                            create_using=nx.Graph())\n",
    "\n",
    "print(G)"
   ]
  },
  {
   "cell_type": "code",
   "execution_count": null,
   "id": "04a057e7-5d82-4d6c-9c34-3610ec7dff0a",
   "metadata": {},
   "outputs": [],
   "source": [
    "G.edges[('-1', '0000')]"
   ]
  },
  {
   "cell_type": "code",
   "execution_count": null,
   "id": "f7589e3c-3398-489b-94cb-0986a7e8590d",
   "metadata": {},
   "outputs": [],
   "source": [
    "# Veamos el grafo\n",
    "import matplotlib.pyplot as plt\n",
    "plt.figure(figsize=(20,10))\n",
    "nx.draw_networkx(G, pos=nx.circular_layout(G), width=0.005, node_size=50, with_labels=False)"
   ]
  },
  {
   "cell_type": "markdown",
   "id": "7cd58a6f-f486-4067-a69c-05954f08f013",
   "metadata": {},
   "source": [
    "## Stats generales del grafo"
   ]
  },
  {
   "cell_type": "code",
   "execution_count": null,
   "id": "5bf529d8-bffb-44b0-b9e4-42e2d84b4b15",
   "metadata": {},
   "outputs": [],
   "source": [
    "print(f\"\"\"\n",
    "  El diámetro de la red: {nx.diameter(G)}\n",
    "  El grado promedio de la red: {sum([n[1] for n in G.degree()]) / len(G):.2f}\n",
    "  TODO: Los allegados promedio de la red: \n",
    "  Puentes globales: {list(nx.bridges(G))}\n",
    "\"\"\")"
   ]
  },
  {
   "cell_type": "markdown",
   "id": "4d3657d1-1d48-4288-af12-4f5dbedb7a4c",
   "metadata": {},
   "source": [
    "## Comunidades"
   ]
  },
  {
   "cell_type": "code",
   "execution_count": null,
   "id": "ff717e7e-23cb-4138-8755-26a97cc50f44",
   "metadata": {},
   "outputs": [],
   "source": [
    "from networkx.algorithms import community\n",
    "louvain = community.louvain_communities(G, weight='inv_cant', resolution=1.02)"
   ]
  },
  {
   "cell_type": "code",
   "execution_count": null,
   "id": "a2fd3547-52e2-46af-810f-db2a03afbd2d",
   "metadata": {},
   "outputs": [],
   "source": [
    "len(louvain)"
   ]
  },
  {
   "cell_type": "code",
   "execution_count": null,
   "id": "d2bb13c9-6200-411c-bb04-5b88fd25a158",
   "metadata": {},
   "outputs": [],
   "source": [
    "from setup import PADRON, CARRERA, plan_estudios\n",
    "\n",
    "def padrones_similares(padron, resolution):\n",
    "    louvain = community.louvain_communities(G, weight='inv_cant', resolution=resolution)\n",
    "    return list(filter(lambda x: padron in x, louvain))[0]\n",
    "\n",
    "def materias_padron(padron):\n",
    "    return df[(df['Padron'] == padron) & (df['materia_nota'] >= 4)]['materia_id'].values\n",
    "\n",
    "def sugerir_electivas(padron, resolution=1):\n",
    "    padrones = padrones_similares(padron, resolution)\n",
    "    df_sugerencias = df_rel[df_rel['Padron'].isin(padrones)].groupby('materia_id').agg(cant=('materia_id', 'count'))\n",
    "    df_sugerencias = df_sugerencias[~df_sugerencias.index.isin(materias_padron(padron))]\n",
    "    \n",
    "    df_materias = pd.read_json(plan_estudios(CARRERA))\n",
    "    df_sugerencias = pd.merge(df_sugerencias, df_materias, left_on='materia_id', right_on=\"id\")\n",
    "    df_sugerencias = df_sugerencias[df_sugerencias['categoria'] == 'Materias Electivas']\n",
    "    df_sugerencias = df_sugerencias[['id', 'materia', 'creditos', 'cant']].sort_values('cant', ascending=False)\n",
    "    return df_sugerencias.reset_index(drop=True)\n",
    "\n",
    "sugerir_electivas(PADRON, 1.03)"
   ]
  }
 ],
 "metadata": {
  "kernelspec": {
   "display_name": "Python 3 (ipykernel)",
   "language": "python",
   "name": "python3"
  }
 },
 "nbformat": 4,
 "nbformat_minor": 5
}
