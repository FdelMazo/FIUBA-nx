{
 "cells": [
  {
   "cell_type": "markdown",
   "id": "5b251766",
   "metadata": {},
   "source": [
    "# Grafazo: Con que alumnos puedo hacer TPs en un futuro?\n",
    "\n",
    "Este grafo se encarga de analizar \"camadas\" de gente: grupos de alumnos que cursaron varias materias juntos. \n",
    "\n",
    "Una vez que podamos distinguir esas camadas, ya tenemos posibles compañeros de TPs. Después, dentro de mi propia camada, con quien más quiero hacer un TP es con los alumnos que se parezcan a mí académicamente. Entonces tenemos que pasar a tener en cuenta la nota de las materias. La idea final es que yo me haga compañero de alumnos que tiendan a cursar las mismas materias que yo, y que tengamos el mismo nivel académico.\n",
    "\n",
    "Ojo, este grafo no apunta a responder *en que* materia hacer tps juntos: eso involucraría fijarse qué curso cada alumno y fijarse que personas todavía no cursaron lo mismo. Ya con solo ser de la misma camada sabemos que nos quedan materias en las que nos vamos a cruzar. La idea es un poco mas generalizada a encontrar compañeros de clase, no importa en que materia.\n",
    "\n",
    "Por ejemplo: como Rosita y yo cursamos las mismas materias por dos años, somos de la misma camada. Y encima, como siempre nos sacamos notas parecidas, debe ser un buen compañero de TP para mí."
   ]
  },
  {
   "cell_type": "markdown",
   "id": "94e094a2-12f6-4c82-ae63-3eb4807bf7ad",
   "metadata": {},
   "source": [
    "## Cómo es el grafo?\n",
    "\n",
    "El grafo analizado va a ser un multigrafo: entre cada par de alumnos puede haber varias aristas\n",
    "\n",
    "- Nodos: alumnos\n",
    "- Aristas: conectar dos alumnos que hayan cursado la misma materia el mismo cuatrimestre\n",
    "- Peso de las aristas: la relacion entre las notas de esa cursada. Mientras más parecidos somos, más cercano estamos, y por ende menor peso hay en nuestra arista. Lo calculamos como la diferencia entre las notas.\n",
    "    - Si me saque un 10 y vos un 10, nuestro peso es 0.\n",
    "    - Si me saque un 4 y vos un 10, nuestro peso es 6.\n",
    "    - En el caso de que yo estoy en final y vos aprobaste, hardcodeamos el peso a 7"
   ]
  },
  {
   "cell_type": "code",
   "execution_count": null,
   "id": "b5fe7491",
   "metadata": {},
   "outputs": [],
   "source": [
    "import pandas as pd\n",
    "\n",
    "df = pd.read_pickle('fiuba-map-data.pickle')\n",
    "df.sample(3)"
   ]
  },
  {
   "cell_type": "code",
   "execution_count": null,
   "id": "b82e9780",
   "metadata": {},
   "outputs": [],
   "source": [
    "def corrnotas(row):\n",
    "    if ((row['src_nota'] == -1 and row['dst_nota'] != -1) or\n",
    "        (row['dst_nota'] == -1 and row['src_nota'] != -1)):\n",
    "        return 7\n",
    "    return abs(row['src_nota'] - row['dst_nota'])\n",
    "\n",
    "df_nodes_metadata = df[df.columns & [\"Padron\", \"Carrera\", \"aplazos\", \"optativas\", \"checkboxes\"]]\n",
    "df_nodes_metadata = df_nodes_metadata[df_nodes_metadata[\"aplazos\"].notnull() | df_nodes_metadata[\"optativas\"].notnull()]\n",
    "df_nodes_metadata = df_nodes_metadata.groupby([\"Padron\", \"Carrera\"], as_index=False).first()\n",
    "\n",
    "df_nodes = df[[\"Padron\", \"Carrera\", \"Orientacion\", \"Final de Carrera\"]]\n",
    "df_nodes = df_nodes.drop_duplicates()\n",
    "df_nodes = df_nodes.merge(df_nodes_metadata, how=\"outer\")\n",
    "df_nodes.set_index(\"Padron\", inplace=True)\n",
    "display(df_nodes.dropna().sample(3))\n",
    "\n",
    "from itertools import combinations\n",
    "df_edges = (df[df['materia_cuatrimestre'].notnull()]\n",
    "     .groupby(['materia_id', 'materia_cuatrimestre'])[['Padron', 'materia_nota']]\n",
    "     .apply(lambda x : list(combinations(x.values,2)))\n",
    "     .apply(pd.Series)\n",
    "     .stack()\n",
    "     .reset_index(level=0, name='Usuarios')\n",
    ")\n",
    "\n",
    "df_edges = df_edges.reset_index()\n",
    "df_edges[['src', 'dst']] = df_edges['Usuarios'].tolist()\n",
    "df_edges[['src_padron', 'src_nota']] = df_edges['src'].tolist()\n",
    "df_edges[['dst_padron', 'dst_nota']] = df_edges['dst'].tolist()\n",
    "\n",
    "# Nos quedamos solo con las materias aprobadas (nota > 0) o en final (-1)\n",
    "df_edges = df_edges[(df_edges['src_nota'] != -2) & (df_edges['src_nota'] != 0)]\n",
    "df_edges = df_edges[(df_edges['dst_nota'] != -2) & (df_edges['dst_nota'] != 0)]\n",
    "\n",
    "# Calculamos la correlacion entre las notas\n",
    "df_edges['corrnotas'] = df_edges.apply(corrnotas, axis=1)\n",
    "\n",
    "df_edges = df_edges[['src_padron', 'dst_padron', 'materia_cuatrimestre', 'materia_id', 'src_nota', 'dst_nota', 'corrnotas']]\n",
    "display(df_edges.dropna().sample(3))"
   ]
  },
  {
   "cell_type": "code",
   "execution_count": null,
   "id": "afab6a0f",
   "metadata": {},
   "outputs": [],
   "source": [
    "import networkx as nx\n",
    "import matplotlib.pyplot as plt\n",
    "import utils\n",
    "\n",
    "G = nx.from_pandas_edgelist(df_edges, \n",
    "                            source='src_padron', \n",
    "                            target='dst_padron', \n",
    "                            edge_attr=['materia_id','materia_cuatrimestre', 'corrnotas'], \n",
    "                            create_using=nx.MultiGraph())\n",
    "\n",
    "nx.set_node_attributes(G, df_nodes.to_dict('index'))\n",
    "\n",
    "print(G)\n",
    "print(f\"\"\"\n",
    "  El diámetro de la red: {nx.diameter(G)}\n",
    "  El grado promedio de la red: {sum([n[1] for n in G.degree()]) / len(G):.2f}\n",
    "  Puentes globales: {list(nx.bridges(G))}\n",
    "\"\"\")\n",
    "\n",
    "fig, axes = plt.subplots(nrows=1, ncols=2, figsize=(30,10))\n",
    "ax = axes.flatten()\n",
    "\n",
    "nx.draw_networkx(G, pos=nx.circular_layout(G), width=0.005, node_size=50, with_labels=False, ax=ax[0])\n",
    "\n",
    "utils.plot_diametro(G)"
   ]
  },
  {
   "cell_type": "code",
   "execution_count": null,
   "id": "ec39cc37",
   "metadata": {},
   "outputs": [],
   "source": [
    "# ToDo: graficar un sample con esto!\n",
    "\n",
    "# # Solo como demo para cuando tenemos pocos nodos: ahora veamos el grafo, pero dibujemos todas las aristas\n",
    "# # Robadisimo de: https://stackoverflow.com/a/60638452\n",
    "# pos = nx.random_layout(G)\n",
    "# nx.draw_networkx_nodes(G, pos)\n",
    "# ax = plt.gca()\n",
    "# for e in G.edges:\n",
    "#     ax.annotate(\"\",\n",
    "#                 xy=pos[e[0]], xycoords='data',\n",
    "#                 xytext=pos[e[1]], textcoords='data',\n",
    "#                 arrowprops=dict(arrowstyle=\"-\", color=\"0.5\",\n",
    "#                                 connectionstyle=\"arc3,rad=rr\".replace('rr',str(0.3*e[2]))),\n",
    "#                 )\n",
    "# plt.axis('off')\n",
    "# plt.show()"
   ]
  },
  {
   "cell_type": "markdown",
   "id": "fefd272c-ad4f-4d7b-bfb5-fb1c650079f2",
   "metadata": {},
   "source": [
    "# Homofilia\n",
    "\n",
    "> La homofilia nos explica otra forma en la que los vínculos se forman. Esto puede depender de diferentes características, por ejemplo podemos unir personas por género, edad, nacionalidad, intereses, creencias\n",
    "\n",
    "Cuando pensamos en personas en la vida cotidiana y cómo estas podrían vincularse, lo más natural es pensar en edad, intereses, ideología, etc. Cuando pensamos en alumnos de una universidad a lo largo de su carrera, no siempre eso es lo que une a la gente. La edad capaz ya no es un factor central, ya que desde la primera materia de cualquier carrera podemos encontrar personas recién salidas del secundario, como gente de mediana y alta edad. Cuando nos encontramos buscando una característica que vincule a los alumnos, lo primero que pensamos es en las **camadas**, aquellas personas con las que tendes a cursar más materias.\n",
    "\n",
    "Para realizar este análisis vamos a dividir al alumnado en 4 camadas. La camada número 1 estará compuesta por aquellos padrones que comienzan con 100 o inferiores. Las siguientes camadas son desde los padrones 101 a 104; de 105 a 109;y de 110 a 120(siendo esta bastante chica por ahora)."
   ]
  },
  {
   "cell_type": "code",
   "execution_count": null,
   "id": "b3eeae1f-40e1-4fd5-9232-ea4b343f39c7",
   "metadata": {},
   "outputs": [],
   "source": [
    "df_camadas = df_edges.copy()\n",
    "\n",
    "# ToDo: Preferimos hacerlo con quantiles? Al tratarse de homofilia siento que esta bien por rangos pero como quieran\n",
    "def definir_camada(f):\n",
    "    if not f.isnumeric():\n",
    "        return 0\n",
    "    f = int(f)\n",
    "    if f in range(900,999) or f == 100:\n",
    "        return 1\n",
    "    if f in range(101, 104):\n",
    "        return 2\n",
    "    if f in range(105, 109):\n",
    "        return 3\n",
    "    if f in range(110, 120):\n",
    "        return 4\n",
    "    return 0\n",
    "\n",
    "df_camadas['src_camada'] = df_camadas.apply(lambda f: definir_camada(str(f.src_padron)[:3]), axis=1) \n",
    "df_camadas['dst_camada'] = df_camadas.apply(lambda f: definir_camada(str(f.dst_padron)[:3]), axis=1)\n",
    "df_camadas = df_camadas[df_camadas['src_camada'] > 0]\n",
    "df_camadas = df_camadas[df_camadas['dst_camada'] > 0]\n",
    "\n",
    "df_camadas.sample(4)"
   ]
  },
  {
   "cell_type": "markdown",
   "id": "1818bc66-bbe9-4074-bd27-bce0f54c25fa",
   "metadata": {},
   "source": [
    "#### Valores esperados\n",
    "\n",
    "$pCamadaX = # nodos de Camada X / # nodos totales$\n",
    "\n",
    "- $pCamada1 = 15064 / 53534 = 0,281 $\n",
    "- $pCamada2 = 19242 / 53534 = 0,359 $\n",
    "- $pCamada3 = 18690 / 53534 = 0,349 $\n",
    "- $pCamada4 = 538 / 53534 = 0,01 $\n",
    "\n",
    "Por lo que la probabilidad de ser de la camada 1 y compartir con alguien de la camada 1 es $pCamada1^2$, mientras que cruzarse entre camadas te da una probabilidad de $pCamada1*pCamada2*2$\n",
    "|          | Camada 1 | Camada 2 | Camada 3 | Camada 4 |\n",
    "|----------|----------|----------|----------|----------|\n",
    "| Camada 1 | 0,078    | 0,1      | 0,098    | 0,003    |\n",
    "| Camada 2 | 0,1      | 0,129    | 0,125    | 0,0035   |\n",
    "| Camada 3 | 0,098    | 0,125    | 0,122    | 0,0034   |\n",
    "| Camada 4 | 0,003    | 0,0035   | 0,0034   | 0.0001   |\n",
    "\n",
    "#### Valores encontrados"
   ]
  },
  {
   "cell_type": "code",
   "execution_count": null,
   "id": "52f7b244-9caf-4dba-a064-9a02a43a1d98",
   "metadata": {},
   "outputs": [],
   "source": [
    "df_camadas.groupby(['src_camada', 'dst_camada']).count()[[\"src_padron\"]].rename(columns={'src_padron':'Count'})"
   ]
  },
  {
   "cell_type": "markdown",
   "id": "c2c6b6fe-f445-499d-8dcd-5a28c6102a08",
   "metadata": {},
   "source": [
    "Los valores encontrados muestran claramente lo que planteamos como teoría. Aquellos alumnes que tienen padrones similares tienden a encontrarse más en las cursadas."
   ]
  },
  {
   "cell_type": "markdown",
   "id": "0fdf8612-1395-4df4-96e6-4c6fa439819d",
   "metadata": {},
   "source": [
    "## Comunidades"
   ]
  },
  {
   "cell_type": "code",
   "execution_count": null,
   "id": "9d9225e2",
   "metadata": {},
   "outputs": [],
   "source": [
    "from networkx.algorithms import community\n",
    "import matplotlib.colors as mcolors\n",
    "import random\n",
    "\n",
    "random.seed(42)\n",
    "plt.figure(figsize=(30,10))\n",
    "\n",
    "# La primera corrida solo calculamos camadas, sin darle peso a las notas. Pasamos `weight=None` a louvain\n",
    "louvain = community.louvain_communities(G, weight=None)\n",
    "draw_nodes = {}\n",
    "colors = random.sample(list(mcolors.CSS4_COLORS), len(louvain))\n",
    "for louvaincommunity, color in zip(louvain, colors):\n",
    "    draw_nodes.update({n: color for n in louvaincommunity})\n",
    "    \n",
    "plt.title(f\"{len(louvain)} Louvain Communities\")\n",
    "nx.draw_networkx(G, \n",
    "                 nodelist=draw_nodes.keys(), \n",
    "                 node_color=list(draw_nodes.values()), \n",
    "                 width=0.005, \n",
    "                 pos=nx.kamada_kawai_layout(G),\n",
    "                 font_size=10)"
   ]
  },
  {
   "cell_type": "markdown",
   "id": "e5878b6a-dbb7-4224-8d0c-4e2b2a90f41e",
   "metadata": {},
   "source": [
    "### Evaluación de comunidades por \"generación\"\n",
    "\n",
    "Ahora que ya calculamos nuestras comunidades tenemos que confirmar. Efectivamente se refieren a distintas camadas de alumnos? Alumnos que ingresaron a la facultad al mismo tiempo, por ejemplo?\n",
    "\n",
    "¿Existe correlación entre la distribución de padrones y la comunidad? De tal forma que las comunidades sean por camadas o \"generacionales\""
   ]
  },
  {
   "cell_type": "code",
   "execution_count": null,
   "id": "751b5283-fdb4-49d1-bac0-851dc18d99a5",
   "metadata": {},
   "outputs": [],
   "source": [
    "import seaborn as sns\n",
    "import numpy as np\n",
    "\n",
    "louvain_padrones = []\n",
    "for i, comunidad in enumerate(louvain):\n",
    "    for padron in comunidad:\n",
    "        louvain_padrones.append((padron, i))\n",
    "df_comunidades = pd.DataFrame(louvain_padrones, columns=[\"padron\", \"comunidad\"])\n",
    "\n",
    "# len patch for overflow\n",
    "df_temp = df_comunidades[(df_comunidades['padron'].str.isdigit()) & (df_comunidades[\"padron\"].str.len() >= 5) & (df_comunidades[\"padron\"].str.len() <= 6)].copy()\n",
    "df_temp[\"padron\"] = df_temp[\"padron\"].astype(int)\n",
    "\n",
    "# remove outliers by percentiles, stolen from https://stackoverflow.com/a/59366409\n",
    "Q1 = df_temp[\"padron\"].quantile(0.10)\n",
    "Q3 = df_temp[\"padron\"].quantile(0.90)\n",
    "IQR = Q3 - Q1\n",
    "df_comunidades = df_temp[~((df_temp[\"padron\"] < (Q1 - 1.5 * IQR)) |(df_temp[\"padron\"] > (Q3 + 1.5 * IQR)))]\n",
    "\n",
    "display(df_comunidades.sample(3))\n",
    "display(df_comunidades.groupby('comunidad').agg({'padron':[np.mean,np.std,'count']}))\n",
    "\n",
    "# TODO: play with the \"stat\" parameter. another interesting one is the \"density\" parameter\n",
    "g = sns.displot(\n",
    "    df_comunidades,\n",
    "    x=\"padron\",\n",
    "    col=\"comunidad\",\n",
    "    element=\"step\",\n",
    "    stat=\"count\",\n",
    "    common_norm=False,\n",
    ")"
   ]
  },
  {
   "cell_type": "markdown",
   "id": "c639f92a-233f-4bc0-b844-64088db42d15",
   "metadata": {},
   "source": [
    "Se puede observar una mínima correlación considerando el intervalo más frecuente de cada comunidad. Esto coincide con lo que se planteo con el concepto de homofilia."
   ]
  },
  {
   "cell_type": "code",
   "execution_count": null,
   "id": "6d2e6c3b-d73b-47b8-816c-79af15b0c84a",
   "metadata": {},
   "outputs": [],
   "source": []
  },
  {
   "cell_type": "markdown",
   "id": "25346f50-e848-451f-8833-fddee4b353cb",
   "metadata": {},
   "source": [
    "### Materias y cuatrimestres en común\n",
    "\n",
    "Se puede aproximar a una mejor noción de _camada_ que simplemente tomando el padrón, tomando el conjunto de materias/cuatrimestre más populares por comunidad.\n",
    "\n",
    "- todo: explicar esto"
   ]
  },
  {
   "cell_type": "code",
   "execution_count": null,
   "id": "092ce793-7189-4e74-a8d7-dbd876938fb5",
   "metadata": {},
   "outputs": [],
   "source": [
    "df = df_comunidades.copy()\n",
    "df['padron'] = df['padron'].astype(str)\n",
    "df_src = pd.merge(df_edges, df, left_on='src_padron', right_on='padron')\n",
    "df_dst = pd.merge(df_edges, df, left_on='dst_padron', right_on='padron')\n",
    "(\n",
    "    pd\n",
    "        .concat([df_src, df_dst])\n",
    "        .groupby(['comunidad', 'materia_cuatrimestre', 'materia_id'])\n",
    "        .agg(count=('src_padron', 'count'))\n",
    "        .sort_values('count', ascending=False)\n",
    "        .reset_index()\n",
    "        .groupby('comunidad')   # obtener top 3 materias/cuatrimestres por comunidad\n",
    "        .head(3)\n",
    "        .sort_values(['comunidad', 'count'])\n",
    ")"
   ]
  },
  {
   "cell_type": "markdown",
   "id": "2ab16645-98d4-4428-9fba-885b2025ea95",
   "metadata": {},
   "source": [
    "## Alumnos similares dentro de la misma camada\n",
    "\n",
    "Ahora que ya tenemos cada subgrafo de gente que cursó junta, queremos encontrar alumnos similares en sus notas. O sea, ya se que soy parte de una camada de 100 personas. De esas 100, con quien me conviene hacer un TP?\n",
    "\n",
    "Entonces vamos a volver a calcular comunidades, pero esta vez teniendo en cuenta el peso de las aristas, que representan la similitud académica.\n",
    "\n",
    "todo: deberiamos, de la misma forma que lo hacemos con las comunidades, confirmar que estas subcomunidades tambien se clasifican segun algo (por ejemplo, calcular el avg y std de corrnotas de cada subcomunidad y mostrar que son distintos)"
   ]
  },
  {
   "cell_type": "code",
   "execution_count": null,
   "id": "c776ac23-3b02-42d7-a58f-6eb3fe26178d",
   "metadata": {},
   "outputs": [],
   "source": [
    "from setup import PADRON\n",
    "\n",
    "def nestedsearch(el, lst_of_sets):\n",
    "    return list(filter(lambda lst: el in lst, lst_of_sets))[0]\n",
    "\n",
    "def armar_grupo(padron):\n",
    "    camada = nestedsearch(padron, louvain)       \n",
    "    subnetwork = nx.subgraph(G, camada)\n",
    "    min_alumnos, max_alumnos = 6, 14\n",
    "    max_iteraciones = 25\n",
    "    \n",
    "    i = 0\n",
    "    grupo = []\n",
    "    for i in range(max_iteraciones):\n",
    "        sublouvains = community.louvain_communities(subnetwork, weight='corrnotas', resolution=1+(i*0.01))\n",
    "        comunidad = nestedsearch(padron, sublouvains)\n",
    "        if min_alumnos <= len(comunidad) <= max_alumnos:\n",
    "            grupo = comunidad\n",
    "            break\n",
    "        elif not grupo or (len(comunidad) >= max_alumnos and (len(comunidad) - max_alumnos <= len(grupo) - max_alumnos)):\n",
    "            grupo = comunidad\n",
    "        i+=1\n",
    "\n",
    "    grupo.remove(padron)\n",
    "    return grupo\n",
    "\n",
    "grupo = armar_grupo(PADRON)\n",
    "\n",
    "plt.figure(figsize=(30,10))\n",
    "plt.title(f\"Posibles compañeros de TP de {PADRON}\")\n",
    "nx.draw_networkx(nx.subgraph(G, grupo), \n",
    "                 width=0.01, \n",
    "                 font_size=10)\n",
    "\n",
    "display(pd.DataFrame(list(grupo)))"
   ]
  }
 ],
 "metadata": {
  "kernelspec": {
   "display_name": "Python 3 (ipykernel)",
   "language": "python",
   "name": "python3"
  },
  "language_info": {
   "codemirror_mode": {
    "name": "ipython",
    "version": 3
   },
   "file_extension": ".py",
   "mimetype": "text/x-python",
   "name": "python",
   "nbconvert_exporter": "python",
   "pygments_lexer": "ipython3",
   "version": "3.11.1"
  }
 },
 "nbformat": 4,
 "nbformat_minor": 5
}
