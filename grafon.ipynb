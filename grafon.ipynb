{
 "cells": [
  {
   "cell_type": "markdown",
   "id": "7d3e4e83-58e0-457f-bd75-abf4b9337bed",
   "metadata": {},
   "source": [
    "# Grafón: Qué electivas me conviene cursar?\n",
    "\n",
    "Este grafo se encarga de analizar \"gente que haya tenido experiencias facultativas similares\", sin importar en que año o cuatrimestre fue. La idea es que si me fue parecido en varias materias a alguna otra persona, y esa persona curso alguna electiva que yo no, entonces esa materia es una buena candidata para mí.\n",
    "\n",
    "Por ejemplo: Por más que Juan se haya recibido el año pasado, es una persona que se parece mucho a mí porque nos sacamos las mismas notas en muchas materias. Probablemente las electivas que Juan eligió, me sirvan a mí como guía."
   ]
  },
  {
   "cell_type": "markdown",
   "id": "ec1f34d6-3931-463f-b747-bdeb614a307c",
   "metadata": {},
   "source": [
    "## Cómo es el grafo?\n",
    "\n",
    "El grafo analizado va a ser un grafo simple, y no un multigrafo: entre cada par de alumnos solo puede haber una arista. Manejamos la cardinalidad en el peso, en vez de tener múltiples aristas.\n",
    "\n",
    "- Nodos: alumnos\n",
    "- Aristas: conectar dos alumnos que hayan cursado misma materia y \"les fue parecido\".\n",
    "    - A los dos nos fue muy bien (nos sacamos entre 8 y 10)    \n",
    "    - A los dos nos fue más o menos (nos sacamos un 6 o un 7)\n",
    "    - A los dos nos fue mal (nos sacamos un 4 o un 5)\n",
    "- Peso: La inversa* de la cantidad de materias en donde somos similares\n",
    "\n",
    "*Calculamos la inversa porque mientras mas similares son, menor peso queremos que haya entre la arista, para que más cercanos esten\n",
    "\n",
    "### Dos formas de armar el análisis\n",
    "// ToDo: que hacemos aca? Elegimos uno, o presentamos ambos en el mismo notebook?\n",
    "- sólo correr sobre materias electivas\n",
    "- correr sobre todas las materias, pero filtrar el output por electivas"
   ]
  },
  {
   "cell_type": "code",
   "execution_count": null,
   "id": "71577f73-52b6-4a58-afaa-9c1a2d6d18f2",
   "metadata": {},
   "outputs": [],
   "source": [
    "import pandas as pd\n",
    "\n",
    "df = pd.read_pickle('fiuba-map-data.pickle')\n",
    "df.sample(3)"
   ]
  },
  {
   "cell_type": "code",
   "execution_count": null,
   "id": "aa0663cb-1172-4be0-a27a-8f70e52c0156",
   "metadata": {},
   "outputs": [],
   "source": [
    "categories = {\n",
    "    4: 0,\n",
    "    5: 0,\n",
    "    6: 1,\n",
    "    7: 1,\n",
    "    8: 2,\n",
    "    9: 2,\n",
    "    10: 2\n",
    "}\n",
    "\n",
    "df_rel = df[['Padron', 'materia_id', 'materia_nota']].copy()\n",
    "\n",
    "# Sacamos materias en final y a cursar\n",
    "df_rel = df_rel[df_rel['materia_nota'] >= 4]\n",
    "\n",
    "# Sacamos gente que no le pone la nota a su fiubamap y deja que se saco (casi) todos 4s directamente\n",
    "df_rel['mediana'] = df_rel.groupby('Padron')['materia_nota'].transform('median')\n",
    "df_rel = df_rel[df_rel['mediana'] > 5]\n",
    "\n",
    "df_rel['nota_categoria'] = df_rel['materia_nota'].apply(lambda x: categories[x])\n",
    "\n",
    "# Juntamos el grafo con si mismo para tener la similiritud entre cada par de padrones\n",
    "df_simil = pd.merge(df_rel, df_rel, on=['materia_id', 'nota_categoria'])\n",
    "df_simil = df_simil[df_simil['Padron_x'] != df_simil['Padron_y']]\n",
    "df_simil = df_simil.reset_index()\n",
    "\n",
    "df_simil = df_simil[['materia_id', 'nota_categoria', 'Padron_x', 'materia_nota_x', 'Padron_y', 'materia_nota_y']]\n",
    "display(df_simil.sample(3))\n",
    "df_simil.shape"
   ]
  },
  {
   "cell_type": "markdown",
   "id": "c4cd9b1c-0bee-431f-b8b0-1a913a155481",
   "metadata": {},
   "source": [
    "Esto resultaría en un grafo con pocos nodos y millones de aristas. Por eso se busca un enfoque de unificar aristas mediante algún tipo de criterio y de esta forma tener sólo una arista entre padrones."
   ]
  },
  {
   "cell_type": "code",
   "execution_count": null,
   "id": "2ac5eee6-7040-4b7e-86fc-1b0cbdba770f",
   "metadata": {},
   "outputs": [],
   "source": [
    "import numpy as np\n",
    "\n",
    "df_simil_agg = df_simil.groupby(['Padron_x', 'Padron_y']).agg(cant_materias_similares=('materia_id', 'count'))\n",
    "df_simil_agg = df_simil_agg.reset_index()\n",
    "\n",
    "df_simil_agg['Padron_min'] = df_simil_agg[['Padron_x', 'Padron_y']].min(axis=1)\n",
    "df_simil_agg['Padron_max'] = df_simil_agg[['Padron_x', 'Padron_y']].max(axis=1)\n",
    "df_simil_agg = df_simil_agg.drop_duplicates(['Padron_min', 'Padron_max']).reset_index()\n",
    "\n",
    "# ToDo: fijarse si elevar a un K acá\n",
    "df_simil_agg['inv_cant_materias_similares'] = df_simil_agg['cant_materias_similares'].max() - df_simil_agg['cant_materias_similares'] + 1\n",
    "df_simil_agg = df_simil_agg[['Padron_x', 'Padron_y', 'cant_materias_similares', 'inv_cant_materias_similares']]\n",
    "\n",
    "display(df_simil_agg.sample(3))\n",
    "df_simil_agg.shape"
   ]
  },
  {
   "cell_type": "code",
   "execution_count": null,
   "id": "7b6e85c8-2f37-4e64-88d2-e06e4e5b8f5c",
   "metadata": {},
   "outputs": [],
   "source": [
    "df_simil_agg.sort_values('cant_materias_similares', ascending=False).head(15)"
   ]
  },
  {
   "cell_type": "code",
   "execution_count": null,
   "id": "1226ed0c-90e3-4082-b6a4-c7924a9449c2",
   "metadata": {},
   "outputs": [],
   "source": [
    "import networkx as nx\n",
    "import matplotlib.pyplot as plt\n",
    "\n",
    "G = nx.from_pandas_edgelist(df_simil_agg, \n",
    "                            source='Padron_x', \n",
    "                            target='Padron_y', \n",
    "                            edge_attr='inv_cant_materias_similares',\n",
    "                            create_using=nx.Graph())\n",
    "\n",
    "print(G)\n",
    "print(f\"\"\"\n",
    "  El diámetro de la red: {nx.diameter(G)}\n",
    "  El grado promedio de la red: {sum([n[1] for n in G.degree()]) / len(G):.2f}\n",
    "  Puentes globales: {list(nx.bridges(G))}\n",
    "\"\"\")\n",
    "\n",
    "fig, axes = plt.subplots(nrows=1, ncols=2, figsize=(30,10))\n",
    "ax = axes.flatten()\n",
    "\n",
    "# ToDo: Elegir un randomsample (si? no?) para graficar y que se entienda mejor el grafico. Tal vez el grupo del tp puede ser el sample\n",
    "nx.draw_networkx(G, pos=nx.circular_layout(G), width=0.0005, node_size=50, with_labels=False, ax=ax[0])\n",
    "nx.draw_networkx(G, pos=nx.spiral_layout(G),   width=0.005,  node_size=50, with_labels=False, ax=ax[1])"
   ]
  },
  {
   "cell_type": "markdown",
   "id": "4d3657d1-1d48-4288-af12-4f5dbedb7a4c",
   "metadata": {},
   "source": [
    "## Comunidades"
   ]
  },
  {
   "cell_type": "code",
   "execution_count": null,
   "id": "ff717e7e-23cb-4138-8755-26a97cc50f44",
   "metadata": {},
   "outputs": [],
   "source": [
    "from networkx.algorithms import community\n",
    "import matplotlib.colors as mcolors\n",
    "import random\n",
    "\n",
    "random.seed(42)\n",
    "plt.figure(figsize=(30,10))\n",
    "\n",
    "louvain = community.louvain_communities(G, weight='inv_cant_materias_similares')\n",
    "draw_nodes = {}\n",
    "colors = random.sample(list(mcolors.CSS4_COLORS), len(louvain))\n",
    "for louvaincommunity, color in zip(louvain, colors):\n",
    "    draw_nodes.update({n: color for n in louvaincommunity})\n",
    "    \n",
    "plt.title(f\"{len(louvain)} Louvain Communities\")\n",
    "nx.draw_networkx(G, \n",
    "                 nodelist=draw_nodes.keys(), \n",
    "                 node_color=list(draw_nodes.values()), \n",
    "                 width=0.0005, \n",
    "                 pos=nx.random_layout(G, seed=42),\n",
    "                 font_size=10)"
   ]
  },
  {
   "cell_type": "code",
   "execution_count": null,
   "id": "d2bb13c9-6200-411c-bb04-5b88fd25a158",
   "metadata": {},
   "outputs": [],
   "source": [
    "from setup import PADRON, CARRERA, plan_estudios\n",
    "\n",
    "def nestedsearch(el, lst_of_sets):\n",
    "    return list(filter(lambda lst: el in lst, lst_of_sets))[0]\n",
    "\n",
    "def materias_padron(padron):\n",
    "    return df[(df['Padron'] == padron) & (df['materia_nota'] >= 4)]['materia_id'].values\n",
    "\n",
    "def sugerir_electivas(padron):\n",
    "    min_alumnos, max_alumnos = 6, 20\n",
    "    max_iteraciones = 25\n",
    "\n",
    "    i = 0\n",
    "    grupo = []\n",
    "    for i in range(max_iteraciones):\n",
    "        louvain = community.louvain_communities(G, weight='inv_cant_materias_similares', resolution=1+(i*0.01))\n",
    "        comunidad = nestedsearch(padron, louvain)\n",
    "        if min_alumnos <= len(comunidad) <= max_alumnos:\n",
    "            grupo = comunidad\n",
    "            break\n",
    "        elif not grupo or (len(comunidad) >= max_alumnos and (len(comunidad) - max_alumnos <= len(grupo) - max_alumnos)):\n",
    "            grupo = comunidad\n",
    "        i+=1\n",
    "    \n",
    "    df_sugerencias = df_rel[df_rel['Padron'].isin(grupo)].groupby('materia_id').agg(cant_alumnos_similares=('materia_id', 'count'))\n",
    "    df_sugerencias = df_sugerencias[~df_sugerencias.index.isin(materias_padron(padron))]\n",
    "    \n",
    "    df_materias = pd.read_json(plan_estudios(CARRERA))\n",
    "    df_sugerencias = pd.merge(df_sugerencias, df_materias, left_on='materia_id', right_on=\"id\")\n",
    "    df_sugerencias = df_sugerencias[df_sugerencias['categoria'] == 'Materias Electivas']\n",
    "    df_sugerencias = df_sugerencias[['id', 'materia', 'creditos', 'cant_alumnos_similares']].sort_values('cant_alumnos_similares', ascending=False)\n",
    "    return df_sugerencias.reset_index(drop=True)\n",
    "\n",
    "electivas = sugerir_electivas(PADRON)\n",
    "electivas.head(10)"
   ]
  }
 ],
 "metadata": {
  "kernelspec": {
   "display_name": "Python 3 (ipykernel)",
   "language": "python",
   "name": "python3"
  }
 },
 "nbformat": 4,
 "nbformat_minor": 5
}
