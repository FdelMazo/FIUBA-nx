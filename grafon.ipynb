{
 "cells": [
  {
   "cell_type": "markdown",
   "id": "46eee65d",
   "metadata": {},
   "source": [
    "# Grafon\n",
    "\n",
    "TO DO: Copiar template y analisis de grafazo\n",
    "\n",
    "```\n",
    "# \"que electivas curso?\" -> Grafon\n",
    "\n",
    "---\n",
    "\n",
    "# Vamos a armar un grafon: Analizar \"gente que haya tenido experiencias facultativas similares\" -> sacamos el factor temporal \n",
    "# nodos -> usuarios\n",
    "# flechas -> cursar misma materia y \"les fue parecido\" -> -1 (en final), 4-5, 6-7, 8-10\n",
    "# flechas -> solo una flecha: haber cursado una materia y sacarse la misma nota -- peso: porcentaje de similitud de materia+nota\n",
    "# de alguna manera tengo que considerar las electivas:\n",
    "# - solo lo corro sobre materias electivas\n",
    "# - tal vez sale natural\n",
    "# - lo corres sobre todo, pero filtras en el output las electivas\n",
    "# Ejemplo de conexion:\n",
    "```"
   ]
  },
  {
   "cell_type": "code",
   "execution_count": null,
   "id": "32cfdd9d",
   "metadata": {},
   "outputs": [],
   "source": []
  }
 ],
 "metadata": {
  "kernelspec": {
   "display_name": "Python 3 (ipykernel)",
   "language": "python",
   "name": "python3"
  }
 },
 "nbformat": 4,
 "nbformat_minor": 5
}
