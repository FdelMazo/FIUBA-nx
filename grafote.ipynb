{
 "cells": [
  {
   "cell_type": "markdown",
   "id": "46eee65d",
   "metadata": {},
   "source": [
    "# Grafote\n",
    "\n",
    "### Qué va a analizar nuestro grafo?\n",
    "\n",
    "Analiza las notas de final hacia los estudiantes\n",
    "\n",
    "### Qué queremos responder?\n",
    "\n",
    "¿Cuáles son las materias más justas? ¿Quiénes son los mejores estudiantes? ¿Cuáles fueron las notas de final más injustas?\n",
    "\n",
    "### Cómo es el grafo?\n",
    "\n",
    "- Nodos: Materias por un lado, estudiantes por el otro\n",
    "- Aristas: Un estudiante terminó de cursar una materia, la arista representa la nota y está direccionada de la materia hacia el estudiante (materia valoró a este estudiante con esta nota)\n",
    "- Peso: Nota de final"
   ]
  },
  {
   "cell_type": "markdown",
   "id": "56d387b1-22d7-4639-931d-8c0a2f6534d6",
   "metadata": {},
   "source": [
    "## Preprocesamiento"
   ]
  },
  {
   "cell_type": "code",
   "execution_count": null,
   "id": "ee52c2b7",
   "metadata": {},
   "outputs": [],
   "source": [
    "import networkx as nx\n",
    "import pandas as pd\n",
    "import numpy as np\n",
    "import scipy as sp\n",
    "from tqdm import tqdm"
   ]
  },
  {
   "cell_type": "code",
   "execution_count": null,
   "id": "17f39fb4-4697-474c-a6e1-336196fbe465",
   "metadata": {},
   "outputs": [],
   "source": [
    "df = pd.read_pickle('fiuba-map-data.pickle')\n",
    "df.sample(3)\n",
    "\n",
    "# join con el plan, para tenerlo\n",
    "df = pd.merge(df, pd.read_csv('informatica.csv'))\n",
    "\n",
    "# filtros de columnas relevantes\n",
    "df = df[['Padron', 'materia_id', 'materia_nota', 'materia_nombre']]\n",
    "df.head()"
   ]
  },
  {
   "cell_type": "code",
   "execution_count": null,
   "id": "d2e94d48-37dd-4f53-a121-9afb2e1ea9e7",
   "metadata": {},
   "outputs": [],
   "source": [
    "# Se toman solo cursadas aprobadas\n",
    "df_notas = df[df['materia_nota'] >= 4].copy()\n",
    "\n",
    "df_notas['nota_mediana'] = df_notas.groupby('Padron')['materia_nota'].transform('median')\n",
    "df_notas['nota_promedio'] = df_notas.groupby('Padron')['materia_nota'].transform('mean')\n",
    "# Para reducir ruido, se eliminan mapas donde \"casi\" todas las notas sean 4\n",
    "df_notas = df_notas[df_notas['nota_mediana'] > 4.5]\n",
    "\n",
    "df_notas.shape"
   ]
  },
  {
   "cell_type": "code",
   "execution_count": null,
   "id": "8197d5a7-23dd-40b3-9f9e-ea3246602988",
   "metadata": {},
   "outputs": [],
   "source": [
    "# Normalizar notas de [-1 a 1]\n",
    "df_notas['materia_nota_norm'] = (df_notas['materia_nota'] - 7) / 3\n",
    "df_notas['materia_nota_norm'].value_counts()"
   ]
  },
  {
   "cell_type": "code",
   "execution_count": null,
   "id": "4d1d2ae2-1e1f-4c54-b434-74810a408084",
   "metadata": {},
   "outputs": [],
   "source": [
    "# Se agregan columnas de cantidades, para luego filtrar más adelante\n",
    "df_notas['cant_materias'] = df_notas.groupby(['Padron'])['materia_id'].transform('count')\n",
    "df_notas['cant_padrones'] = df_notas.groupby(['materia_id'])['Padron'].transform('count')"
   ]
  },
  {
   "cell_type": "markdown",
   "id": "0a9773e0-1373-4a49-9b7f-173a244c64ef",
   "metadata": {},
   "source": [
    "## Algoritmo REV2"
   ]
  },
  {
   "cell_type": "code",
   "execution_count": null,
   "id": "299c7cf4-4c86-459f-b911-4fa2c644ffdf",
   "metadata": {},
   "outputs": [],
   "source": [
    "def rev2(\n",
    "    df,\n",
    "    col_in,\n",
    "    col_out,\n",
    "    col_rating,\n",
    "    gamma_1=0.5,\n",
    "    gamma_2=0.5,\n",
    "    n_iteraciones=15,\n",
    "):\n",
    "    \"\"\"Algoritmo REV2. Dado un dataframe con entradas, salidas y ratings\n",
    "    denotados por los nombres de columna, devuelve series para aplicar los\n",
    "    valores de F, G y R.\n",
    "    \"\"\"\n",
    "    assert df[col_rating].min() == -1 and df[col_rating].max() == 1, \"Rating no fue normalizado a [-1, 1]\"\n",
    "\n",
    "    ratings = nx.from_pandas_edgelist(\n",
    "        df,\n",
    "        create_using=nx.DiGraph,\n",
    "        source=col_in,\n",
    "        target=col_out,\n",
    "        edge_attr=[col_rating]\n",
    "    )\n",
    "    \n",
    "    F = {}\n",
    "    G = {}\n",
    "\n",
    "    for val_in, val_out in tqdm(ratings.edges(), 'Inicializando estructuras'):\n",
    "        F[val_in] = 1\n",
    "        G[val_out] = 1\n",
    "        ratings[val_in][val_out]['R'] = 1\n",
    "\n",
    "    for i in tqdm(range(n_iteraciones), 'Realizando iteraciones F/G/R'):\n",
    "        for val_out in G:\n",
    "            s = 0\n",
    "            n = 0\n",
    "            for val_in in ratings.predecessors(val_out):\n",
    "                s += ratings[val_in][val_out]['R'] * ratings[val_in][val_out][col_rating]\n",
    "                n += 1\n",
    "            G[val_out] = s / n\n",
    "            assert -1 <= G[val_out] <= 1\n",
    "\n",
    "        for val_in, val_out in ratings.edges():\n",
    "            R_new = (gamma_1 * F[val_in] + gamma_2 * (1 - (abs(ratings[val_in][val_out][col_rating] - G[val_out]) / 2))) / (gamma_1 + gamma_2)\n",
    "            ratings[val_in][val_out]['R'] = R_new\n",
    "            assert 0 <= R_new <= 1\n",
    "\n",
    "        for val_in in F:\n",
    "            s = 0\n",
    "            for val_out in ratings[val_in]:\n",
    "                s += ratings[val_in][val_out]['R']\n",
    "            F[val_in] = s / len(ratings[val_in])\n",
    "            assert 0 <= F[val_in] <= 1\n",
    "\n",
    "    series_F = df[col_in].apply(lambda x: F[x])\n",
    "    series_G = df[col_out].apply(lambda x: G[x])\n",
    "    series_R = df[[col_in, col_out]].apply(lambda x: ratings[x[col_in]][x[col_out]]['R'], axis=1)\n",
    "\n",
    "    return series_F, series_G, series_R"
   ]
  },
  {
   "cell_type": "code",
   "execution_count": null,
   "id": "2888884c-01e3-4a51-95e6-af353aefce1b",
   "metadata": {},
   "outputs": [],
   "source": [
    "series = rev2(\n",
    "    df_notas,\n",
    "    'materia_id',\n",
    "    'Padron',\n",
    "    'materia_nota_norm',\n",
    "    n_iteraciones=20,\n",
    "    gamma_1=0.5,\n",
    "    gamma_2=0.5,\n",
    ")"
   ]
  },
  {
   "cell_type": "code",
   "execution_count": null,
   "id": "ee44f85f-0f81-4f0b-9f36-299a39f71ea8",
   "metadata": {},
   "outputs": [],
   "source": [
    "df_notas['F'] = series[0]\n",
    "df_notas['G'] = series[1]\n",
    "df_notas['R'] = series[2]"
   ]
  },
  {
   "cell_type": "markdown",
   "id": "0156a2e0-b7d7-412a-a0b6-bb72cab21904",
   "metadata": {},
   "source": [
    "## Fairness\n",
    "\n",
    "Bajo este contexto, una materia injusta puede dar nota baja a \"buenos estudiantes\" y nota alta a \"malos estudiantes\"."
   ]
  },
  {
   "cell_type": "code",
   "execution_count": null,
   "id": "003eb123-03c5-411f-a6fe-144f97f32414",
   "metadata": {},
   "outputs": [],
   "source": [
    "(\n",
    "    df_notas[(df_notas['cant_padrones'] > 10)]\n",
    "        [['materia_id', 'materia_nombre', 'F']]\n",
    "        .drop_duplicates()\n",
    "        .sort_values('F', ascending=True)\n",
    "        .head(5)\n",
    ")"
   ]
  },
  {
   "cell_type": "code",
   "execution_count": null,
   "id": "77fed677-8103-4a37-ada2-c2399db23235",
   "metadata": {},
   "outputs": [],
   "source": [
    "(\n",
    "    df_notas[(df_notas['cant_padrones'] > 30)]\n",
    "        [['materia_id', 'materia_nombre', 'F']]\n",
    "        .drop_duplicates()\n",
    "        .sort_values('F', ascending=False)\n",
    "        .head(5)\n",
    ")"
   ]
  },
  {
   "cell_type": "markdown",
   "id": "d89bc9bc-d6c5-4dbb-8d52-3cc99fdaa6d4",
   "metadata": {},
   "source": [
    "## Goodness\n",
    "\n",
    "Nota que una materia \"confiable\" le podría dar a tal estudiante. No es lo mismo que el promedio"
   ]
  },
  {
   "cell_type": "code",
   "execution_count": null,
   "id": "16d93246-845c-44db-8439-6a9072adf5ed",
   "metadata": {},
   "outputs": [],
   "source": [
    "df_notas['G_norm'] = df_notas['G'] * 3 + 7\n",
    "(\n",
    "    df_notas[(df_notas['cant_materias'] > 10)]\n",
    "        [['Padron', 'G_norm', 'nota_promedio']]\n",
    "        .drop_duplicates()\n",
    "        .sort_values('G_norm', ascending=True)\n",
    "        .head(5)\n",
    ")"
   ]
  },
  {
   "cell_type": "code",
   "execution_count": null,
   "id": "59716fec-2612-4ec3-b9ac-9c4b82193323",
   "metadata": {},
   "outputs": [],
   "source": [
    "(\n",
    "    df_notas[(df_notas['cant_materias'] > 10)]\n",
    "        [['Padron', 'G_norm', 'nota_promedio']]\n",
    "        .drop_duplicates()\n",
    "        .sort_values('G_norm', ascending=False)\n",
    "        .head(5)\n",
    ")"
   ]
  },
  {
   "cell_type": "markdown",
   "id": "2e2654b3-5c3b-4911-86aa-73c7781a39d5",
   "metadata": {},
   "source": [
    "## Reliability\n",
    "\n",
    "Las notas más esperables y las más injustas"
   ]
  },
  {
   "cell_type": "code",
   "execution_count": null,
   "id": "24a3605a-fb84-419b-9173-846a36f36515",
   "metadata": {},
   "outputs": [],
   "source": [
    "(\n",
    "    df_notas[(df_notas['cant_padrones'] > 30)]\n",
    "        [['Padron', 'materia_id', 'materia_nombre', 'materia_nota', 'R', 'G_norm']]\n",
    "        .drop_duplicates()\n",
    "        .sort_values('R', ascending=True)\n",
    "        .head(15)\n",
    ")"
   ]
  },
  {
   "cell_type": "code",
   "execution_count": null,
   "id": "54f4937a-42d4-4242-bdfe-7a03e3de526d",
   "metadata": {},
   "outputs": [],
   "source": [
    "(\n",
    "    df_notas[(df_notas['cant_padrones'] > 30)]\n",
    "        [['Padron', 'materia_id', 'materia_nombre', 'materia_nota', 'R', 'G_norm']]\n",
    "        .drop_duplicates()\n",
    "        .sort_values('R', ascending=False)\n",
    "        .head(15)\n",
    ")"
   ]
  }
 ],
 "metadata": {
  "kernelspec": {
   "display_name": "Python 3 (ipykernel)",
   "language": "python",
   "name": "python3"
  },
  "language_info": {
   "codemirror_mode": {
    "name": "ipython",
    "version": 3
   },
   "file_extension": ".py",
   "mimetype": "text/x-python",
   "name": "python",
   "nbconvert_exporter": "python",
   "pygments_lexer": "ipython3",
   "version": "3.10.8"
  }
 },
 "nbformat": 4,
 "nbformat_minor": 5
}
