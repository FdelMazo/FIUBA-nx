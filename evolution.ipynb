{
 "cells": [
  {
   "cell_type": "markdown",
   "id": "963cdaf0-1eb2-4238-8fb7-66f584ca8a28",
   "metadata": {},
   "source": [
    "# Evolución del FIUBA map"
   ]
  },
  {
   "cell_type": "markdown",
   "id": "6554b57b-a1fb-4057-a33b-6db6421f8939",
   "metadata": {},
   "source": [
    "En este caso, vamos a analizar cómo evoluciona la red del FIUBA map respecto a alumnos que alguna vez cursaron juntos.\n",
    "El grafo que armaremos será de alumnos (nodos) que se conectan si alguna vez cursaron juntos una materia (aristas)."
   ]
  },
  {
   "cell_type": "code",
   "execution_count": null,
   "id": "2252160d-d20c-4e87-a4d7-a70246e8be2d",
   "metadata": {},
   "outputs": [],
   "source": [
    "import pandas as pd\n",
    "import networkx as nx\n",
    "import matplotlib.pyplot as plt\n",
    "import utils\n",
    "import numpy as np\n",
    "from scipy.optimize import curve_fit\n",
    "from datetime import datetime"
   ]
  },
  {
   "cell_type": "code",
   "execution_count": null,
   "id": "0f40bbba-168c-4978-a691-6a09d15c36fb",
   "metadata": {},
   "outputs": [],
   "source": [
    "df = pd.read_pickle('fiuba-map-data.pickle')\n",
    "df.sample(3)"
   ]
  },
  {
   "cell_type": "code",
   "execution_count": null,
   "id": "7c21fea3-b6b3-4ba1-94f8-2d8ac9597abc",
   "metadata": {},
   "outputs": [],
   "source": [
    "df_rel = df[['Padron', 'materia_id', 'materia_cuatrimestre']].copy()\n",
    "\n",
    "# Sacamos a quienes no ordenan su carrera por cuatrimestres\n",
    "df_rel.dropna(subset=['materia_cuatrimestre'], inplace=True)\n",
    "\n",
    "df_simil = pd.merge(df_rel, df_rel, on=['materia_id', 'materia_cuatrimestre'])\n",
    "df_simil = df_simil[df_simil['Padron_x'] != df_simil['Padron_y']]\n",
    "df_simil = df_simil[['Padron_x', 'Padron_y', 'materia_cuatrimestre']]\n",
    "df_simil = df_simil.sort_values(by=['materia_cuatrimestre'])\n",
    "df_simil.head(3)"
   ]
  },
  {
   "cell_type": "code",
   "execution_count": null,
   "id": "4142b220-4c51-46c7-be23-1a99a0c2c3a8",
   "metadata": {},
   "outputs": [],
   "source": [
    "# tomamos los cuatrimestres hasta la actualidad, sin tener en cuenta cuatrimestres que no pasaron porque la cantidad de nodos se mantiene constante\n",
    "curr_year = datetime.now().year\n",
    "curr_month = datetime.now().month\n",
    "curr_cuatri = curr_year if curr_month < 3 else curr_year + 0.5\n",
    "cuatris = df_simil[df_simil['materia_cuatrimestre'] < curr_cuatri]['materia_cuatrimestre'].unique()\n",
    "cuatris"
   ]
  },
  {
   "cell_type": "code",
   "execution_count": null,
   "id": "117bae58-6731-4c2d-96ef-771fa910270a",
   "metadata": {},
   "outputs": [],
   "source": [
    "graphs = []\n",
    "stats = []\n",
    "for cuatri in cuatris:\n",
    "    df_simil_cuatri = df_simil[df_simil['materia_cuatrimestre'] <= cuatri]\n",
    "    G = nx.from_pandas_edgelist(df_simil_cuatri, \n",
    "                                source='Padron_x', \n",
    "                                target='Padron_y',\n",
    "                                create_using=nx.Graph())\n",
    "    graphs.append((cuatri, G))\n",
    "    stats.append([cuatri, len(G), len(G.edges), nx.diameter(G), f\"{sum([n[1] for n in G.degree()]) / len(G):.2f}\"])\n",
    "\n",
    "stats = pd.DataFrame(stats, columns=['Cuatrimestre','Nodos','Aristas', 'Diámetro', 'Grado promedio'])\n",
    "print(stats.to_string(index=False), end='\\n\\n')\n",
    "\n",
    "fig, axs = plt.subplots(ncols=7, nrows=len(graphs)//7, figsize=(30,10))\n",
    "ax = axs.flatten()\n",
    "for i, g in enumerate(graphs):\n",
    "    ax[i].set_title(g[0])\n",
    "    nx.draw_networkx(g[1], pos=nx.kamada_kawai_layout(G), width=0.1 if i < 5 else 0.01, node_size=20, with_labels=False, ax=ax[i])"
   ]
  },
  {
   "cell_type": "markdown",
   "id": "531f8318-ebed-4a0e-b2bc-7c6f9d400b8f",
   "metadata": {},
   "source": [
    "Lo primero que podemos notar es que, a lo largo del tiempo, las aristas crecen mucho más rápido que los nodos (ya veremos en qué proporción), y en consecuencia el diámetro se mantiene constante casi durante toda la evolución del grafo."
   ]
  },
  {
   "cell_type": "markdown",
   "id": "f05eb7c4-fd9a-4b42-8f11-f5bb63fe1389",
   "metadata": {},
   "source": [
    "## Evolución macroscópica"
   ]
  },
  {
   "cell_type": "markdown",
   "id": "4e7a1ba0-acf4-4d62-ad4a-5836dee2b9e5",
   "metadata": {},
   "source": [
    "A continuación analizaremos la relación entre la cantidad de nodos y la cantidad de aristas a lo largo del tiempo"
   ]
  },
  {
   "cell_type": "code",
   "execution_count": null,
   "id": "9b7901ca-a9bb-4433-84e8-c37c6e044c5f",
   "metadata": {},
   "outputs": [],
   "source": [
    "x = [len(g[1]) for g in graphs]\n",
    "y = [len(g[1].edges) for g in graphs]\n",
    "\n",
    "# Escala logaritmica\n",
    "plt.xscale(\"log\")\n",
    "plt.yscale(\"log\")\n",
    "plt.xlim(10, 100000)\n",
    "plt.ylim(10, 100000)\n",
    "plt.xlabel(\"Cantidad de nodos\")\n",
    "plt.ylabel(\"Cantidad de aristas\")\n",
    "\n",
    "# Scatter plot\n",
    "plt.scatter(x, y)\n",
    "\n",
    "# Ecuación de la trendline\n",
    "def myExpFunc(x, a, b):\n",
    "    return a * np.power(x, b)\n",
    "\n",
    "# Plot de la trendline\n",
    "popt, pcov = curve_fit(myExpFunc, x, y)\n",
    "newX = np.logspace(0, 3, base=10)\n",
    "newY = myExpFunc(newX, *popt)\n",
    "plt.plot(newX, newY, \"r-\")\n",
    "\n",
    "# Tomo 2 puntos por los que pasa la recta de pendiente y calculo alfa\n",
    "dy = y[11] - y[6]\n",
    "dx = x[11] - x[6]\n",
    "\n",
    "slope = (np.log10(dy)/np.log10(dx)).round(2)\n",
    "print(f\"Alpha es {slope}\")"
   ]
  },
  {
   "cell_type": "markdown",
   "id": "72d85ab4-cd17-4b56-bf50-9468c572e253",
   "metadata": {},
   "source": [
    "Sabemos que para la mayoría de las redes reales, la evolución de las aristas con respecto a la evolución de los nodos sigue la ley de potencia de densificación: $$ E(t) \\propto N(t)^\\alpha $$ donde $\\alpha$ es el exponente de densificación en el rango de [1, 2]. En nuestro caso, $\\alpha$ es mucho mayor a 1, lo que significa que a medida que evoluciona la red, el grado promedio de los nodos va vertiginosamente en aumento."
   ]
  },
  {
   "cell_type": "code",
   "execution_count": null,
   "id": "48591a73-6162-4fc3-9a06-f6d3bb9b9f2b",
   "metadata": {},
   "outputs": [],
   "source": [
    "x = [g[0] for g in graphs]\n",
    "y = [nx.diameter(g[1]) for g in graphs]\n",
    "\n",
    "plt.xlabel(\"Cuatrimestre\")\n",
    "plt.ylabel(\"Diámetro\")\n",
    "plt.plot(x, y, '-o')\n",
    "plt.show()"
   ]
  },
  {
   "cell_type": "markdown",
   "id": "d64e4c2c-1f47-4f52-a0ad-74f5de442c49",
   "metadata": {},
   "source": [
    "Analicemos ahora el diámetro. En primer lugar, hay que decir que no es relevante lo que sucede previamente al 2017 porque la cantidad de nodos es muy chica. A partir de allí, se observa que el diámetro se mantiene casi constante en 4, salvo por el 2do cuatrimestre del 2019 en donde baja a 3. Una posible respuesta a esto es que, como vimos, la cantidad de aristas crece mucho más rápido que la cantidad de vértices, entonces hay más conexiones. Pero, si tuviéramos un grafo de Erdös-Rényi, el diámetro crecería igualmente, en contra de esta línea de pensamiento."
   ]
  },
  {
   "cell_type": "code",
   "execution_count": null,
   "id": "1605b646-0e4d-4352-b71e-7b360ce8250e",
   "metadata": {},
   "outputs": [],
   "source": [
    "degrees = [(g[0], sorted((d for n, d in g[1].degree()), reverse=True)) for g in graphs]\n",
    "\n",
    "fig, axs = plt.subplots(ncols=7, nrows=len(graphs)//7, figsize=(30,10))\n",
    "ax = axs.flatten()\n",
    "\n",
    "for i, degree in enumerate(degrees):\n",
    "    ax[i].set_xlabel(\"Grado del nodo\")\n",
    "    ax[i].set_ylabel(\"Cantidad de nodos\")\n",
    "    ax[i].set_title(degree[0])\n",
    "    ax[i].bar(*np.unique(degree[1], return_counts=True)[::-1])"
   ]
  },
  {
   "cell_type": "markdown",
   "id": "5cb2f789-269b-4619-99ef-869035b60e86",
   "metadata": {},
   "source": [
    "Si vemos cómo evoluciona la cantidad de nodos en relación al grado de los mismos, a partir de 2018.5, observamos que, si bien no se comporta exactamente como el modelo de Preferential Attachment, la mayoría de los nodos tienen un grado bajo y muy pocos tienen grado muy alto. A su vez, estos pocos con grado elevado siguen incrementándolo a lo largo del tiempo y explica, junto con la densificación, por qué el diámetro se mantiene constante a lo largo de la evolción."
   ]
  }
 ],
 "metadata": {
  "kernelspec": {
   "display_name": "Python 3 (ipykernel)",
   "language": "python",
   "name": "python3"
  }
 },
 "nbformat": 4,
 "nbformat_minor": 5
}
