{
 "cells": [
  {
   "cell_type": "markdown",
   "id": "5b251766",
   "metadata": {},
   "source": [
    "# Grafazo: Con que alumnos puedo hacer TPs en un futuro?\n",
    "\n",
    "Este grafo se encarga de analizar \"camadas\" de gente: grupos de alumnos que cursaron varias materias juntos. \n",
    "\n",
    "Una vez que podamos distinguir esas camadas, ya tenemos posibles compañeros de TPs. Después, dentro de mi propia camada, con quien más quiero hacer un TP es con los alumnos que se parezcan a mí académicamente. Entonces tenemos que pasar a tener en cuenta la nota de las materias. La idea final es que yo me haga compañero de alumnos que tiendan a cursar las mismas materias que yo, y que tengamos el mismo nivel académico.\n",
    "\n",
    "Ojo, este grafo no apunta a responder *en que* materia hacer tps juntos: eso involucraría fijarse qué curso cada alumno y fijarse que personas todavía no cursaron lo mismo. La idea es un poco mas generalizada a encontrar compañeros de clase, no importa en que materia. Ya con solo ser de la misma camada sabemos que nos quedan materias en las que nos vamos a cruzar. \n",
    "\n",
    "Por ejemplo: como Rosita y yo cursamos las mismas materias por dos años, somos de la misma camada. Y encima, como siempre nos sacamos notas parecidas, debe ser una buena compañera de TP para mí."
   ]
  },
  {
   "cell_type": "markdown",
   "id": "94e094a2-12f6-4c82-ae63-3eb4807bf7ad",
   "metadata": {},
   "source": [
    "## Cómo es el grafo?\n",
    "\n",
    "El grafo analizado va a ser un multigrafo: entre cada par de alumnos puede haber varias aristas\n",
    "\n",
    "- Nodos: alumnos\n",
    "- Aristas: conectar dos alumnos que hayan cursado la misma materia el mismo cuatrimestre\n",
    "- Peso de las aristas: la relacion entre las notas de esa cursada. Mientras más parecidos somos, más cercano estamos, y por ende menor peso hay en nuestra arista. Lo calculamos como la diferencia entre las notas.\n",
    "    - Si me saque un 10 y vos un 10, nuestro peso es 0.\n",
    "    - Si me saque un 4 y vos un 10, nuestro peso es 6.\n",
    "    - En el caso de que yo estoy en final y vos aprobaste, hardcodeamos el peso a 7"
   ]
  },
  {
   "cell_type": "code",
   "execution_count": null,
   "id": "b5fe7491",
   "metadata": {},
   "outputs": [],
   "source": [
    "import pandas as pd\n",
    "\n",
    "df = pd.read_pickle('fiuba-map-data.pickle')\n",
    "df.sample(3)"
   ]
  },
  {
   "cell_type": "code",
   "execution_count": null,
   "id": "b82e9780",
   "metadata": {},
   "outputs": [],
   "source": [
    "def corrnotas(row):\n",
    "    if ((row['src_nota'] == -1 and row['dst_nota'] != -1) or\n",
    "        (row['dst_nota'] == -1 and row['src_nota'] != -1)):\n",
    "        return 7\n",
    "    return abs(row['src_nota'] - row['dst_nota'])\n",
    "\n",
    "df_nodes_metadata = df[df.columns & [\"Padron\", \"Carrera\", \"aplazos\", \"optativas\", \"checkboxes\"]]\n",
    "df_nodes_metadata = df_nodes_metadata[df_nodes_metadata[\"aplazos\"].notnull() | df_nodes_metadata[\"optativas\"].notnull()]\n",
    "df_nodes_metadata = df_nodes_metadata.groupby([\"Padron\", \"Carrera\"], as_index=False).first()\n",
    "\n",
    "df_nodes = df[[\"Padron\", \"Carrera\", \"Orientacion\", \"Final de Carrera\"]]\n",
    "df_nodes = df_nodes.drop_duplicates()\n",
    "df_nodes = df_nodes.merge(df_nodes_metadata, how=\"outer\")\n",
    "df_nodes.set_index(\"Padron\", inplace=True)\n",
    "display(df_nodes.dropna().sample(3))\n",
    "\n",
    "from itertools import combinations\n",
    "df_edges = (df[df['materia_cuatrimestre'].notnull()]\n",
    "     .groupby(['materia_id', 'materia_cuatrimestre'])[['Padron', 'materia_nota']]\n",
    "     .apply(lambda x : list(combinations(x.values,2)))\n",
    "     .apply(pd.Series)\n",
    "     .stack()\n",
    "     .reset_index(level=0, name='Usuarios')\n",
    ")\n",
    "\n",
    "df_edges = df_edges.reset_index()\n",
    "df_edges[['src', 'dst']] = df_edges['Usuarios'].tolist()\n",
    "df_edges[['src_padron', 'src_nota']] = df_edges['src'].tolist()\n",
    "df_edges[['dst_padron', 'dst_nota']] = df_edges['dst'].tolist()\n",
    "\n",
    "# Nos quedamos solo con las materias aprobadas (nota > 0) o en final (-1)\n",
    "df_edges = df_edges[(df_edges['src_nota'] != -2) & (df_edges['src_nota'] != 0)]\n",
    "df_edges = df_edges[(df_edges['dst_nota'] != -2) & (df_edges['dst_nota'] != 0)]\n",
    "\n",
    "# Calculamos la correlacion entre las notas\n",
    "df_edges['corrnotas'] = df_edges.apply(corrnotas, axis=1)\n",
    "\n",
    "df_edges = df_edges[['src_padron', 'dst_padron', 'materia_cuatrimestre', 'materia_id', 'src_nota', 'dst_nota', 'corrnotas']]\n",
    "display(df_edges.dropna().sample(3))"
   ]
  },
  {
   "cell_type": "code",
   "execution_count": null,
   "id": "afab6a0f",
   "metadata": {},
   "outputs": [],
   "source": [
    "import networkx as nx\n",
    "import matplotlib.pyplot as plt\n",
    "import utils\n",
    "\n",
    "G = nx.from_pandas_edgelist(df_edges, \n",
    "                            source='src_padron', \n",
    "                            target='dst_padron', \n",
    "                            edge_attr=['materia_id','materia_cuatrimestre', 'corrnotas'], \n",
    "                            create_using=nx.MultiGraph())\n",
    "\n",
    "nx.set_node_attributes(G, df_nodes.to_dict('index'))\n",
    "\n",
    "utils.stats(G)\n",
    "utils.plot(G)"
   ]
  },
  {
   "cell_type": "code",
   "execution_count": null,
   "id": "4bbcc457-ff44-4b25-8c41-d9bc29574da3",
   "metadata": {},
   "outputs": [],
   "source": [
    "# ToDo: Mover analisis del diametro chico a la intro del TP donde explicamos el grafo generalmente, explicando que como se suele cursar con varios alumnos una misma materia, y se cursan muchas materias por cuatri, es normal que este tan completo el grafo y que todos lleguen a cruzarse con casi todos en la misma carrera\n",
    "# El diámetro de la red es 4, y tiene mucho sentido que sea un número tan chico porque el fiubamap tiene cargadas las notas de alumnos desde el 2014 en adelante (aproximadamente), así que no hay tantas camadas de alumnos, sumado a que estamos filtrando por una carrera. Además de esto, los alumnos avanzan en la carrera a diferentes velocidades, por lo que hay recursantes que cursan con varias camadas. Teniendo en cuenta estos tres factores, hace que la mayoría de los nodos en el grafo están muy conectados."
   ]
  },
  {
   "cell_type": "code",
   "execution_count": null,
   "id": "ec39cc37",
   "metadata": {},
   "outputs": [],
   "source": [
    "from config import PADRON\n",
    "\n",
    "# Aprovechando que este es un multigrafo, mostremos las multiples aristas que hay en una cantidad pequeña de alumnos\n",
    "cliques = nx.find_cliques(G, [PADRON])\n",
    "min_clique = nx.subgraph(G, min(cliques, key=len))\n",
    "\n",
    "# Robadisimo de: https://stackoverflow.com/a/60638452\n",
    "pos = nx.random_layout(min_clique)\n",
    "nx.draw_networkx_nodes(min_clique, pos)\n",
    "nx.draw_networkx_labels(min_clique, pos)\n",
    "\n",
    "ax = plt.gca()\n",
    "for e in min_clique.edges:\n",
    "    ax.annotate(\"\",\n",
    "                xy=pos[e[0]], xycoords='data',\n",
    "                xytext=pos[e[1]], textcoords='data',\n",
    "                arrowprops=dict(arrowstyle=\"-\", color=\"0.5\",\n",
    "                                connectionstyle=\"arc3,rad=rr\".replace('rr',str(0.3*e[2]))))\n",
    "plt.axis('off')\n",
    "plt.show()"
   ]
  },
  {
   "cell_type": "markdown",
   "id": "fefd272c-ad4f-4d7b-bfb5-fb1c650079f2",
   "metadata": {},
   "source": [
    "# Homofilia\n",
    "\n",
    "> La homofilia nos explica una forma en la que los vínculos se forman. Esto puede depender de diferentes características, por ejemplo podemos unir personas por género, edad, nacionalidad, intereses, creencias\n",
    "\n",
    "Lo primero que debemos hacer antes de agrupar nodos de nuestro grafo creado es un análisis teórico: ¿cómo deberían quedar segmentados los nodos y vínculos?\n",
    "\n",
    "Las comunidades que se van a formar en nuestro grafo deberían seguir un criterio orgánico: los distintos grupos de nodos van a compartir características entre sí. Cuando pensamos en personas en la vida cotidiana y cómo estas podrían vincularse, lo más natural es pensar en edad, ideología, etc. Cuando pensamos en alumnos de una universidad a lo largo de su carrera, no siempre es eso lo que une a la gente. \n",
    "\n",
    "En este caso, los grupos que se van a formar son los de las **camadas**. Estas camadas, teóricamente, deberían tender a ser alumnos con padrones cercanos. Esto es porque el padrón es un número incremental, entonces si vos y yo tenemos un +-1 de diferencia en el padrón, nos anotamos el mismo dia a la facultad. Y si nos anotamos el mismo dia a la facultad, probablemente vayamos juntos a la par en la carrera y nos crucemos seguido en materias.\n",
    "\n",
    "Es decir, más menos algunas anomalías, deberíamos ver una relación entre el número de padrón y los grupos formados.\n",
    "\n",
    "Como las comunidades se van a formar en base a las aristas que hay entre los nodos, tenemos que confirmar que la proporción de aristas tiene sentido. Es decir, la frecuencia de aristas entre nodos de distintas camadas teóricas deberia acercarse a la frecuencia de aristas entre nodos de lo que hay en el grafo.\n",
    "\n",
    "Antes de agrupar los nodos, corramos un análisis sobre el alumnado y veamos como se dividen según su número de padrón. Para este análisis vamos a dividir al alumnado en 4 camadas. La camada número 1 estará compuesta por aquellos padrones que comienzan con 100 o inferiores. Las siguientes camadas son desde los padrones 101 a 104; de 105 a 109; y de 110 a 120."
   ]
  },
  {
   "cell_type": "code",
   "execution_count": null,
   "id": "b3eeae1f-40e1-4fd5-9232-ea4b343f39c7",
   "metadata": {},
   "outputs": [],
   "source": [
    "df_camadas = df_edges.copy()\n",
    "\n",
    "# ToDo: Preferimos hacerlo con quantiles? Al tratarse de homofilia siento que esta bien por rangos pero como quieran\n",
    "def definir_camada(f):\n",
    "    if not f.isnumeric():\n",
    "        return 0\n",
    "    f = int(f)\n",
    "    if f in range(900,999) or f == 100:\n",
    "        return 1\n",
    "    if f in range(101, 105):\n",
    "        return 2\n",
    "    if f in range(105, 110):\n",
    "        return 3\n",
    "    if f in range(110, 120):\n",
    "        return 4\n",
    "    return 0\n",
    "\n",
    "df_camadas['src_camada'] = df_camadas.apply(lambda f: definir_camada(str(f.src_padron)[:3]), axis=1) \n",
    "df_camadas['dst_camada'] = df_camadas.apply(lambda f: definir_camada(str(f.dst_padron)[:3]), axis=1)\n",
    "df_camadas = df_camadas[df_camadas['src_camada'] > 0]\n",
    "df_camadas = df_camadas[df_camadas['dst_camada'] > 0]\n",
    "df_camadas = df_camadas[['src_padron', 'dst_padron', 'src_camada', 'dst_camada']]\n",
    "df_camadas.sample(4)"
   ]
  },
  {
   "cell_type": "markdown",
   "id": "1818bc66-bbe9-4074-bd27-bce0f54c25fa",
   "metadata": {},
   "source": [
    "## Valores Esperados\n",
    "\n",
    "$$\\mathbb{P}(CamadaX) = \\frac{\\text{# nodos de Camada X}}{\\text{# nodos totales}}$$\n",
    "\n",
    "\\# ToDo: Deshardcodear esto, que quede dinámico\n",
    "\\# ToDo: Explicar exactamente _que_ estamos esperando\n",
    "\n",
    "- $pCamada1 = \\frac{15064}{53534} = 0,281 $\n",
    "- $pCamada2 = \\frac{19242}{53534} = 0,359 $\n",
    "- $pCamada3 = \\frac{18690}{53534} = 0,349 $\n",
    "- $pCamada4 = \\frac{538}{53534} = 0,01 $\n",
    "\n",
    "Por lo que la probabilidad de ser de la camada 1 y compartir con alguien de la camada 1 es $\\mathbb{P}(Camada1)^2$, mientras que cruzarse entre camadas te da una probabilidad de $\\mathbb{P}(Camada1)*\\mathbb{P}(Camada2)*2$\n",
    "|          | Camada 1 | Camada 2 | Camada 3 | Camada 4 |\n",
    "|----------|----------|----------|----------|----------|\n",
    "| Camada 1 | 0,078    | 0,1      | 0,098    | 0,003    |\n",
    "| Camada 2 | 0,1      | 0,129    | 0,125    | 0,0035   |\n",
    "| Camada 3 | 0,098    | 0,125    | 0,122    | 0,0034   |\n",
    "| Camada 4 | 0,003    | 0,0035   | 0,0034   | 0.0001   |"
   ]
  },
  {
   "cell_type": "markdown",
   "id": "633ae52e-edf3-4bb3-8631-de619a21f3ca",
   "metadata": {},
   "source": [
    "## Valores Encontrados"
   ]
  },
  {
   "cell_type": "code",
   "execution_count": null,
   "id": "e45e5946-b0ea-4455-aa7f-293e319b4fa0",
   "metadata": {},
   "outputs": [],
   "source": [
    "df_camadas.pivot_table(index='src_camada', columns='dst_camada', values='src_padron', aggfunc='count')"
   ]
  },
  {
   "cell_type": "code",
   "execution_count": null,
   "id": "0d606229-125b-4467-bc61-aa0d3ddf4891",
   "metadata": {},
   "outputs": [],
   "source": [
    "df_temp = df_camadas.drop_duplicates(subset='src_padron')\n",
    "total_nodos = df_temp.shape[0]\n",
    "df_prob = df_temp.groupby(['src_camada']).count()[[\"src_padron\"]].apply(lambda x: (x/total_nodos) ** 2).rename(columns={'src_padron':'P(misma camada)'})\n",
    "df_prob"
   ]
  },
  {
   "cell_type": "code",
   "execution_count": null,
   "id": "e62c1020-3812-4c89-b223-cd7b5e68fab0",
   "metadata": {},
   "outputs": [],
   "source": [
    "probabilidad_intercamada = (1 - df_prob.sum()).squeeze()\n",
    "print(f'''Considerando 4 camadas, el threshold teórico que calculamos para de arista entre dos alumnos de distintas camadas es de {round(probabilidad_intercamada, 2)}''')"
   ]
  },
  {
   "cell_type": "code",
   "execution_count": null,
   "id": "b7d4d4d9-475e-422b-9650-890fd18430a2",
   "metadata": {},
   "outputs": [],
   "source": [
    "df_prob_aristas = df_camadas[df_camadas['src_camada'] != df_camadas['dst_camada']]\n",
    "aristas_intercamadas = df_prob_aristas.shape[0]\n",
    "aristas_totales = df_camadas.shape[0]\n",
    "probabilidad_intercamada_experimental = aristas_intercamadas / aristas_totales"
   ]
  },
  {
   "cell_type": "code",
   "execution_count": null,
   "id": "a0782d6a-edd8-4be6-a886-ad7a3422eb37",
   "metadata": {},
   "outputs": [],
   "source": [
    "print(f'''Proporción existente de \"sin homofilia\": {round(probabilidad_intercamada_experimental/probabilidad_intercamada * 100, 2)}%''')"
   ]
  },
  {
   "cell_type": "markdown",
   "id": "c2c6b6fe-f445-499d-8dcd-5a28c6102a08",
   "metadata": {},
   "source": [
    "Esta proporción resulta alta en relación a lo que obtuvimos teóricamente, y creemos que se debe a que planteamos camadas muy grandes, que en la práctica deberían subdividirse en más camadas, y por lo tanto, resulta más difícil que haya tanta conexión entre camadas."
   ]
  },
  {
   "cell_type": "markdown",
   "id": "0fdf8612-1395-4df4-96e6-4c6fa439819d",
   "metadata": {},
   "source": [
    "# Comunidades\n",
    "\n",
    "Ahora que ya sabemos que los vínculos entre los nodos efectivamente son una representación real de lo que nosotros llamamos camadas, solo nos queda dividir el grafo en comunidades, confirmar que cada comunidad se refiere a una camada, e indagar sobre cada comunidad por separado, ya pudiendo tratar a cada una como una camada distinta."
   ]
  },
  {
   "cell_type": "code",
   "execution_count": null,
   "id": "9d9225e2",
   "metadata": {},
   "outputs": [],
   "source": [
    "from networkx.algorithms import community\n",
    "\n",
    "# La primera corrida solo calculamos camadas, sin darle peso a las notas. Pasamos `weight=None` a louvain\n",
    "louvain = community.louvain_communities(G, weight=None)\n",
    "utils.plot_communities(G, louvain)"
   ]
  },
  {
   "cell_type": "markdown",
   "id": "e5878b6a-dbb7-4224-8d0c-4e2b2a90f41e",
   "metadata": {},
   "source": [
    "## Evaluación de comunidades\n",
    "\n",
    "¿Efectivamente se refieren a distintas camadas de alumnos? ¿Alumnos que ingresaron a la facultad al mismo tiempo?\n",
    "\n",
    "¿Existe correlación entre la distribución de padrones y la comunidad?"
   ]
  },
  {
   "cell_type": "code",
   "execution_count": null,
   "id": "751b5283-fdb4-49d1-bac0-851dc18d99a5",
   "metadata": {},
   "outputs": [],
   "source": [
    "import seaborn as sns\n",
    "import numpy as np\n",
    "\n",
    "louvain_padrones = []\n",
    "for i, comunidad in enumerate(louvain):\n",
    "    for padron in comunidad:\n",
    "        louvain_padrones.append((padron, i))\n",
    "df_comunidades = pd.DataFrame(louvain_padrones, columns=[\"padron\", \"comunidad\"])\n",
    "\n",
    "# len patch for overflow\n",
    "df_temp = df_comunidades[(df_comunidades['padron'].str.isdigit()) & (df_comunidades[\"padron\"].str.len() >= 5) & (df_comunidades[\"padron\"].str.len() <= 6)].copy()\n",
    "df_temp[\"padron\"] = df_temp[\"padron\"].astype(int)\n",
    "\n",
    "# remove outliers by percentiles, stolen from https://stackoverflow.com/a/59366409\n",
    "Q1 = df_temp[\"padron\"].quantile(0.10)\n",
    "Q3 = df_temp[\"padron\"].quantile(0.90)\n",
    "IQR = Q3 - Q1\n",
    "df_comunidades = df_temp[~((df_temp[\"padron\"] < (Q1 - 1.5 * IQR)) |(df_temp[\"padron\"] > (Q3 + 1.5 * IQR)))]\n",
    "\n",
    "display(df_comunidades.sample(3))\n",
    "display(df_comunidades.groupby('comunidad').agg({'padron':[np.mean,np.std,'count']}))\n",
    "\n",
    "# TODO: play with the \"stat\" parameter. another interesting one is the \"density\" parameter\n",
    "g = sns.displot(\n",
    "    df_comunidades,\n",
    "    x=\"padron\",\n",
    "    col=\"comunidad\",\n",
    "    element=\"step\",\n",
    "    stat=\"count\",\n",
    "    common_norm=False,\n",
    ")"
   ]
  },
  {
   "cell_type": "markdown",
   "id": "c639f92a-233f-4bc0-b844-64088db42d15",
   "metadata": {},
   "source": [
    "Se puede observar una mínima correlación considerando el intervalo más frecuente de cada comunidad. Esto coincide con lo que se planteo con el concepto de homofilia."
   ]
  },
  {
   "cell_type": "markdown",
   "id": "25346f50-e848-451f-8833-fddee4b353cb",
   "metadata": {},
   "source": [
    "### Materias y cuatrimestres en común\n",
    "\n",
    "Se puede aproximar a una mejor noción de _camada_ que simplemente tomando el padrón, tomando el conjunto de materias/cuatrimestre más populares por comunidad.\n",
    "\n",
    "- todo: explicar esto"
   ]
  },
  {
   "cell_type": "code",
   "execution_count": null,
   "id": "092ce793-7189-4e74-a8d7-dbd876938fb5",
   "metadata": {},
   "outputs": [],
   "source": [
    "df = df_comunidades.copy()\n",
    "df['padron'] = df['padron'].astype(str)\n",
    "df_src = pd.merge(df_edges, df, left_on='src_padron', right_on='padron')\n",
    "df_dst = pd.merge(df_edges, df, left_on='dst_padron', right_on='padron')\n",
    "(\n",
    "    pd\n",
    "        .concat([df_src, df_dst])\n",
    "        .groupby(['comunidad', 'materia_cuatrimestre', 'materia_id'])\n",
    "        .agg(count=('src_padron', 'count'))\n",
    "        .sort_values('count', ascending=False)\n",
    "        .reset_index()\n",
    "        .groupby('comunidad')   # obtener top 3 materias/cuatrimestres por comunidad\n",
    "        .head(3)\n",
    "        .sort_values(['comunidad', 'count'])\n",
    ")"
   ]
  },
  {
   "cell_type": "markdown",
   "id": "2ab16645-98d4-4428-9fba-885b2025ea95",
   "metadata": {},
   "source": [
    "## Alumnos similares dentro de la misma camada\n",
    "\n",
    "Ahora que ya tenemos cada comunidad de gente que cursó junta, queremos encontrar dentro de estos subgrafos los alumnos que tengan notas similares. O sea, ya se que soy parte de una camada de 100 personas. De esas 100, con quién me conviene hacer un TP?\n",
    "\n",
    "Entonces vamos a volver a calcular comunidades, pero esta vez lo hacemos dentro de cada camada y teniendo en cuenta el peso de las aristas, que representan la similitud académica."
   ]
  },
  {
   "cell_type": "code",
   "execution_count": null,
   "id": "c776ac23-3b02-42d7-a58f-6eb3fe26178d",
   "metadata": {},
   "outputs": [],
   "source": [
    "def nestedsearch(el, lst_of_sets):\n",
    "    return list(filter(lambda lst: el in lst, lst_of_sets))[0]\n",
    "\n",
    "def armar_grupo(padron):\n",
    "    camada = nestedsearch(padron, louvain)       \n",
    "    subnetwork = nx.subgraph(G, camada)\n",
    "    min_alumnos, max_alumnos = 6, 14\n",
    "    max_iteraciones = 25\n",
    "    \n",
    "    i = 0\n",
    "    grupo = []\n",
    "    for i in range(max_iteraciones):\n",
    "        sublouvains = community.louvain_communities(subnetwork, weight='corrnotas', resolution=1+(i*0.01))\n",
    "        comunidad = nestedsearch(padron, sublouvains)\n",
    "        if min_alumnos <= len(comunidad) <= max_alumnos:\n",
    "            grupo = comunidad\n",
    "            break\n",
    "        elif not grupo or (len(comunidad) >= max_alumnos and (len(comunidad) - max_alumnos <= len(grupo) - max_alumnos)):\n",
    "            grupo = comunidad\n",
    "        i+=1\n",
    "\n",
    "    grupo.remove(padron)\n",
    "    return grupo\n",
    "\n",
    "grupo = armar_grupo(PADRON)\n",
    "\n",
    "plt.title(f\"Posibles compañeros de TP de {PADRON}\")\n",
    "nx.draw_networkx(nx.subgraph(G, grupo), \n",
    "                 width=0.01, \n",
    "                 font_size=10)\n",
    "\n",
    "print(f\"Posibles compañeros de {PADRON}: {grupo}\")"
   ]
  }
 ],
 "metadata": {
  "kernelspec": {
   "display_name": "Python 3 (ipykernel)",
   "language": "python",
   "name": "python3"
  },
  "language_info": {
   "codemirror_mode": {
    "name": "ipython",
    "version": 3
   },
   "file_extension": ".py",
   "mimetype": "text/x-python",
   "name": "python",
   "nbconvert_exporter": "python",
   "pygments_lexer": "ipython3",
   "version": "3.10.6"
  }
 },
 "nbformat": 4,
 "nbformat_minor": 5
}
