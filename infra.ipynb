{
 "cells": [
  {
   "cell_type": "code",
   "execution_count": null,
   "id": "d757a5b7",
   "metadata": {},
   "outputs": [],
   "source": [
    "import tqdm\n",
    "import json\n",
    "import pandas as pd\n",
    "\n",
    "SHEET_ID = '1b6h2RApBs2xbN6-eGVvxH68EALKDklvS91fb7d_IVz4'\n",
    "SHEET_TABS = {\n",
    "    'REGISTROS': 2103959160,\n",
    "    'USUARIOS': 102021014,\n",
    "}\n",
    "REGISTROS_URL = f'https://docs.google.com/spreadsheets/d/{SHEET_ID}/export?format=csv&gid={SHEET_TABS[\"REGISTROS\"]}'\n",
    "USUARIOS_URL = f'https://docs.google.com/spreadsheets/d/{SHEET_ID}/export?format=csv&gid={SHEET_TABS[\"USUARIOS\"]}'\n",
    "\n",
    "# Vamos a hacer un grafo por carrera... hay que setupearla aca!\n",
    "# sistemas informatica agrimensura alimentos civil electricista electronica \n",
    "# industrial mecanica naval petroleo quimica sistemasviejo\n",
    "CARRERA = 'informatica'"
   ]
  },
  {
   "cell_type": "code",
   "execution_count": null,
   "id": "dfafc954",
   "metadata": {},
   "outputs": [],
   "source": [
    "# Empezamos cargando todos los datos (los usuarios y los mapas estan en dos tablas distintas)\n",
    "df_registros = pd.read_csv(REGISTROS_URL)\n",
    "df_registros.drop(\"Timestamp\", axis=1, inplace=True)\n",
    "df_registros.dropna(inplace=True, how=\"any\")\n",
    "df_registros = df_registros[df_registros['Carrera'] == CARRERA]\n",
    "display(df_registros.sample(3))\n",
    "\n",
    "df_usuarios = pd.read_csv(USUARIOS_URL)\n",
    "df_usuarios.drop(\"Timestamp\", axis=1, inplace=True)\n",
    "df_usuarios.dropna(inplace=True, how=\"all\")\n",
    "df_usuarios = df_usuarios[df_usuarios['Carrera'] == CARRERA]\n",
    "display(df_usuarios.sample(3))"
   ]
  },
  {
   "cell_type": "code",
   "execution_count": null,
   "id": "d62c1699",
   "metadata": {},
   "outputs": [],
   "source": [
    "### Testing purposes: en vez de laburar con toooodos los datos, laburemos solo con los integrantes del grupo\n",
    "# df_usuarios = df_usuarios[df_usuarios['Padron'].isin([\"100029\", \"101696\", \"101109\", \"0000\"])]"
   ]
  },
  {
   "cell_type": "code",
   "execution_count": null,
   "id": "5f8a27d0",
   "metadata": {},
   "outputs": [],
   "source": [
    "# Mergeamos!\n",
    "df_mergeado = df_usuarios.merge(df_registros)\n",
    "df_mergeado.sample(3)"
   ]
  },
  {
   "cell_type": "code",
   "execution_count": null,
   "id": "b1b3eb30",
   "metadata": {},
   "outputs": [],
   "source": [
    "df_mergeado.describe()"
   ]
  },
  {
   "cell_type": "code",
   "execution_count": null,
   "id": "9cc14967",
   "metadata": {},
   "outputs": [],
   "source": [
    "# Ahora, desempaquetamos la columna \"Mapa\" (un JSON que contiene notas, metadata, de todo...) \n",
    "#   y finalmente lleguemos al df que vamos a usar durante todo el tp\n",
    "\n",
    "df = df_mergeado\n",
    "new_df = pd.DataFrame()\n",
    "for idx in tqdm.tqdm(df.index):\n",
    "    json_mapa = json.loads(df.loc[idx]['Mapa'])\n",
    "    \n",
    "    for k in json_mapa.keys():\n",
    "        if not json_mapa[k]: \n",
    "            continue\n",
    "        if k == \"materias\":\n",
    "            df_json = pd.json_normalize(json_mapa, k, record_prefix=\"materia_\")\n",
    "        else:\n",
    "            df_json = pd.DataFrame({k: [json_mapa[k]]})\n",
    "        df_json[\"Padron\"] = df.loc[idx]['Padron']\n",
    "        new_df = pd.concat([new_df, df_json])\n",
    "\n",
    "df = df.merge(new_df, how=\"outer\")\n",
    "df.drop('Mapa', axis=1, inplace=True)\n",
    "# Hace mucho tiempo, el fiuba map tenia un feature que se llamaba \"materia_cuatri\" (en vez del nuevo \"materia_cuatrimestre\")\n",
    "# En donde el usuario seteaba en cuantos N cuatris iba a cursar X materia, en vez de setear el cuatri exacto\n",
    "# Como ya no se usa en el upstream, no es lo correcto que lo utilicemos en el analisis de datos\n",
    "if 'materia_cuatri' in df.columns: df.drop('materia_cuatri', axis=1, inplace=True)\n",
    "df.sample(3)"
   ]
  },
  {
   "cell_type": "code",
   "execution_count": null,
   "id": "2112e958",
   "metadata": {},
   "outputs": [],
   "source": [
    "# Exportamos todo a un hermoso pickle\n",
    "df.to_pickle('fiuba-map-data.pickle')"
   ]
  }
 ],
 "metadata": {
  "kernelspec": {
   "display_name": "Python 3 (ipykernel)",
   "language": "python",
   "name": "python3"
  }
 },
 "nbformat": 4,
 "nbformat_minor": 5
}
