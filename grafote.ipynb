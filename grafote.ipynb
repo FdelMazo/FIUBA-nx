{
 "cells": [
  {
   "cell_type": "markdown",
   "id": "46eee65d",
   "metadata": {},
   "source": [
    "# Grafote: ¿Cuáles son mis notas menos confiables?\n",
    "\n",
    "Este grafo se encarga de analizar las notas asignadas por parte de las materias hacia estudiantes con el objetivo de identificar las materias injustas, notas confiables, mejores estudiantes, y más. Para esto se utiliza el algoritmo _REV2_.\n",
    "\n",
    "_REV2_ tiene como objetivo encontrar usuarios fraudulentos en plataformas que tengan ratings hacia ciertos productos.\n",
    "\n",
    "Bajo el contexto de FIUBA, podríamos pensar a las materias como \"usuarios\", a los estudiantes como \"productos\", y las notas de final como \"calificaciones\" con el objetivo de aplicar REV2 _con algunos supuestos_:\n",
    "\n",
    "- Un estudiante mantiene un cierto desempeño desde su inicio a fin de carrera.\n",
    "- La forma de evaluar de cada materia se mantiene consistente más allá de cátedras o profesores.\n",
    "\n",
    "No esperamos encontrar _materias fraudulentas_, pero de cualquier forma podemos analizar los valores F, G y R para materias, usuarios y notas que devuelve el algoritmo.\n",
    "\n",
    "## ¿Cómo es el grafo?\n",
    "\n",
    "El grafo va a ser bipartito\n",
    "\n",
    "- Nodos: Materias por un lado, estudiantes por el otro\n",
    "- Aristas: Un estudiante aprobó una materia, la arista representa la nota y está direccionada de la materia hacia el estudiante (materia valoró a este estudiante con esta nota)\n",
    "- Peso: Nota de final\n",
    "\n",
    "A diferencia de los otros grafos, este utiliza la información de _todas_ las carreras en vez de limitarse a solo una."
   ]
  },
  {
   "cell_type": "markdown",
   "id": "56d387b1-22d7-4639-931d-8c0a2f6534d6",
   "metadata": {},
   "source": [
    "## Preprocesamiento"
   ]
  },
  {
   "cell_type": "code",
   "execution_count": null,
   "id": "ee52c2b7",
   "metadata": {},
   "outputs": [],
   "source": [
    "import networkx as nx\n",
    "import pandas as pd\n",
    "import numpy as np\n",
    "import scipy as sp\n",
    "from tqdm.notebook import tqdm\n",
    "\n",
    "import utils"
   ]
  },
  {
   "cell_type": "markdown",
   "id": "25a3028d",
   "metadata": {},
   "source": [
    "Obtenemos todos los planes de carrera de FIUBA, para tener los nombres de materias al analizar los resultados"
   ]
  },
  {
   "cell_type": "code",
   "execution_count": null,
   "id": "d6c9fda5",
   "metadata": {},
   "outputs": [],
   "source": [
    "df_planes = []\n",
    "for plan in utils.PLANES:\n",
    "    df_plan = pd.read_json(utils.plan_estudios(plan))\n",
    "    df_plan['Carrera'] = plan\n",
    "    df_planes.append(df_plan)\n",
    "df_planes = pd.concat(df_planes)\n",
    "df_planes = df_planes.rename(columns={'materia': 'materia_nombre', 'id': 'materia_id'})\n",
    "df_planes.sample(3)"
   ]
  },
  {
   "cell_type": "markdown",
   "id": "9de71d98",
   "metadata": {},
   "source": [
    "Y el grafo con las notas en sí"
   ]
  },
  {
   "cell_type": "code",
   "execution_count": null,
   "id": "1cc5556b",
   "metadata": {},
   "outputs": [],
   "source": [
    "df = pd.read_pickle('fiuba-map-data-all.pickle')\n",
    "display(df.sample(3))\n",
    "df.shape"
   ]
  },
  {
   "cell_type": "code",
   "execution_count": null,
   "id": "17f39fb4-4697-474c-a6e1-336196fbe465",
   "metadata": {},
   "outputs": [],
   "source": [
    "# join con los planes, para tenerlo\n",
    "df = pd.merge(df, df_planes, on=['materia_id', 'Carrera'])\n",
    "\n",
    "# filtros de columnas relevantes\n",
    "df = df[['Padron', 'materia_id', 'materia_nota', 'materia_nombre', 'Carrera']]\n",
    "df.head()"
   ]
  },
  {
   "cell_type": "code",
   "execution_count": null,
   "id": "d2e94d48-37dd-4f53-a121-9afb2e1ea9e7",
   "metadata": {},
   "outputs": [],
   "source": [
    "# Se toman solo cursadas aprobadas\n",
    "df_notas = df[df['materia_nota'] >= 4].copy()\n",
    "\n",
    "# Se ignora el CBC\n",
    "df_notas = df_notas[~df_notas['materia_id'].str.contains('CBC')]\n",
    "\n",
    "df_notas['nota_mediana'] = df_notas.groupby(['Padron', 'Carrera'])['materia_nota'].transform('median')\n",
    "df_notas['nota_promedio'] = df_notas.groupby(['Padron', 'Carrera'])['materia_nota'].transform('mean')\n",
    "df_notas['nota_diferentes'] = df_notas.groupby(['Padron', 'Carrera'])['materia_nota'].transform('nunique')\n",
    "\n",
    "# Para reducir ruido, se eliminan mapas donde las notas son casi \"todas iguales\"\n",
    "df_notas = df_notas[df_notas['nota_diferentes'] >= 4]\n",
    "df_notas = df_notas[df_notas['nota_mediana'] > 4.5]\n",
    "\n",
    "df_notas.shape"
   ]
  },
  {
   "cell_type": "code",
   "execution_count": null,
   "id": "8197d5a7-23dd-40b3-9f9e-ea3246602988",
   "metadata": {},
   "outputs": [],
   "source": [
    "# Normalizar notas de [-1 a 1]\n",
    "df_notas['materia_nota_norm'] = (df_notas['materia_nota'] - 7) / 3\n",
    "df_notas['materia_nota_norm'].value_counts()"
   ]
  },
  {
   "cell_type": "code",
   "execution_count": null,
   "id": "4d1d2ae2-1e1f-4c54-b434-74810a408084",
   "metadata": {},
   "outputs": [],
   "source": [
    "# Se agregan columnas de cantidades, para luego filtrar más adelante\n",
    "df_notas['cant_materias'] = df_notas.groupby(['Padron'])['materia_id'].transform('count')\n",
    "df_notas['cant_padrones'] = df_notas.groupby(['materia_id'])['Padron'].transform('count')"
   ]
  },
  {
   "cell_type": "markdown",
   "id": "0a9773e0-1373-4a49-9b7f-173a244c64ef",
   "metadata": {},
   "source": [
    "## Algoritmo REV2\n",
    "\n",
    "Se plantea el algoritmo genérico de REV2 para luego aplicarlo al grafo armado."
   ]
  },
  {
   "cell_type": "code",
   "execution_count": null,
   "id": "299c7cf4-4c86-459f-b911-4fa2c644ffdf",
   "metadata": {},
   "outputs": [],
   "source": [
    "def rev2(\n",
    "    df,\n",
    "    col_in,\n",
    "    col_out,\n",
    "    col_rating,\n",
    "    gamma_1=0.5,\n",
    "    gamma_2=0.5,\n",
    "    n_iter=20,\n",
    "):\n",
    "    \"\"\"Algoritmo REV2. Dado un dataframe con entradas, salidas y ratings\n",
    "    denotados por los nombres de columna, devuelve series para aplicar los\n",
    "    valores de F, G y R.\n",
    "    \"\"\"\n",
    "    assert df[col_rating].min() == -1 and df[col_rating].max() == 1, \"Rating no fue normalizado a [-1, 1]\"\n",
    "\n",
    "    ratings = nx.from_pandas_edgelist(\n",
    "        df,\n",
    "        create_using=nx.DiGraph,\n",
    "        source=col_in,\n",
    "        target=col_out,\n",
    "        edge_attr=[col_rating]\n",
    "    )\n",
    "    \n",
    "    F = {}\n",
    "    G = {}\n",
    "\n",
    "    for val_in, val_out in tqdm(ratings.edges(), 'Inicializando estructuras'):\n",
    "        F[val_in] = 1\n",
    "        G[val_out] = 1\n",
    "        ratings[val_in][val_out]['R'] = 1\n",
    "\n",
    "    for i in tqdm(range(n_iter), 'Realizando iteraciones F/G/R'):\n",
    "        for val_out in G:\n",
    "            s = 0\n",
    "            n = 0\n",
    "            for val_in in ratings.predecessors(val_out):\n",
    "                s += ratings[val_in][val_out]['R'] * ratings[val_in][val_out][col_rating]\n",
    "                n += 1\n",
    "            G[val_out] = s / n\n",
    "            assert -1 <= G[val_out] <= 1\n",
    "\n",
    "        for val_in, val_out in ratings.edges():\n",
    "            R_new = (gamma_1 * F[val_in] + gamma_2 * (1 - (abs(ratings[val_in][val_out][col_rating] - G[val_out]) / 2))) / (gamma_1 + gamma_2)\n",
    "            ratings[val_in][val_out]['R'] = R_new\n",
    "            assert 0 <= R_new <= 1\n",
    "\n",
    "        for val_in in F:\n",
    "            s = 0\n",
    "            for val_out in ratings[val_in]:\n",
    "                s += ratings[val_in][val_out]['R']\n",
    "            F[val_in] = s / len(ratings[val_in])\n",
    "            assert 0 <= F[val_in] <= 1\n",
    "\n",
    "    series_F = df[col_in].apply(lambda x: F[x])\n",
    "    series_G = df[col_out].apply(lambda x: G[x])\n",
    "    series_R = df[[col_in, col_out]].apply(lambda x: ratings[x[col_in]][x[col_out]]['R'], axis=1)\n",
    "\n",
    "    return series_F, series_G, series_R, ratings"
   ]
  },
  {
   "cell_type": "code",
   "execution_count": null,
   "id": "2888884c-01e3-4a51-95e6-af353aefce1b",
   "metadata": {},
   "outputs": [],
   "source": [
    "series_F, series_G, series_R, G = rev2(\n",
    "    df_notas,\n",
    "    'materia_id',\n",
    "    'Padron',\n",
    "    'materia_nota_norm',\n",
    ")"
   ]
  },
  {
   "cell_type": "code",
   "execution_count": null,
   "id": "6e69b9f9",
   "metadata": {},
   "outputs": [],
   "source": [
    "df_notas['F'] = series_F\n",
    "df_notas['G'] = series_G\n",
    "df_notas['R'] = series_R"
   ]
  },
  {
   "cell_type": "code",
   "execution_count": null,
   "id": "70d086ec-bb15-4962-9eb8-b76451455a22",
   "metadata": {},
   "outputs": [],
   "source": [
    "# Veamos (un sample de) el grafo sobre el cual se corrió REV2\n",
    "import matplotlib.pyplot as plt\n",
    "import utils\n",
    "from config import PADRON\n",
    "import random\n",
    "\n",
    "# Subgrafo => 3 materias troncales y 3 padrones al azar\n",
    "materias = [\"62.01\", \"61.03\", \"61.08\"]\n",
    "random_edges = random.choices(list(filter(lambda e: any([m in e for m in materias]), G.edges)), k=3)\n",
    "random_padrones = [p for m, p in random_edges]\n",
    "\n",
    "nodes = [*random_padrones, *materias]\n",
    "subgraph = nx.subgraph(G, nodes)\n",
    "\n",
    "plt.figure(figsize=(30,10))\n",
    "plt.title(f\"Sample of a {G}\")\n",
    "nx.draw_networkx(subgraph,\n",
    "                 pos=nx.bipartite_layout(subgraph, nx.bipartite.sets(subgraph)[0]))"
   ]
  },
  {
   "cell_type": "markdown",
   "id": "e3ad77ef",
   "metadata": {},
   "source": [
    "## Análisis de resultados"
   ]
  },
  {
   "cell_type": "markdown",
   "id": "168b6755",
   "metadata": {},
   "source": [
    "Para el análisis de materias, se consideran solo aquellas que tengan un mínimo de estudiantes aprobados. Lo mismo para el análisis de estudiantes"
   ]
  },
  {
   "cell_type": "code",
   "execution_count": null,
   "id": "06c02abc",
   "metadata": {},
   "outputs": [],
   "source": [
    "MATERIAS_APROBADAS = 7\n",
    "ESTUDIANTES_APROBADOS = 15"
   ]
  },
  {
   "cell_type": "code",
   "execution_count": null,
   "id": "7c549b95",
   "metadata": {},
   "outputs": [],
   "source": [
    "# Para ver los nombres completos de los nombres de materias\n",
    "pd.set_option('display.max_colwidth', None)"
   ]
  },
  {
   "cell_type": "markdown",
   "id": "0156a2e0-b7d7-412a-a0b6-bb72cab21904",
   "metadata": {},
   "source": [
    "### Fairness\n",
    "\n",
    "Bajo este contexto, una materia _injusta_ puede dar nota baja a \"buenos estudiantes\" y/o nota alta a \"malos estudiantes\"."
   ]
  },
  {
   "cell_type": "code",
   "execution_count": null,
   "id": "003eb123-03c5-411f-a6fe-144f97f32414",
   "metadata": {},
   "outputs": [],
   "source": [
    "(\n",
    "    df_notas[(df_notas['cant_padrones'] >= ESTUDIANTES_APROBADOS)]\n",
    "        [['materia_id', 'materia_nombre', 'F']]\n",
    "        .drop_duplicates()\n",
    "        .sort_values('F', ascending=True)\n",
    "        .head(15)\n",
    ")"
   ]
  },
  {
   "cell_type": "markdown",
   "id": "36ad706d",
   "metadata": {},
   "source": [
    "Las materias _justas_ suelen asignar notas conservadoras que tienden de 6 a 8."
   ]
  },
  {
   "cell_type": "code",
   "execution_count": null,
   "id": "77fed677-8103-4a37-ada2-c2399db23235",
   "metadata": {},
   "outputs": [],
   "source": [
    "(\n",
    "    df_notas[(df_notas['cant_padrones'] >= ESTUDIANTES_APROBADOS)]\n",
    "        [['materia_id', 'materia_nombre', 'F']]\n",
    "        .drop_duplicates()\n",
    "        .sort_values('F', ascending=False)\n",
    "        .head(15)\n",
    ")"
   ]
  },
  {
   "cell_type": "markdown",
   "id": "d89bc9bc-d6c5-4dbb-8d52-3cc99fdaa6d4",
   "metadata": {},
   "source": [
    "### Goodness\n",
    "\n",
    "Nota que una materia \"confiable\" le podría dar a tal estudiante. No es lo mismo que el promedio pero existe una correlación."
   ]
  },
  {
   "cell_type": "code",
   "execution_count": null,
   "id": "16d93246-845c-44db-8439-6a9072adf5ed",
   "metadata": {},
   "outputs": [],
   "source": [
    "df_notas['G_norm'] = df_notas['G'] * 3 + 7\n",
    "(\n",
    "    df_notas[(df_notas['cant_materias'] >= MATERIAS_APROBADAS)]\n",
    "        [['Padron', 'Carrera', 'G_norm', 'nota_promedio']]\n",
    "        .drop_duplicates()\n",
    "        .sort_values('G_norm', ascending=True)\n",
    "        .head(15)\n",
    ")"
   ]
  },
  {
   "cell_type": "code",
   "execution_count": null,
   "id": "59716fec-2612-4ec3-b9ac-9c4b82193323",
   "metadata": {},
   "outputs": [],
   "source": [
    "(\n",
    "    df_notas[(df_notas['cant_materias'] >= MATERIAS_APROBADAS)]\n",
    "        [['Padron', 'Carrera', 'G_norm', 'nota_promedio']]\n",
    "        .drop_duplicates()\n",
    "        .sort_values('G_norm', ascending=False)\n",
    "        .head(15)\n",
    ")"
   ]
  },
  {
   "cell_type": "markdown",
   "id": "2e2654b3-5c3b-4911-86aa-73c7781a39d5",
   "metadata": {},
   "source": [
    "### Reliability\n",
    "\n",
    "Una nota poco confiable puede estar en dos extremos: una nota alta a un estudiante con un desempeño general bajo, o una nota baja a un estudiante con un buen desempeño"
   ]
  },
  {
   "cell_type": "code",
   "execution_count": null,
   "id": "24a3605a-fb84-419b-9173-846a36f36515",
   "metadata": {},
   "outputs": [],
   "source": [
    "(\n",
    "    df_notas[\n",
    "        (df_notas['cant_padrones'] >= ESTUDIANTES_APROBADOS)\n",
    "        & (df_notas['cant_materias'] >= MATERIAS_APROBADAS)\n",
    "    ][['Padron', 'Carrera', 'materia_id', 'materia_nombre', 'materia_nota', 'R', 'G_norm']]\n",
    "        .drop_duplicates()\n",
    "        .sort_values('R', ascending=True)\n",
    "        .head(15)\n",
    ")"
   ]
  },
  {
   "cell_type": "markdown",
   "id": "dee64b00",
   "metadata": {},
   "source": [
    "Una nota confiable es la más esperable para asignarle al estudiante según su valor de G."
   ]
  },
  {
   "cell_type": "code",
   "execution_count": null,
   "id": "54f4937a-42d4-4242-bdfe-7a03e3de526d",
   "metadata": {},
   "outputs": [],
   "source": [
    "(\n",
    "    df_notas[\n",
    "        (df_notas['cant_padrones'] >= ESTUDIANTES_APROBADOS)\n",
    "        & (df_notas['cant_materias'] >= MATERIAS_APROBADAS)\n",
    "    ][['Padron', 'Carrera', 'materia_id', 'materia_nombre', 'materia_nota', 'R', 'G_norm']]\n",
    "        .drop_duplicates()\n",
    "        .sort_values('R', ascending=False)\n",
    "        .head(15)\n",
    ")"
   ]
  },
  {
   "cell_type": "markdown",
   "id": "8cfa6a39",
   "metadata": {},
   "source": [
    "### Reliability de un padrón particular\n",
    "\n",
    "Considerando un único padrón podemos ver sus notas \"menos confiable\" considerando el cuantil 0.1 de R"
   ]
  },
  {
   "cell_type": "code",
   "execution_count": null,
   "id": "708c784e",
   "metadata": {},
   "outputs": [],
   "source": [
    "(\n",
    "    df_notas[\n",
    "        (df_notas['Padron'] == utils.PADRON)\n",
    "        & (df_notas['R'] <= df_notas['R'].quantile(0.10))\n",
    "    ][['Padron', 'Carrera', 'materia_id', 'materia_nombre', 'materia_nota', 'R', 'G_norm']]\n",
    "        .drop_duplicates()\n",
    "        .sort_values('R', ascending=True)\n",
    "        .head(5)\n",
    ")"
   ]
  }
 ],
 "metadata": {
  "kernelspec": {
   "display_name": "Python 3 (ipykernel)",
   "language": "python",
   "name": "python3"
  },
  "language_info": {
   "codemirror_mode": {
    "name": "ipython",
    "version": 3
   },
   "file_extension": ".py",
   "mimetype": "text/x-python",
   "name": "python",
   "nbconvert_exporter": "python",
   "pygments_lexer": "ipython3",
   "version": "3.11.1"
  }
 },
 "nbformat": 4,
 "nbformat_minor": 5
}
