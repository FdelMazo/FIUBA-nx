{
 "cells": [
  {
   "cell_type": "markdown",
   "id": "5b251766",
   "metadata": {},
   "source": [
    "# Grafazo: Con que otros alumnos puedo hacer TPs en un futuro?\n",
    "\n",
    "Este grafo se encarga de analizar \"camadas\" de gente: alumnos que cursaron juntos y les fue parecido en la facu. La idea final es que yo me haga compañero de alumnos que tiendan a cursar las mismas materias que yo, y que tengamos el mismo nivel académico.\n",
    "\n",
    "Ojo, este grafo no apunta a responder *en que* materia hacer tps juntos: eso involucraría fijarse que curso cada alumno y fijarse que personas todavía no cursaron lo mismo. La idea es un poco mas generalizada a encontrar compañeros de clase, no importa en que materia. Ya al ser de la misma camada sabemos que nos quedan materias en las que nos vamos a cruzar\n",
    "\n",
    "### Cómo es el grafo?\n",
    "\n",
    "- Nodos: alumnos\n",
    "- Aristas: conectar dos alumnos que hayan cursado la misma materia el mismo cuatrimestre\n",
    "- Peso de las aristas: correlacion entre notas\n",
    "\n",
    "Por ejemplo: como juampi y yo cursamos las mismas materias por dos años y siempre nos sacamos notas parecidas, probablemente somos de la misma camada de alumnos"
   ]
  },
  {
   "cell_type": "code",
   "execution_count": null,
   "id": "b5fe7491",
   "metadata": {},
   "outputs": [],
   "source": [
    "import pandas as pd\n",
    "\n",
    "df = pd.read_pickle('fiuba-map-data.pickle')\n",
    "df.sample(3)"
   ]
  },
  {
   "cell_type": "code",
   "execution_count": null,
   "id": "b82e9780",
   "metadata": {},
   "outputs": [],
   "source": [
    "df_nodes_metadata = df[df.columns & [\"Padron\", \"Carrera\", \"aplazos\", \"optativas\", \"checkboxes\"]]\n",
    "df_nodes_metadata = df_nodes_metadata[df_nodes_metadata[\"aplazos\"].notnull() | df_nodes_metadata[\"optativas\"].notnull()]\n",
    "df_nodes_metadata = df_nodes_metadata.groupby([\"Padron\", \"Carrera\"], as_index=False).first()\n",
    "\n",
    "df_nodes = df[[\"Padron\", \"Carrera\", \"Orientacion\", \"Final de Carrera\"]]\n",
    "df_nodes = df_nodes.drop_duplicates()\n",
    "df_nodes = df_nodes.merge(df_nodes_metadata, how=\"outer\")\n",
    "df_nodes.set_index(\"Padron\", inplace=True)\n",
    "display(df_nodes.dropna().tail(3))\n",
    "\n",
    "from itertools import combinations\n",
    "df_edges = (df[df['materia_cuatrimestre'].notnull()]\n",
    "     .groupby(['materia_id', 'materia_cuatrimestre'])[['Padron', 'materia_nota']]\n",
    "     .apply(lambda x : list(combinations(x.values,2)))\n",
    "     .apply(pd.Series)\n",
    "     .stack()\n",
    "     .reset_index(level=0, name='Usuarios')\n",
    ")\n",
    "\n",
    "df_edges = df_edges.reset_index()\n",
    "df_edges[['src', 'dst']] = df_edges['Usuarios'].tolist()\n",
    "df_edges[['src_padron', 'src_nota']] = df_edges['src'].tolist()\n",
    "df_edges[['dst_padron', 'dst_nota']] = df_edges['dst'].tolist()\n",
    "# Nos quedamos solo con las materias aprobadas (nota > 0)\n",
    "df_edges = df_edges[df_edges['src_nota'] > 0]\n",
    "df_edges = df_edges[df_edges['dst_nota'] > 0]\n",
    "df_edges = df_edges[['src_padron', 'dst_padron', 'materia_cuatrimestre', 'materia_id', 'src_nota', 'dst_nota']]\n",
    "display(df_edges.dropna().tail(3))"
   ]
  },
  {
   "cell_type": "code",
   "execution_count": null,
   "id": "afab6a0f",
   "metadata": {},
   "outputs": [],
   "source": [
    "import networkx as nx\n",
    "G = nx.from_pandas_edgelist(df_edges, \n",
    "                            source='src_padron', \n",
    "                            target='dst_padron', \n",
    "                            edge_attr=['materia_id','materia_cuatrimestre', 'src_nota', 'dst_nota'], \n",
    "                            create_using=nx.MultiGraph())\n",
    "\n",
    "nx.set_node_attributes(G, df_nodes.to_dict('index'))\n",
    "print(G)"
   ]
  },
  {
   "cell_type": "code",
   "execution_count": null,
   "id": "09b4e768",
   "metadata": {},
   "outputs": [],
   "source": [
    "# Veamos el grafo\n",
    "import matplotlib.pyplot as plt\n",
    "\n",
    "fig, axes = plt.subplots(nrows=1, ncols=2, figsize=(30,10))\n",
    "ax = axes.flatten()\n",
    "\n",
    "nx.draw_networkx(G, pos=nx.circular_layout(G), width=0.005, node_size=50, with_labels=False, ax=ax[0])\n",
    "nx.draw_networkx(G, pos=nx.spiral_layout(G),   width=0.005, node_size=50, with_labels=False, ax=ax[1])"
   ]
  },
  {
   "cell_type": "code",
   "execution_count": null,
   "id": "ec39cc37",
   "metadata": {},
   "outputs": [],
   "source": [
    "# # Solo como demo: ahora veamos el grafo, pero dibujemos todas las aristas\n",
    "# # Robadisimo de: https://stackoverflow.com/a/60638452\n",
    "# pos = nx.random_layout(G)\n",
    "# nx.draw_networkx_nodes(G, pos)\n",
    "# ax = plt.gca()\n",
    "# for e in G.edges:\n",
    "#     ax.annotate(\"\",\n",
    "#                 xy=pos[e[0]], xycoords='data',\n",
    "#                 xytext=pos[e[1]], textcoords='data',\n",
    "#                 arrowprops=dict(arrowstyle=\"-\", color=\"0.5\",\n",
    "#                                 connectionstyle=\"arc3,rad=rr\".replace('rr',str(0.3*e[2]))),\n",
    "#                 )\n",
    "# plt.axis('off')\n",
    "# plt.show()"
   ]
  },
  {
   "cell_type": "markdown",
   "id": "4ecb03e3-e246-46cf-8422-92a1ffcd97ab",
   "metadata": {},
   "source": [
    "## Stats generales del grafo"
   ]
  },
  {
   "cell_type": "code",
   "execution_count": null,
   "id": "65706196",
   "metadata": {},
   "outputs": [],
   "source": [
    "print(f\"\"\"\n",
    "  El diámetro de la red: {nx.diameter(G)}\n",
    "  El grado promedio de la red: {sum([n[1] for n in G.degree()]) / len(G):.2f}\n",
    "  TODO: Los allegados promedio de la red: \n",
    "  Puentes globales: {list(nx.bridges(G))}\n",
    "\"\"\")"
   ]
  },
  {
   "cell_type": "markdown",
   "id": "0fdf8612-1395-4df4-96e6-4c6fa439819d",
   "metadata": {},
   "source": [
    "## Comunidades"
   ]
  },
  {
   "cell_type": "code",
   "execution_count": null,
   "id": "2880feee",
   "metadata": {},
   "outputs": [],
   "source": [
    "from networkx.algorithms import community\n",
    "louvain = community.louvain_communities(G)"
   ]
  },
  {
   "cell_type": "code",
   "execution_count": null,
   "id": "9d9225e2",
   "metadata": {},
   "outputs": [],
   "source": [
    "from networkx.algorithms import community\n",
    "import matplotlib.colors as mcolors\n",
    "import random\n",
    "\n",
    "random.seed(42)\n",
    "plt.figure(figsize=(30,10))\n",
    "\n",
    "louvain = community.louvain_communities(G)\n",
    "draw_nodes = {}\n",
    "colors = random.sample(list(mcolors.TABLEAU_COLORS), len(louvain))\n",
    "for louvaincommunity, color in zip(louvain, colors):\n",
    "    draw_nodes.update({n: color for n in louvaincommunity})\n",
    "    \n",
    "plt.title(\"Louvain Communities\")\n",
    "nx.draw_networkx(G, \n",
    "                 nodelist=draw_nodes.keys(), \n",
    "                 node_color=list(draw_nodes.values()), \n",
    "                 width=0.005, \n",
    "                 pos=nx.kamada_kawai_layout(G),\n",
    "                 font_size=10)"
   ]
  },
  {
   "cell_type": "markdown",
   "id": "e5878b6a-dbb7-4224-8d0c-4e2b2a90f41e",
   "metadata": {},
   "source": [
    "### Evaluación de comunidades por \"generación\"\n",
    "¿Existe correlación entre la distribución de padrones y la comunidad? De tal forma que las comunidades sean por camadas o \"generacionales\""
   ]
  },
  {
   "cell_type": "code",
   "execution_count": null,
   "id": "1914aeee",
   "metadata": {},
   "outputs": [],
   "source": [
    "louvain_padrones = []\n",
    "for i, comunidad in enumerate(louvain):\n",
    "    for padron in comunidad:\n",
    "        louvain_padrones.append((padron, i))\n",
    "df_comunidades = pd.DataFrame(louvain_padrones, columns=[\"padron\", \"comunidad\"])\n",
    "df_comunidades[\"comunidad\"].value_counts()"
   ]
  },
  {
   "cell_type": "code",
   "execution_count": null,
   "id": "751b5283-fdb4-49d1-bac0-851dc18d99a5",
   "metadata": {},
   "outputs": [],
   "source": [
    "import seaborn as sns\n",
    "\n",
    "# len patch for overflow\n",
    "df = df_comunidades[(df_comunidades['padron'].str.isdigit()) & (df_comunidades[\"padron\"].str.len() >= 5) & (df_comunidades[\"padron\"].str.len() <= 6)].copy()\n",
    "df[\"padron\"] = df[\"padron\"].astype(int)\n",
    "\n",
    "# remove outliers by percentiles, stolen from https://stackoverflow.com/a/59366409\n",
    "Q1 = df[\"padron\"].quantile(0.10)\n",
    "Q3 = df[\"padron\"].quantile(0.90)\n",
    "IQR = Q3 - Q1\n",
    "df_comunidades = df[~((df[\"padron\"] < (Q1 - 1.5 * IQR)) |(df[\"padron\"] > (Q3 + 1.5 * IQR)))]\n",
    "df_comunidades.sample(3)"
   ]
  },
  {
   "cell_type": "markdown",
   "id": "c639f92a-233f-4bc0-b844-64088db42d15",
   "metadata": {},
   "source": [
    "Se puede observar una mínima correlación considerando el intervalo más frecuente de cada comunidad"
   ]
  },
  {
   "cell_type": "code",
   "execution_count": null,
   "id": "8cd20b95-6f9a-4c69-a1a5-3b12f787d6db",
   "metadata": {},
   "outputs": [],
   "source": [
    "# TODO: display as rows instead of columns, perhaps?\n",
    "# TODO: play with the \"stat\" parameter. another interesting one is the \"density\" parameter\n",
    "# TODO: Antes de graficar, ordenar las comunidades segun el promedio: asi te quedan de izquierda a derecha la comunidad mas vieja (90osos) a la comunidad mas joven (100osos)\n",
    "g = sns.displot(\n",
    "    df_comunidades,\n",
    "    x=\"padron\",\n",
    "    col=\"comunidad\",\n",
    "    element=\"step\",\n",
    "    stat=\"count\",\n",
    "    common_norm=False,\n",
    ")"
   ]
  },
  {
   "cell_type": "markdown",
   "id": "25346f50-e848-451f-8833-fddee4b353cb",
   "metadata": {},
   "source": [
    "### Materias y cuatrimestres en común\n",
    "Se puede aproximar a una mejor noción de _camada_ que simplemente tomando el padrón, tomando el conjunto de materias/cuatrimestre más populares por comunidad.\n",
    "\n",
    "Las comunidades considerando dicha métrica, se observan personas que:\n",
    "\n",
    "- Entraron a la facultad en el 2019c1\n",
    "- Cursaron Taller de Programación en el 2020c1\n",
    "- Entraron a la facultad en el 2020c1\n",
    "- Tienen planificado hacer Base de Datos y Legislación en el 2023c1 (comunidad más chica)\n",
    "- Entraron a la facultad en el 2021c1"
   ]
  },
  {
   "cell_type": "code",
   "execution_count": null,
   "id": "092ce793-7189-4e74-a8d7-dbd876938fb5",
   "metadata": {},
   "outputs": [],
   "source": [
    "df = df_comunidades.copy()\n",
    "df['padron'] = df['padron'].astype(str)\n",
    "df_src = pd.merge(df_edges, df, left_on='src_padron', right_on='padron')\n",
    "df_dst = pd.merge(df_edges, df, left_on='dst_padron', right_on='padron')\n",
    "(\n",
    "    pd\n",
    "        .concat([df_src, df_dst])\n",
    "        .groupby(['comunidad', 'materia_cuatrimestre', 'materia_id'])\n",
    "        .agg(count=('src_padron', 'count'))\n",
    "        .sort_values('count', ascending=False)\n",
    "        .reset_index()\n",
    "        .groupby('comunidad')   # obtener top 3 materias/cuatrimestres por comunidad\n",
    "        .head(3)\n",
    "        .sort_values(['comunidad', 'count'])\n",
    ")"
   ]
  },
  {
   "cell_type": "markdown",
   "id": "2ab16645-98d4-4428-9fba-885b2025ea95",
   "metadata": {},
   "source": [
    "## Subcomunidades"
   ]
  },
  {
   "cell_type": "code",
   "execution_count": null,
   "id": "ee504853",
   "metadata": {},
   "outputs": [],
   "source": [
    "subnetwork = nx.subgraph(G, max(louvain, key=len))\n",
    "subnetwork_louvain = community.louvain_communities(subnetwork)\n",
    "plt.figure(figsize=(20,10))\n",
    "\n",
    "draw_nodes = {}\n",
    "colors = random.sample(list(mcolors.TABLEAU_COLORS), len(subnetwork_louvain))\n",
    "for louvain, color in zip(subnetwork_louvain, colors):\n",
    "    draw_nodes.update({n: color for n in louvain})\n",
    "    \n",
    "plt.title(\"Louvain Communities (of the OG Louvain Community with the most nodes)\")\n",
    "nx.draw_networkx(subnetwork, \n",
    "                 nodelist=draw_nodes.keys(), \n",
    "                 node_color=list(draw_nodes.values()), \n",
    "                 width=0.05, \n",
    "                 pos=nx.kamada_kawai_layout(subnetwork),\n",
    "                 font_size=10)"
   ]
  },
  {
   "cell_type": "code",
   "execution_count": null,
   "id": "be457ac8",
   "metadata": {},
   "outputs": [],
   "source": [
    "subnetwork_louvain"
   ]
  },
  {
   "cell_type": "code",
   "execution_count": null,
   "id": "44321abb",
   "metadata": {},
   "outputs": [],
   "source": [
    "# todo: usar graphrole y rolx"
   ]
  },
  {
   "cell_type": "code",
   "execution_count": null,
   "id": "471c4f0a",
   "metadata": {},
   "outputs": [],
   "source": [
    "# todo: ejercicio 5 de parcialito 3"
   ]
  },
  {
   "cell_type": "code",
   "execution_count": null,
   "id": "d4a020a8",
   "metadata": {},
   "outputs": [],
   "source": [
    "# todo: leer TODA la documentacion de \"algorithms\" de nx y ver que aplica aca\n",
    "# https://networkx.org/documentation/stable/reference/algorithms/index.html"
   ]
  },
  {
   "cell_type": "code",
   "execution_count": null,
   "id": "9e3a1f7d",
   "metadata": {},
   "outputs": [],
   "source": [
    "# - Los 3 notebooks de grafos hacen exactamente el mismo analisis, pero con distintas conclusiones\n",
    "# - Cada notebook de grafo devuelve un __algo__ que sea util y valioso para el usuario (despues vemos como se lo proveemos)\n",
    "#   y la respuesta puede ser o de comunidad o de roles, hay que ver que es lo adecuado."
   ]
  }
 ],
 "metadata": {
  "kernelspec": {
   "display_name": "Python 3 (ipykernel)",
   "language": "python",
   "name": "python3"
  }
 },
 "nbformat": 4,
 "nbformat_minor": 5
}
