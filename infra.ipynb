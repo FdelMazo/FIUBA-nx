{
 "cells": [
  {
   "cell_type": "code",
   "execution_count": null,
   "id": "957fcd5a",
   "metadata": {},
   "outputs": [
    {
     "data": {
      "text/plain": [
       "'https://docs.google.com/spreadsheets/d/1b6h2RApBs2xbN6-eGVvxH68EALKDklvS91fb7d_IVz4/export?format=csv&gid=2103959160'"
      ]
     },
     "execution_count": null,
     "metadata": {},
     "output_type": "execute_result"
    }
   ],
   "source": [
    "import tqdm  # TODO: Agregar un poetry o requirements...\n",
    "import json\n",
    "import pandas as pd\n",
    "import requests\n",
    "\n",
    "SHEET_ID = '1b6h2RApBs2xbN6-eGVvxH68EALKDklvS91fb7d_IVz4'\n",
    "\n",
    "# ID de cada sheet\n",
    "# usuarios -> 102021014\n",
    "# registros -> 2103959160\n",
    "# usuarios-all -> 1608673456\n",
    "# registros-all -> 1249987488\n",
    "SHEET_TAB_ID = '2103959160'\n",
    "SHEET_URL = f'https://docs.google.com/spreadsheets/d/{SHEET_ID}/export?format=csv&gid={SHEET_TAB_ID}'\n",
    "\n",
    "SHEET_URL"
   ]
  },
  {
   "cell_type": "code",
   "execution_count": null,
   "id": "5cb7f5b2",
   "metadata": {},
   "outputs": [
    {
     "data": {
      "text/html": [
       "<div>\n",
       "<style scoped>\n",
       "    .dataframe tbody tr th:only-of-type {\n",
       "        vertical-align: middle;\n",
       "    }\n",
       "\n",
       "    .dataframe tbody tr th {\n",
       "        vertical-align: top;\n",
       "    }\n",
       "\n",
       "    .dataframe thead th {\n",
       "        text-align: right;\n",
       "    }\n",
       "</style>\n",
       "<table border=\"1\" class=\"dataframe\">\n",
       "  <thead>\n",
       "    <tr style=\"text-align: right;\">\n",
       "      <th></th>\n",
       "      <th>Timestamp</th>\n",
       "      <th>Padron</th>\n",
       "      <th>Carrera</th>\n",
       "      <th>Mapa</th>\n",
       "    </tr>\n",
       "  </thead>\n",
       "  <tbody>\n",
       "    <tr>\n",
       "      <th>0</th>\n",
       "      <td>9/1/2022 12:22:57</td>\n",
       "      <td>102725</td>\n",
       "      <td>civil</td>\n",
       "      <td>{\"materias\":[{\"id\":\"CBC28\",\"nota\":8},{\"id\":\"CB...</td>\n",
       "    </tr>\n",
       "    <tr>\n",
       "      <th>1</th>\n",
       "      <td>9/1/2022 12:13:52</td>\n",
       "      <td>105343</td>\n",
       "      <td>informatica</td>\n",
       "      <td>{\"materias\":[{\"id\":\"CBC28\",\"nota\":5},{\"id\":\"CB...</td>\n",
       "    </tr>\n",
       "    <tr>\n",
       "      <th>2</th>\n",
       "      <td>9/1/2022 11:50:45</td>\n",
       "      <td>105974</td>\n",
       "      <td>informatica</td>\n",
       "      <td>{\"materias\":[{\"id\":\"CBC28\",\"nota\":10},{\"id\":\"C...</td>\n",
       "    </tr>\n",
       "    <tr>\n",
       "      <th>3</th>\n",
       "      <td>9/1/2022 11:49:45</td>\n",
       "      <td>102889</td>\n",
       "      <td>informatica</td>\n",
       "      <td>{\"materias\":[{\"id\":\"CBC\",\"nota\":0},{\"id\":\"62.0...</td>\n",
       "    </tr>\n",
       "    <tr>\n",
       "      <th>4</th>\n",
       "      <td>9/1/2022 11:46:00</td>\n",
       "      <td>108215</td>\n",
       "      <td>informatica</td>\n",
       "      <td>{\"materias\":[{\"id\":\"CBC28\",\"nota\":7},{\"id\":\"CB...</td>\n",
       "    </tr>\n",
       "  </tbody>\n",
       "</table>\n",
       "</div>"
      ],
      "text/plain": [
       "           Timestamp  Padron      Carrera  \\\n",
       "0  9/1/2022 12:22:57  102725        civil   \n",
       "1  9/1/2022 12:13:52  105343  informatica   \n",
       "2  9/1/2022 11:50:45  105974  informatica   \n",
       "3  9/1/2022 11:49:45  102889  informatica   \n",
       "4  9/1/2022 11:46:00  108215  informatica   \n",
       "\n",
       "                                                Mapa  \n",
       "0  {\"materias\":[{\"id\":\"CBC28\",\"nota\":8},{\"id\":\"CB...  \n",
       "1  {\"materias\":[{\"id\":\"CBC28\",\"nota\":5},{\"id\":\"CB...  \n",
       "2  {\"materias\":[{\"id\":\"CBC28\",\"nota\":10},{\"id\":\"C...  \n",
       "3  {\"materias\":[{\"id\":\"CBC\",\"nota\":0},{\"id\":\"62.0...  \n",
       "4  {\"materias\":[{\"id\":\"CBC28\",\"nota\":7},{\"id\":\"CB...  "
      ]
     },
     "execution_count": null,
     "metadata": {},
     "output_type": "execute_result"
    }
   ],
   "source": [
    "df_registros = pd.read_csv(SHEET_URL)\n",
    "df_registros.head()"
   ]
  },
  {
   "cell_type": "code",
   "execution_count": null,
   "id": "db8f5b8a-554c-47af-bc1b-eb85b71a386b",
   "metadata": {},
   "outputs": [
    {
     "name": "stdout",
     "output_type": "stream",
     "text": [
      "Remuevo los 11 registros invalidos\n"
     ]
    }
   ],
   "source": [
    "print(f\"Remuevo los {df_registros[df_registros['Padron'].isnull()]['Timestamp'].count()} registros invalidos\")\n",
    "df_registros = df_registros[df_registros['Padron'].notnull()]\n",
    "df_registros.head()"
   ]
  },
  {
   "cell_type": "code",
   "execution_count": null,
   "id": "417f2859-3d2f-4d50-8322-c84a284cc243",
   "metadata": {},
   "outputs": [
    {
     "name": "stderr",
     "output_type": "stream",
     "text": [
      "100%|███████████████████████████████████████████████████████████████████████████████████████████████████████████████████████████████████████████████████████████████████████████| 4230/4230 [00:28<00:00, 149.81it/s]\n"
     ]
    }
   ],
   "source": [
    "# TODOs:\n",
    "# - joinear con \"usuarios\" para obtener orientacion y tpp/tesis\n",
    "# - ver si podemos rescatar \"checkboxes\" del json_mapa\n",
    "# - ver si podemos migrar el legacy \"materia_cuatri\" con el nuevo \"materia_cuatrimestre\"\n",
    "# - ver por qué hay padrones que no se toman (celda de arriba (teléfono para fede (será tema de formateo de dato numérico en gsheets?)))\n",
    "dfr = df_registros\n",
    "df_mapas = None\n",
    "for idx in tqdm.tqdm(dfr.index):\n",
    "    json_mapa = json.loads(dfr.loc[idx]['Mapa'])\n",
    "    df_materias = pd.json_normalize(json_mapa['materias'])\n",
    "    \n",
    "    if 'optativas' not in json_mapa:\n",
    "        df_optativas = pd.DataFrame()\n",
    "    else:\n",
    "        df_optativas = pd.json_normalize(json_mapa['optativas'])\n",
    "\n",
    "    df_materias = df_materias.add_prefix('materia_')\n",
    "    df_optativas = df_optativas.add_prefix('optativa_')\n",
    "\n",
    "    df_map = pd.concat([df_materias, df_optativas]).reset_index(drop=True)\n",
    "    df_map['Padron'] = dfr.loc[idx]['Padron']\n",
    "    df_map['Carrera'] = dfr.loc[idx]['Carrera']\n",
    "    df_map['Timestamp'] = dfr.loc[idx]['Timestamp']\n",
    "    \n",
    "    if df_mapas is None:\n",
    "        df_mapas = df_map\n",
    "    else:\n",
    "        df_mapas = pd.concat([df_mapas, df_map])"
   ]
  },
  {
   "cell_type": "code",
   "execution_count": null,
   "id": "439647fe-9025-4987-9905-1b75cac4178e",
   "metadata": {},
   "outputs": [
    {
     "data": {
      "text/html": [
       "<div>\n",
       "<style scoped>\n",
       "    .dataframe tbody tr th:only-of-type {\n",
       "        vertical-align: middle;\n",
       "    }\n",
       "\n",
       "    .dataframe tbody tr th {\n",
       "        vertical-align: top;\n",
       "    }\n",
       "\n",
       "    .dataframe thead th {\n",
       "        text-align: right;\n",
       "    }\n",
       "</style>\n",
       "<table border=\"1\" class=\"dataframe\">\n",
       "  <thead>\n",
       "    <tr style=\"text-align: right;\">\n",
       "      <th></th>\n",
       "      <th>materia_id</th>\n",
       "      <th>materia_nota</th>\n",
       "      <th>materia_cuatrimestre</th>\n",
       "      <th>Padron</th>\n",
       "      <th>Carrera</th>\n",
       "      <th>Timestamp</th>\n",
       "      <th>optativa_id</th>\n",
       "      <th>optativa_nombre</th>\n",
       "      <th>optativa_creditos</th>\n",
       "      <th>materia_cuatri</th>\n",
       "    </tr>\n",
       "  </thead>\n",
       "  <tbody>\n",
       "    <tr>\n",
       "      <th>0</th>\n",
       "      <td>CBC24</td>\n",
       "      <td>5.0</td>\n",
       "      <td>NaN</td>\n",
       "      <td>103779</td>\n",
       "      <td>industrial</td>\n",
       "      <td>8/31/2022 19:57:20</td>\n",
       "      <td>NaN</td>\n",
       "      <td>NaN</td>\n",
       "      <td>NaN</td>\n",
       "      <td>NaN</td>\n",
       "    </tr>\n",
       "    <tr>\n",
       "      <th>1</th>\n",
       "      <td>CBC3</td>\n",
       "      <td>7.0</td>\n",
       "      <td>NaN</td>\n",
       "      <td>103779</td>\n",
       "      <td>industrial</td>\n",
       "      <td>8/31/2022 19:57:20</td>\n",
       "      <td>NaN</td>\n",
       "      <td>NaN</td>\n",
       "      <td>NaN</td>\n",
       "      <td>NaN</td>\n",
       "    </tr>\n",
       "    <tr>\n",
       "      <th>2</th>\n",
       "      <td>CBC5</td>\n",
       "      <td>7.0</td>\n",
       "      <td>NaN</td>\n",
       "      <td>103779</td>\n",
       "      <td>industrial</td>\n",
       "      <td>8/31/2022 19:57:20</td>\n",
       "      <td>NaN</td>\n",
       "      <td>NaN</td>\n",
       "      <td>NaN</td>\n",
       "      <td>NaN</td>\n",
       "    </tr>\n",
       "    <tr>\n",
       "      <th>3</th>\n",
       "      <td>CBC40</td>\n",
       "      <td>9.0</td>\n",
       "      <td>NaN</td>\n",
       "      <td>103779</td>\n",
       "      <td>industrial</td>\n",
       "      <td>8/31/2022 19:57:20</td>\n",
       "      <td>NaN</td>\n",
       "      <td>NaN</td>\n",
       "      <td>NaN</td>\n",
       "      <td>NaN</td>\n",
       "    </tr>\n",
       "    <tr>\n",
       "      <th>4</th>\n",
       "      <td>CBC</td>\n",
       "      <td>0.0</td>\n",
       "      <td>NaN</td>\n",
       "      <td>103779</td>\n",
       "      <td>industrial</td>\n",
       "      <td>8/31/2022 19:57:20</td>\n",
       "      <td>NaN</td>\n",
       "      <td>NaN</td>\n",
       "      <td>NaN</td>\n",
       "      <td>NaN</td>\n",
       "    </tr>\n",
       "  </tbody>\n",
       "</table>\n",
       "</div>"
      ],
      "text/plain": [
       "  materia_id  materia_nota  materia_cuatrimestre  Padron     Carrera  \\\n",
       "0      CBC24           5.0                   NaN  103779  industrial   \n",
       "1       CBC3           7.0                   NaN  103779  industrial   \n",
       "2       CBC5           7.0                   NaN  103779  industrial   \n",
       "3      CBC40           9.0                   NaN  103779  industrial   \n",
       "4        CBC           0.0                   NaN  103779  industrial   \n",
       "\n",
       "            Timestamp  optativa_id optativa_nombre optativa_creditos  \\\n",
       "0  8/31/2022 19:57:20          NaN             NaN               NaN   \n",
       "1  8/31/2022 19:57:20          NaN             NaN               NaN   \n",
       "2  8/31/2022 19:57:20          NaN             NaN               NaN   \n",
       "3  8/31/2022 19:57:20          NaN             NaN               NaN   \n",
       "4  8/31/2022 19:57:20          NaN             NaN               NaN   \n",
       "\n",
       "   materia_cuatri  \n",
       "0             NaN  \n",
       "1             NaN  \n",
       "2             NaN  \n",
       "3             NaN  \n",
       "4             NaN  "
      ]
     },
     "execution_count": null,
     "metadata": {},
     "output_type": "execute_result"
    }
   ],
   "source": [
    "df_mapas.head()"
   ]
  },
  {
   "cell_type": "code",
   "execution_count": null,
   "id": "5472ecec-3b2d-4fd5-9986-b4009a18161f",
   "metadata": {},
   "outputs": [
    {
     "data": {
      "text/plain": [
       "(94335, 10)"
      ]
     },
     "execution_count": null,
     "metadata": {},
     "output_type": "execute_result"
    }
   ],
   "source": [
    "df_mapas.shape"
   ]
  },
  {
   "cell_type": "code",
   "execution_count": null,
   "id": "938e7f13-4676-4771-8923-946d8779ef36",
   "metadata": {},
   "outputs": [
    {
     "data": {
      "text/plain": [
       "43    101696\n",
       "35    104956\n",
       "41    104393\n",
       "26     97009\n",
       "42    107378\n",
       "32     99248\n",
       "36    105931\n",
       "33    106295\n",
       "40    107964\n",
       "45    100972\n",
       "36    102740\n",
       "39    106004\n",
       "41    105774\n",
       "39    106440\n",
       "47    105970\n",
       "36    104351\n",
       "31    108645\n",
       "35       NaN\n",
       "40    109071\n",
       "34    102342\n",
       "16    109555\n",
       "40    103784\n",
       "48    103775\n",
       "42    103785\n",
       "39    109131\n",
       "34    104196\n",
       "36     23456\n",
       "Name: Padron, dtype: object"
      ]
     },
     "execution_count": null,
     "metadata": {},
     "output_type": "execute_result"
    }
   ],
   "source": [
    "# Gente que tiene pensado hacer Simu en el futuro...\n",
    "df_mapas[df_mapas['materia_id'].isin(['75.26']) & (df_mapas['materia_cuatrimestre'] >= 2023)]['Padron']"
   ]
  },
  {
   "cell_type": "code",
   "execution_count": null,
   "id": "5af1fd82-a0f1-4f50-ad67-8666f4e72e34",
   "metadata": {},
   "outputs": [],
   "source": []
  }
 ],
 "metadata": {
  "kernelspec": {
   "display_name": "Python 3 (ipykernel)",
   "language": "python",
   "name": "python3"
  }
 },
 "nbformat": 4,
 "nbformat_minor": 5
}
