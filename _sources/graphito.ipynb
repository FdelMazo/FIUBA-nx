{
 "cells": [
  {
   "cell_type": "markdown",
   "id": "46eee65d",
   "metadata": {},
   "source": [
    "# Graphito: ¿Podemos decir que el FIUBA-Map forma una red social?\n",
    "\n",
    "A lo largo del trabajo práctico vamos a generar diferentes grafos con el set de datos de alumnos de FIUBA. Pero para poder hacer estos análisis, queremos asegurarnos que los datos que tenemos se asemejen a los de una red social, para así poder utilizar los recursos que conocemos para análisis de redes sociales. Así que, para dar un primer pantallazo, vamos a conectar a aquellos alumnos que cursaron juntos alguna materia en un mismo cuatrimestre, de manera tal que los alumnos (**nodos**) se conectan si alguna vez cursaron juntos una materia (**aristas**), y a partir de ello vamos a hacer un análisis general de la misma:\n",
    "\n",
    "- ¿Cuál es su diámetro (largo máximo de todos los caminos mínimos)?\n",
    "- ¿Cuál es el grado promedio? ¿Les alumnes tienden a tener muchas conexiones, es decir que tienden a hacer las mismas materias con las mismas personas? ¿Cómo se distribuyen los grados?\n",
    "- ¿Cuál es el coeficiente de clustering? ¿Mis amigues son amigues entre sí?\n",
    "- ¿Tiene una componente gigante?\n",
    "- ¿Es una red aleatoria? \n",
    "- ¿Cómo evoluciona nuestra red, considerando el factor temporal de los cuatrimestres?"
   ]
  },
  {
   "cell_type": "markdown",
   "id": "a96f9898-b028-4165-bc1a-438133093d7d",
   "metadata": {},
   "source": [
    "## ¿Cómo es el grafo?\n",
    "\n",
    "El grafo va a ser simple sin pesos\n",
    "\n",
    "- Nodos: Alumnos\n",
    "- Aristas: Conectar dos alumnos que hayan cursado la misma materia el mismo cuatrimestre"
   ]
  },
  {
   "cell_type": "markdown",
   "id": "a4b8af48-6644-460d-ba3d-7e4889bb3689",
   "metadata": {},
   "source": [
    "## Set up"
   ]
  },
  {
   "cell_type": "code",
   "execution_count": null,
   "id": "ee52c2b7",
   "metadata": {},
   "outputs": [],
   "source": [
    "import pandas as pd\n",
    "import utils\n",
    "\n",
    "df = pd.read_pickle('fiuba-map-data.pickle')\n",
    "df = df.dropna(axis=1, how='all')\n",
    "display(df.sample(3))\n",
    "df.shape"
   ]
  },
  {
   "cell_type": "code",
   "execution_count": null,
   "id": "3d982877-9fe6-4dc9-9ebf-0612560514c8",
   "metadata": {},
   "outputs": [],
   "source": [
    "df_nodos = df[[\"Padron\", \"materia_id\", \"materia_cuatrimestre\"]]\n",
    "\n",
    "# Sacamos a aquellos que no ordenan su carrera por cuatrimestres\n",
    "df_nodos.dropna(subset=['materia_cuatrimestre'], inplace=True)\n",
    "# Sacamos a aquellos que solo agregaron 1 o 2 materias a modo de prueba\n",
    "df_nodos = df_nodos.groupby(['Padron', 'materia_cuatrimestre']).filter(lambda x: len(x)>2)\n",
    "\n",
    "display(df_nodos.sample(3))\n",
    "df_nodos.shape"
   ]
  },
  {
   "cell_type": "code",
   "execution_count": null,
   "id": "5da0554b-1af6-4a6f-9853-e4951897b09a",
   "metadata": {},
   "outputs": [],
   "source": [
    "df_red = utils.construir_df_pareando_padrones_por(df_nodos, 'materia_cuatrimestre')\n",
    "\n",
    "df_red = df_red.drop_duplicates(['Padron_min', 'Padron_max']).reset_index()\n",
    "df_red = df_red[['Padron_x', 'Padron_y', 'materia_id', 'materia_cuatrimestre']]\n",
    "df_red.rename(columns = {'Padron_x':'src_padron', 'Padron_y':'dst_padron'}, inplace = True)\n",
    "\n",
    "display(df_red.sample(3))\n",
    "df_red.shape"
   ]
  },
  {
   "cell_type": "code",
   "execution_count": null,
   "id": "38f76bcb-7680-4e21-8628-20fd6af3bb4c",
   "metadata": {},
   "outputs": [],
   "source": [
    "import networkx as nx\n",
    "import matplotlib.pyplot as plt\n",
    "\n",
    "G = nx.from_pandas_edgelist(df_red, \n",
    "                            source='src_padron', \n",
    "                            target='dst_padron',\n",
    "                            create_using=nx.Graph())\n",
    "\n",
    "nx.set_node_attributes(G, df_red.to_dict('index'))\n",
    "\n",
    "print(G)"
   ]
  },
  {
   "cell_type": "markdown",
   "id": "c52ce5f7-e9fe-48dd-9b8d-734273120e55",
   "metadata": {},
   "source": [
    "## Datos del Grafo\n",
    "\n",
    "### Diámetro"
   ]
  },
  {
   "cell_type": "code",
   "execution_count": null,
   "id": "a5db33f9-8bec-4938-aac5-25ac90bb0ade",
   "metadata": {},
   "outputs": [],
   "source": [
    "from utils import md\n",
    "md(f\"\"\"El **diámetro** de nuestra red es de {nx.diameter(G)}, y tiene mucho sentido que sea un número tan chico porque el FIUBA Map tiene cargadas las notas de alumnos desde el 2014 en adelante (aproximadamente), así que no hay tantas camadas de alumnos, sumado a que estamos filtrando por una carrera. Además de esto, los alumnos avanzan en la carrera a diferentes velocidades, por lo que hay recursantes que cursan con varias camadas. Teniendo en cuenta estos tres factores, hace que la mayoría de los nodos en el grafo están muy conectados. Es interesante también ver que la **distancia promedio de la red** de nuestra red es de {nx.average_shortest_path_length(G)}, lo cual se relaciona mucho a tener un diámetro tan pequeño.\\n\"\"\")\n",
    "\n",
    "utils.plot_diametro(G)"
   ]
  },
  {
   "cell_type": "markdown",
   "id": "a79beb47-1a7b-48e7-9c47-7ba3c1adea9a",
   "metadata": {},
   "source": [
    "### Grado (Promedio y Distribución)"
   ]
  },
  {
   "cell_type": "code",
   "execution_count": null,
   "id": "04096f17-4203-439a-ad95-0b1fa57f8ffd",
   "metadata": {},
   "outputs": [],
   "source": [
    "md(f\"\"\"El **grado promedio de la red** es de {sum([n[1] for n in G.degree()]) / len(G):.2f}. Sin embargo la distribución de los grados es uniforme, y eso se debe a que por un lado tenemos alumnes con gran antigüedad (los que escriben este TP) y por otro lado alumnes que recién arrancan las cursadas. Es interesante pensar, que a medida que los años pasen, la distribución va a inclinarse más a los números altos (que es algo que ya podemos notar).\\n\"\"\")\n",
    "\n",
    "utils.plot_distribucion_grados([G])"
   ]
  },
  {
   "cell_type": "markdown",
   "id": "c140f6c8-9469-4afc-81bc-f468fe478b04",
   "metadata": {},
   "source": [
    "### Clustering"
   ]
  },
  {
   "cell_type": "code",
   "execution_count": null,
   "id": "abb1e0ad-b17c-43da-adb4-f2fa24eab9e0",
   "metadata": {},
   "outputs": [],
   "source": [
    "md(f\"\"\"El **clustering** es la probabilidad de que dos vértices adyacentes de A sean adyacentes entre sí. El clustering promedio de esta red es {\"%3.4f\"%nx.average_clustering(G)}. En redes sociales tenemos en general un coeficiente de Clustering alto, aca podemos notar uno bastante alto. Un ejemplo claro es nuestra bella amistad con uno de los integrantes del trabajo. Un amigue A curso con B y nos presentó a B, desde entonces cursamos todas las materias juntes. \"\"\")\n",
    "\n",
    "utils.plot_clustering(G)"
   ]
  },
  {
   "cell_type": "markdown",
   "id": "372fe037-a859-425f-94ca-7e7d8e01d6c9",
   "metadata": {},
   "source": [
    "### Componente conexa"
   ]
  },
  {
   "cell_type": "code",
   "execution_count": null,
   "id": "048292d0-9274-4fed-855b-2c78462317ef",
   "metadata": {},
   "outputs": [],
   "source": [
    "md(f\"\"\"Por último, la componente {\"es conexa\" if nx.is_connected(G) else \"no es conexa\"}, es decir que tenemos una **componente gigante**.\\n\"\"\")"
   ]
  },
  {
   "cell_type": "markdown",
   "id": "bd65156d-61f2-4ae6-96b2-000125668a3a",
   "metadata": {},
   "source": [
    "## Simulación de modelados\n",
    "\n",
    "Ahora, vamos a realizar una simulación de un modelado de **Erdös-Rényi** y un modelado de **Preferential Attachment** (ley de potencias) que correspondan a los parámetros de nuestra red, para luego poder compararlos y poder entender si nuestra red es aleatoria. Para eso vamos a conocer el diámetro, grado promedio, distancia promedio, clustering promedio y si se trata de una componente gigante. Al finalizar, vamos realizar una representación de anonymous walks para cada una de las redes y vamos a determinar por distancia coseno cuál sería la simulación más afín y por qué.\n",
    "\n",
    "> El modelo Erdös-Rényi se utiliza para crear redes aleatorias en las redes sociales. En el modelo Erdös-Rényi, se tiene que un nuevo nodo se enlaza con igual probabilidad con el resto de la red, es decir posee una independencia estadística con el resto de nodos de la red\n",
    "\n",
    "> Para el modelo de Preferential Attachment usamos un algoritmo que se denomina Modelo de Barabási–Albert el cual genera redes aleatorias complejas empleando una regla o mecanismo denominado conexión preferencial. Las redes generadas por este algoritmo poseen una distribución de grado de tipo potencia."
   ]
  },
  {
   "cell_type": "markdown",
   "id": "0684fc59-3030-4266-b7fc-05fed6e8eea4",
   "metadata": {},
   "source": [
    "### Erdös Renyi"
   ]
  },
  {
   "cell_type": "code",
   "execution_count": null,
   "id": "2172b2d9-5295-403f-85ad-b50a0487b6b7",
   "metadata": {},
   "outputs": [],
   "source": [
    "g_erdos = nx.erdos_renyi_graph(G.number_of_nodes(), 0.6)\n",
    "print(f\"\"\"\n",
    "Red aleatoria Erdös-Renyi\n",
    "  El diámetro de la red: {nx.diameter(g_erdos)}\n",
    "  El grado promedio de la red: {sum([n[1] for n in g_erdos.degree()]) / len(g_erdos):.2f}\n",
    "  La distancia promedio de la red: {nx.average_shortest_path_length(g_erdos)}\n",
    "  Clustering promedio: {\"%3.4f\"%nx.average_clustering(g_erdos)}\n",
    "  Puentes globales: {list(nx.bridges(g_erdos))}\n",
    "  {\"Es conexa\" if nx.is_connected(g_erdos) else \"No es conexa\"}\n",
    "\"\"\")"
   ]
  },
  {
   "cell_type": "markdown",
   "id": "0db54dbe-3de7-4787-abb7-7a3d172593c2",
   "metadata": {},
   "source": [
    "### Preferential Attachment"
   ]
  },
  {
   "cell_type": "code",
   "execution_count": null,
   "id": "cad0c393-beee-43bb-ae89-2fe17e35d446",
   "metadata": {},
   "outputs": [],
   "source": [
    "g_preferential_attachment = nx.barabasi_albert_graph(G.number_of_nodes(), G.number_of_nodes()//G.number_of_nodes())\n",
    "print(f\"\"\"\n",
    "Red aleatoria Preferential Attachment\n",
    "  El diámetro de la red: {nx.diameter(g_preferential_attachment)}\n",
    "  El grado promedio de la red: {sum([n[1] for n in g_preferential_attachment.degree()]) / len(g_preferential_attachment):.2f}\n",
    "  La distancia promedio de la red: {nx.average_shortest_path_length(g_preferential_attachment)}\n",
    "  Clustering promedio: {nx.average_clustering(g_preferential_attachment)}\n",
    "  {\"Es conexa\" if nx.is_connected(g_preferential_attachment) else \"No es conexa\"}\n",
    "\"\"\")"
   ]
  },
  {
   "cell_type": "markdown",
   "id": "d2df3ad9-1879-4c17-a2ce-fb893ba60785",
   "metadata": {},
   "source": [
    "### Anonymous Walks"
   ]
  },
  {
   "cell_type": "code",
   "execution_count": null,
   "id": "ea7e9e59-839d-4f64-959e-b147c1e28ae1",
   "metadata": {},
   "outputs": [],
   "source": [
    "aw_erdos = utils.anonymous_walks(g_erdos)\n",
    "aw_preferential = utils.anonymous_walks(g_preferential_attachment)\n",
    "aw_original = utils.anonymous_walks(G)\n",
    "\n",
    "utils.plot_anonymous_walks([aw_original, aw_erdos, aw_preferential])"
   ]
  },
  {
   "cell_type": "code",
   "execution_count": null,
   "id": "3d3df902-c38f-4923-bd8b-976e35c1f4e8",
   "metadata": {},
   "outputs": [],
   "source": [
    "from numpy import linalg as LA\n",
    "import numpy as np\n",
    "\n",
    "md(f\"\"\"\n",
    "Las leyes de potencias aparecen de la **ventaja acumulativa**. Esto puede verse como un desbalance desproporcionado entre los que tienen muchos contactos, y los que tienen pocos. Es claro que el grafon no iba a ser similar a el grafo generado por Barabási–Albert, ya que no tiene sentido que un alumno tenga muchísimas aristas, mientras que otros tengan pocas ya que hay muchas materias en común. La distancia de coseno entre nuestro grafon y el grafo aleatorio es de {1 - np.inner(aw_original[7],  aw_preferential[7]) / (LA.norm(aw_original[7]) * LA.norm( aw_preferential[7]))}. \\n\n",
    "En cambio, al compararlo con el grafo generado con Erdös Renyi, podemos encontrar más similitudes. A diferencia del anterior, todos los nodos tienen probabilidad de contar con muchas aristas, dejando un grafo más real y parecido a una red de una Universidad en donde todos los alumnos tienden a cursar materias similares. La distancia de coseno entre los mismos {1 - np.inner(aw_original[7],  aw_erdos[7]) / (LA.norm(aw_original[7]) * LA.norm(aw_erdos[7]))}\n",
    "\"\"\")"
   ]
  },
  {
   "cell_type": "code",
   "execution_count": null,
   "id": "8bd69e13-7786-4d04-b227-ef02a8f61c72",
   "metadata": {},
   "outputs": [],
   "source": [
    "utils.plot_distribucion_grados([G, g_erdos, g_preferential_attachment])"
   ]
  },
  {
   "cell_type": "markdown",
   "id": "0e494a0f-2c83-400e-ac43-c6aeb4f476c9",
   "metadata": {},
   "source": [
    "## Evolución del FIUBA-Map"
   ]
  },
  {
   "attachments": {},
   "cell_type": "markdown",
   "id": "8c5e5dd5",
   "metadata": {},
   "source": [
    "Los resultados obtenidos hasta parten de \\\"una foto\\\" de una red social armada a partir del FIUBA map. Eso alcanza para hacer análisis muy interesantes, sacar conclusiones y contestar muchas preguntas.  \n",
    "\n",
    "Pero en nuestro set de datos contamos con un factor temporal inherente al dominio del problema con el que estamos tratando: los **cuatrimestes**. Es por eso que decidimos aprovechar esta particularidad y hacer un análisis para ver cómo evoluciona la red del FIUBA cuatrimestre a cuatrimeste.\n",
    "\n",
    "Para ello vamos a estudiar la evolución del grafo con el que estamos trabajando."
   ]
  },
  {
   "cell_type": "code",
   "execution_count": null,
   "id": "1dff001c-fee3-4982-bb72-925e21741520",
   "metadata": {},
   "outputs": [],
   "source": [
    "from datetime import datetime"
   ]
  },
  {
   "cell_type": "code",
   "execution_count": null,
   "id": "ff1af7b5-f00d-4f87-9e73-fc01546c8581",
   "metadata": {},
   "outputs": [],
   "source": [
    "# tomamos los cuatrimestres hasta la actualidad, sin tener en cuenta cuatrimestres que no pasaron porque la cantidad de nodos se mantiene constante\n",
    "curr_year = datetime.now().year\n",
    "curr_month = datetime.now().month\n",
    "curr_cuatri = curr_year if curr_month < 3 else curr_year + 0.5\n",
    "df_red = df_red.sort_values(by=['materia_cuatrimestre'])\n",
    "cuatris = df_red[df_red['materia_cuatrimestre'] < curr_cuatri]['materia_cuatrimestre'].unique()\n",
    "cuatris"
   ]
  },
  {
   "cell_type": "code",
   "execution_count": null,
   "id": "24081cd2-0854-4f27-9e3a-618beacadbcd",
   "metadata": {},
   "outputs": [],
   "source": [
    "graphs = []\n",
    "stats = []\n",
    "for cuatri in cuatris:\n",
    "    df_cuatri = df_red[df_red['materia_cuatrimestre'] <= cuatri]\n",
    "    G = nx.from_pandas_edgelist(df_cuatri, \n",
    "                                source='src_padron', \n",
    "                                target='dst_padron',\n",
    "                                create_using=nx.Graph())\n",
    "    graphs.append((cuatri, G))\n",
    "    diameter = nx.diameter(G) if nx.is_connected(G) else \"No conexo\"\n",
    "    stats.append([cuatri, len(G), len(G.edges),  diameter, f\"{sum([n[1] for n in G.degree()]) / len(G):.2f}\"])\n",
    "\n",
    "stats = pd.DataFrame(stats, columns=['Cuatrimestre','Nodos','Aristas', 'Diametro', 'Grado promedio'])\n",
    "print(stats.to_string(index=False), end='\\n\\n')\n",
    "\n",
    "n = len(cuatris) // 2\n",
    "fig, axs = plt.subplots(ncols=n, nrows=len(graphs)//n, figsize=(30,10))\n",
    "ax = axs.flatten()\n",
    "for i, g in enumerate(graphs):\n",
    "    ax[i].set_title(g[0])\n",
    "    nx.draw_networkx(g[1], pos=nx.kamada_kawai_layout(G), width=0.1 if i < 5 else 0.01, node_size=20, with_labels=False, ax=ax[i])"
   ]
  },
  {
   "cell_type": "markdown",
   "id": "504faadc-59b1-4274-950c-6f465cf8a729",
   "metadata": {},
   "source": [
    "Lo primero que podemos notar es que, a lo largo del tiempo, las aristas crecen mucho más rápido que los nodos (ya veremos en qué proporción), y a su vez, el diámetro se mantiene constante casi durante toda la evolución del grafo. De la mano con esto, el grado promedio de la red va en aumento, a cada paso de la evolución."
   ]
  },
  {
   "cell_type": "markdown",
   "id": "5208b3dd-d4b8-4005-800e-f048b3096fb4",
   "metadata": {},
   "source": [
    "### Evolución macroscópica"
   ]
  },
  {
   "cell_type": "markdown",
   "id": "7cba55d8-6943-49fc-b2f6-ac0e4b0e0007",
   "metadata": {},
   "source": [
    "Para entender más en profundidad esta evolución, analizaremos algunos de los indicadores principales como la cantidad de nodos y aristas, el diámetro y los grados de los nodos a lo largo del tiempo.  \n",
    "\n",
    "A continuación analizaremos la relación entre la cantidad de nodos y la cantidad de aristas a lo largo del tiempo"
   ]
  },
  {
   "cell_type": "code",
   "execution_count": null,
   "id": "b93e291a-3dbc-4ffc-b4b3-bcceaa22c6d6",
   "metadata": {},
   "outputs": [],
   "source": [
    "utils.plot_evolucion_macroscopica(graphs)"
   ]
  },
  {
   "cell_type": "markdown",
   "id": "b2ead111-72bd-4831-95f4-72d3b941cbbf",
   "metadata": {},
   "source": [
    "Sabemos que para la mayoría de las redes reales, la evolución de las aristas con respecto a la evolución de los nodos sigue la ley de potencia de densificación: \n",
    "\n",
    "$$ E(t) \\propto N(t)^\\alpha $$\n",
    "\n",
    "Donde $\\alpha$ es el exponente de densificación en el rango de [1, 2]. En nuestro caso, $\\alpha$ es mucho mayor a 1, lo que significa que a medida que evoluciona la red, el grado promedio de los nodos va vertiginosamente en aumento. Esto se condice con los grados promedios que salen de la tabla de evolución obtenida más arriba.\n",
    "\n",
    "Para obtener más información, analicemos el diámetro."
   ]
  },
  {
   "cell_type": "code",
   "execution_count": null,
   "id": "3c3a90bf-f1f1-4811-b25a-88796dd8e3e7",
   "metadata": {},
   "outputs": [],
   "source": [
    "# Eliminamos 2017.0 que se trata de un grafo no conexo, teniendo en cuenta que no es de suma relevancia ya que la cantidad de nodos es muy chica\n",
    "diam_graphs = graphs\n",
    "del diam_graphs[1]\n",
    "\n",
    "x = [g[0] for g in diam_graphs]\n",
    "y = [nx.diameter(g[1]) for g in diam_graphs]\n",
    "\n",
    "plt.xlabel(\"Cuatrimestre\")\n",
    "plt.ylabel(\"Diámetro\")\n",
    "plt.plot(x, y, '-o')\n",
    "plt.show()"
   ]
  },
  {
   "cell_type": "markdown",
   "id": "2ffee3cd-3536-41b6-9f7a-10a22e652fec",
   "metadata": {},
   "source": [
    "En primer lugar, como se mencionaba en el comentario, no es de suma relevancia lo que sucede previamente al 2017 porque la cantidad de nodos es muy chica. A partir de allí, se observa que el diámetro comienza en 6 y se reduce hasta que se mantiene constante en 4 hasta el final.\n",
    "\n",
    "Si tuviéramos un grafo de Erdös-Rényi, el diámetro crecería a pesar de una alta densificación, por lo cual, para esclarecer este asunto, estudiaremos también la distribución de los grados de los nodos."
   ]
  },
  {
   "cell_type": "code",
   "execution_count": null,
   "id": "411f311e-c15e-4048-a6cb-74fce1d9d0f0",
   "metadata": {},
   "outputs": [],
   "source": [
    "degrees = [(g[0], sorted((d for n, d in g[1].degree()), reverse=True)) for g in graphs]\n",
    "\n",
    "fig, axs = plt.subplots(ncols=n, nrows=len(graphs)//n+1, figsize=(30,10))\n",
    "ax = axs.flatten()\n",
    "\n",
    "for i, degree in enumerate(degrees):\n",
    "    ax[i].set_xlabel(\"Grado del nodo\")\n",
    "    ax[i].set_ylabel(\"Cantidad de nodos\")\n",
    "    ax[i].set_title(degree[0])\n",
    "    ax[i].bar(*np.unique(degree[1], return_counts=True)[::-1])"
   ]
  },
  {
   "cell_type": "markdown",
   "id": "f613a2be-95c1-4577-8ba7-5a19e0e164a5",
   "metadata": {},
   "source": [
    "Si vemos cómo evoluciona la cantidad de nodos en relación al grado de los mismos, a partir de 2018.5, observamos que, si bien no se comporta exactamente como el modelo de Preferential Attachment, la mayoría de los nodos tienen un grado bajo y muy pocos tienen grado muy alto. A su vez, estos pocos con grado elevado siguen incrementándolo a lo largo del tiempo.\n",
    "\n",
    "Habiendo dicho esto, y en conjunto con la alta densificación, se explica por qué el diámetro en la evolución se mantiene constante a lo largo de la evolución en vez de seguir creciendo, como tal vez se esperaría."
   ]
  }
 ],
 "metadata": {
  "kernelspec": {
   "display_name": "Python 3 (ipykernel)",
   "language": "python",
   "name": "python3"
  },
  "language_info": {
   "codemirror_mode": {
    "name": "ipython",
    "version": 3
   },
   "file_extension": ".py",
   "mimetype": "text/x-python",
   "name": "python",
   "nbconvert_exporter": "python",
   "pygments_lexer": "ipython3",
   "version": "3.11.1"
  },
  "vscode": {
   "interpreter": {
    "hash": "31f2aee4e71d21fbe5cf8b01ff0e069b9275f58929596ceb00d14d90e3e16cd6"
   }
  }
 },
 "nbformat": 4,
 "nbformat_minor": 5
}
