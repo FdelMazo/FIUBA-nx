{
 "cells": [
  {
   "cell_type": "markdown",
   "id": "46eee65d",
   "metadata": {},
   "source": [
    "# Graphito\n",
    "\n",
    "TO DO: Copiar template y analisis de grafazo\n",
    "\n",
    "```\n",
    "# \"que cuatrimestre armo?\" -> Graphito\n",
    "---\n",
    "\n",
    "# Vamos a armar un graphito: Analizar \"gente que se haya armado cuatris parecidos al mio\" -> Ahora tenemos factor temporal \"local\": No me importa que haya sido en el 2022C1, pero si me importa que las materias que curse el mismo cuatri esten en el mismo bucket\n",
    "# nodos -> usuarios\n",
    "# flechas -> compartir N materias el en mismo cuatri\n",
    "# peso -> Cuantas materias compartimos (2, 3, 4 o 5)\n",
    "```"
   ]
  },
  {
   "cell_type": "code",
   "execution_count": null,
   "id": "ee52c2b7",
   "metadata": {},
   "outputs": [],
   "source": []
  }
 ],
 "metadata": {
  "kernelspec": {
   "display_name": "Python 3 (ipykernel)",
   "language": "python",
   "name": "python3"
  },
  "language_info": {
   "codemirror_mode": {
    "name": "ipython",
    "version": 3
   },
   "file_extension": ".py",
   "mimetype": "text/x-python",
   "name": "python",
   "nbconvert_exporter": "python",
   "pygments_lexer": "ipython3",
   "version": "3.9.6"
  }
 },
 "nbformat": 4,
 "nbformat_minor": 5
}
