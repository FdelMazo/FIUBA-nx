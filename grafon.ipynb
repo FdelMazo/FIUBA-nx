{
 "cells": [
  {
   "cell_type": "markdown",
   "id": "7d3e4e83-58e0-457f-bd75-abf4b9337bed",
   "metadata": {},
   "source": [
    "# Grafón: Qué electivas me conviene cursar?\n",
    "\n",
    "Este grafo se encarga de analizar \"gente que haya tenido experiencias facultativas similares\", sin importar en que año o cuatrimestre fue. La idea es que si me fue parecido en varias materias a alguna otra persona, y esa persona curso alguna electiva que yo no, entonces esa materia es una buena candidata para mí.\n",
    "\n",
    "Por ejemplo: Por más que Juan se haya recibido el año pasado, es una persona que se parece mucho a mí porque nos sacamos las mismas notas en muchas materias. Probablemente las electivas que Juan eligió, me sirvan a mí como guía."
   ]
  },
  {
   "cell_type": "markdown",
   "id": "ec1f34d6-3931-463f-b747-bdeb614a307c",
   "metadata": {},
   "source": [
    "## Cómo es el grafo?\n",
    "\n",
    "El grafo analizado va a ser un grafo simple, y no un multigrafo: entre cada par de alumnos solo puede haber una arista. Manejamos la cardinalidad en el peso, en vez de tener múltiples aristas.\n",
    "\n",
    "- Nodos: alumnos\n",
    "- Aristas: conectar dos alumnos que hayan cursado misma materia y \"les fue parecido\".\n",
    "    - A los dos nos fue muy bien (nos sacamos entre 8 y 10)    \n",
    "    - A los dos nos fue más o menos (nos sacamos un 6 o un 7)\n",
    "    - A los dos nos fue mal (nos sacamos un 4 o un 5)\n",
    "- Peso: La inversa* de la cantidad de materias en donde somos similares\n",
    "\n",
    "*Calculamos la inversa porque mientras mas similares son, menor peso queremos que haya entre la arista, para que más cercanos esten\n",
    "\n",
    "### Dos formas de armar el análisis\n",
    "// ToDo: que hacemos aca? Elegimos uno, o presentamos ambos en el mismo notebook?\n",
    "// Miti miti? la parte de abajo mas enfocada en solo electivas¨\n",
    "- sólo correr sobre materias electivas\n",
    "- correr sobre todas las materias, pero filtrar el output por electivas"
   ]
  },
  {
   "cell_type": "code",
   "execution_count": null,
   "id": "71577f73-52b6-4a58-afaa-9c1a2d6d18f2",
   "metadata": {},
   "outputs": [],
   "source": [
    "import pandas as pd\n",
    "import utils\n",
    "\n",
    "df = pd.read_pickle('fiuba-map-data.pickle')\n",
    "df.sample(3)"
   ]
  },
  {
   "cell_type": "code",
   "execution_count": null,
   "id": "aa0663cb-1172-4be0-a27a-8f70e52c0156",
   "metadata": {},
   "outputs": [],
   "source": [
    "df_simil = utils.curar_data(df)\n",
    "display(df_simil.sample(3))\n",
    "df_simil.shape"
   ]
  },
  {
   "cell_type": "code",
   "execution_count": null,
   "id": "7b6e85c8-2f37-4e64-88d2-e06e4e5b8f5c",
   "metadata": {},
   "outputs": [],
   "source": [
    "df_simil.sort_values('cant_materias_similares', ascending=False).head(15)"
   ]
  },
  {
   "cell_type": "code",
   "execution_count": null,
   "id": "1226ed0c-90e3-4082-b6a4-c7924a9449c2",
   "metadata": {},
   "outputs": [],
   "source": [
    "import networkx as nx\n",
    "import matplotlib.pyplot as plt\n",
    "\n",
    "G = nx.from_pandas_edgelist(df_simil_agg, \n",
    "                            source='Padron_x', \n",
    "                            target='Padron_y', \n",
    "                            edge_attr='inv_cant_materias_similares',\n",
    "                            create_using=nx.Graph())\n",
    "\n",
    "print(G)\n",
    "print(f\"\"\"\n",
    "  El diámetro de la red: {nx.diameter(G)}\n",
    "  El grado promedio de la red: {sum([n[1] for n in G.degree()]) / len(G):.2f}\n",
    "  Puentes globales: {list(nx.bridges(G))}\n",
    "\"\"\")\n",
    "\n",
    "fig, axes = plt.subplots(nrows=1, ncols=2, figsize=(30,10))\n",
    "ax = axes.flatten()\n",
    "\n",
    "# ToDo: Elegir un randomsample (si? no?) para graficar y que se entienda mejor el grafico. Tal vez el grupo del tp puede ser el sample\n",
    "nx.draw_networkx(G, pos=nx.circular_layout(G), width=0.0005, node_size=50, with_labels=False, ax=ax[0])\n",
    "nx.draw_networkx(G, pos=nx.spiral_layout(G),   width=0.005,  node_size=50, with_labels=False, ax=ax[1])"
   ]
  },
  {
   "cell_type": "markdown",
   "id": "4d3657d1-1d48-4288-af12-4f5dbedb7a4c",
   "metadata": {},
   "source": [
    "## Comunidades"
   ]
  },
  {
   "cell_type": "code",
   "execution_count": null,
   "id": "ff717e7e-23cb-4138-8755-26a97cc50f44",
   "metadata": {},
   "outputs": [],
   "source": [
    "from networkx.algorithms import community\n",
    "import matplotlib.colors as mcolors\n",
    "import random\n",
    "\n",
    "random.seed(42)\n",
    "plt.figure(figsize=(30,10))\n",
    "\n",
    "louvain = community.louvain_communities(G, weight='inv_cant_materias_similares')\n",
    "draw_nodes = {}\n",
    "colors = random.sample(list(mcolors.CSS4_COLORS), len(louvain))\n",
    "for louvaincommunity, color in zip(louvain, colors):\n",
    "    draw_nodes.update({n: color for n in louvaincommunity})\n",
    "    \n",
    "plt.title(f\"{len(louvain)} Louvain Communities\")\n",
    "nx.draw_networkx(G, \n",
    "                 nodelist=draw_nodes.keys(), \n",
    "                 node_color=list(draw_nodes.values()), \n",
    "                 width=0.0005, \n",
    "                 pos=nx.random_layout(G, seed=42),\n",
    "                 font_size=10)"
   ]
  },
  {
   "cell_type": "code",
   "execution_count": null,
   "id": "d2bb13c9-6200-411c-bb04-5b88fd25a158",
   "metadata": {},
   "outputs": [],
   "source": [
    "from config import PADRON, CARRERA, plan_estudios\n",
    "\n",
    "def nestedsearch(el, lst_of_sets):\n",
    "    return list(filter(lambda lst: el in lst, lst_of_sets))[0]\n",
    "\n",
    "def materias_padron(padron):\n",
    "    return df[(df['Padron'] == padron) & (df['materia_nota'] >= 4)]['materia_id'].values\n",
    "\n",
    "def sugerir_electivas(padron):\n",
    "    min_alumnos, max_alumnos = 6, 20\n",
    "    max_iteraciones = 25\n",
    "\n",
    "    i = 0\n",
    "    grupo = []\n",
    "    for i in range(max_iteraciones):\n",
    "        louvain = community.louvain_communities(G, weight='inv_cant_materias_similares', resolution=1+(i*0.01))\n",
    "        comunidad = nestedsearch(padron, louvain)\n",
    "        if min_alumnos <= len(comunidad) <= max_alumnos:\n",
    "            grupo = comunidad\n",
    "            break\n",
    "        elif not grupo or (len(comunidad) >= max_alumnos and (len(comunidad) - max_alumnos <= len(grupo) - max_alumnos)):\n",
    "            grupo = comunidad\n",
    "        i+=1\n",
    "    \n",
    "    df_sugerencias = df_rel[df_rel['Padron'].isin(grupo)].groupby('materia_id').agg(cant_alumnos_similares=('materia_id', 'count'))\n",
    "    df_sugerencias = df_sugerencias[~df_sugerencias.index.isin(materias_padron(padron))]\n",
    "    \n",
    "    df_materias = pd.read_json(plan_estudios(CARRERA))\n",
    "    df_sugerencias = pd.merge(df_sugerencias, df_materias, left_on='materia_id', right_on=\"id\")\n",
    "    df_sugerencias = df_sugerencias[df_sugerencias['categoria'] == 'Materias Electivas']\n",
    "    df_sugerencias = df_sugerencias[['id', 'materia', 'creditos', 'cant_alumnos_similares']].sort_values('cant_alumnos_similares', ascending=False)\n",
    "    return df_sugerencias.reset_index(drop=True)\n",
    "\n",
    "electivas = sugerir_electivas(PADRON)\n",
    "electivas.head(10)"
   ]
  },
  {
   "cell_type": "markdown",
   "id": "55005a1e-0b70-45a9-b904-38757fd4d2b5",
   "metadata": {},
   "source": [
    "# Aleatoriedad del grafo\n",
    "\n",
    "Para esta parte del análisis, vamos a remover todas las aristas que conectan a los alumnos que no sean de electivas. De esta manera, vamos a tener una mejor visibilidad y mejores resultados, ya que el grafo anterior es casi completo, lo cual es difícil de comparar con los modelos vistos en clase."
   ]
  },
  {
   "cell_type": "code",
   "execution_count": null,
   "id": "5525335f-7d04-4668-a73a-302a224f9df2",
   "metadata": {},
   "outputs": [],
   "source": [
    "df_electivas = utils.curar_data(utils.generar_subdf_materias_electivas(df))\n",
    "\n",
    "G_electivas = nx.from_pandas_edgelist(df_electivas, \n",
    "                            source='Padron_x', \n",
    "                            target='Padron_y', \n",
    "                            edge_attr='cant_materias_similares',\n",
    "                            create_using=nx.Graph())\n",
    "\n",
    "print(G_electivas)\n",
    "print(f\"\"\"\n",
    "Red FIUBA-Map\n",
    "  El diámetro de la red: {nx.diameter(G_electivas)}\n",
    "  El grado promedio de la red: {sum([n[1] for n in G_electivas.degree()]) / len(G_electivas):.2f}\n",
    "  La distancia promedio de la red: {nx.average_shortest_path_length(G_electivas)}\n",
    "  Clustering promedio: {\"%3.4f\"%nx.average_clustering(G_electivas)}\n",
    "  Puentes globales: {list(nx.bridges(G_electivas))}\n",
    "  {\"Es conexa\" if nx.is_connected(G_electivas) else \"No es conexa\"}\n",
    "\"\"\")"
   ]
  },
  {
   "cell_type": "markdown",
   "id": "a28b8652-85bb-411c-89ab-2e8d7b701fc1",
   "metadata": {},
   "source": [
    "Vamos a realizar una simulación de un modelado de Erdös-Rényi y un modelado de Preferential Attachment (ley de potencias) que correspondan a los parámetros de nuestra red, para luego poder compararlos y poder entender si nuestra red es aleatoria. Para eso vamos a conocer el diametro, grado promedio, distancia promedio, clustering promedio y si se trata de una componente gigante. Al finalizar, vamos realizar una representación de anonymus walks para cada una de las redes y vamos a determinar por distancia coseno cuál sería la simulación más afin y por qué."
   ]
  },
  {
   "cell_type": "code",
   "execution_count": null,
   "id": "28c80079-d22d-47ac-8199-d999f3b161f9",
   "metadata": {},
   "outputs": [],
   "source": [
    "g_erdos = nx.erdos_renyi_graph(G_electivas.number_of_nodes(), 0.6)\n",
    "print(f\"\"\"\n",
    "Red aleatoria Erdös-Renyi\n",
    "  El diámetro de la red: {nx.diameter(g_erdos)}\n",
    "  El grado promedio de la red: {sum([n[1] for n in g_erdos.degree()]) / len(g_erdos):.2f}\n",
    "  La distancia promedio de la red: {nx.average_shortest_path_length(g_erdos)}\n",
    "  Clustering promedio: {\"%3.4f\"%nx.average_clustering(g_erdos)}\n",
    "  Puentes globales: {list(nx.bridges(g_erdos))}\n",
    "  {\"Es conexa\" if nx.is_connected(g_erdos) else \"No es conexa\"}\n",
    "\"\"\")"
   ]
  },
  {
   "cell_type": "code",
   "execution_count": null,
   "id": "5a404ce7-c6a8-45f9-83ab-e7f2c49fe606",
   "metadata": {},
   "outputs": [],
   "source": [
    "g_preferential_attachment = nx.barabasi_albert_graph(G_electivas.number_of_nodes(), G_electivas.number_of_nodes()//G_electivas.number_of_nodes())\n",
    "print(f\"\"\"\n",
    "Red aleatoria Preferential Attachment\n",
    "  El diámetro de la red: {nx.diameter(g_preferential_attachment)}\n",
    "  El grado promedio de la red: {sum([n[1] for n in g_preferential_attachment.degree()]) / len(g_preferential_attachment):.2f}\n",
    "  La distancia promedio de la red: {nx.average_shortest_path_length(g_preferential_attachment)}\n",
    "  Clustering promedio: {nx.average_clustering(g_preferential_attachment)}\n",
    "  {\"Es conexa\" if nx.is_connected(g_preferential_attachment) else \"No es conexa\"}\n",
    "\"\"\")"
   ]
  },
  {
   "cell_type": "code",
   "execution_count": null,
   "id": "c69b46e2-b45e-4be5-978b-6349fd9fb394",
   "metadata": {},
   "outputs": [],
   "source": [
    "aw_erdos = utils.anoymous_walks(g_erdos)\n",
    "aw_preferential = utils.anoymous_walks(g_preferential_attachment)\n",
    "aw_original = utils.anoymous_walks(G_electivas)\n",
    "\n",
    "utils.plot_anoymous_walks([aw_original, aw_erdos, aw_preferential])"
   ]
  },
  {
   "cell_type": "code",
   "execution_count": null,
   "id": "cd4dab5f-4dc8-4dd7-b1a5-88297ed0012c",
   "metadata": {},
   "outputs": [],
   "source": [
    "from numpy import linalg as LA\n",
    "\n",
    "print(f\"\"\"\n",
    "Las leyes de potencias aparecen de la \\033[1m ventaja acumulativa\\033[0m. Esto puede verse como un desbalance desproporcionado entre los que tienen muchos contactos, y los que tienen pocos. Es claro que el grafon no iba a ser similar a el grafo generado por Barabási–Albert, ya que no tiene sentido que un alumno tenga muchisimas aristas, mientras que otros tengan pocas ya que hay muchas materias en comun. La distancia de coseno entre nuestro grafon y el grafo aleatorio es de {1 - np.inner(aw_original[7],  aw_preferential[7]) / (LA.norm(aw_original[7]) * LA.norm( aw_preferential[7]))}. \\n\n",
    "En cambio, al compararlo con el grafo generado con Erdös Renyi, podemos encontrar más similitudes. A diferencia del anterior, todos los nodos tienen probabilidad de contar con muchas aristas, dejando un grafo más real y parecido a una red de una Universidad en donde todos los alumnos tienden a cursar materias similares. La distancia de coseno entre los mismos {1 - np.inner(aw_original[7],  aw_erdos[7]) / (LA.norm(aw_original[7]) * LA.norm(aw_erdos[7]))}\n",
    "\"\"\")"
   ]
  },
  {
   "cell_type": "markdown",
   "id": "1d185073-7975-4257-9137-b7a9de213ad6",
   "metadata": {},
   "source": [
    "Es interesante notar, que a pesar de que el grado promedio entre nuestro grafon y Erdös Renyi son similares, la distribución de los mismos no lo es. Como ya sabemos, la representación de Erdös es una campana de Gauss, en donde predomina el grado promedio. Esto podría suceder en una universidad, considerando todas las carreras, pero al tomar una sola carrera y únicamente sus electivas, tiene sentido observar una distribución uniforme, en donde algunos alumnos cursaron muchas materias electivas y cuentan con más aristas y algunos aún cuentan con pocas. "
   ]
  },
  {
   "cell_type": "code",
   "execution_count": null,
   "id": "a7927526-a2d1-451e-91c8-f07e8a8aa351",
   "metadata": {},
   "outputs": [],
   "source": [
    "utils.plot_distribucion_grados([G_electivas, g_erdos, g_preferential_attachment])"
   ]
  }
 ],
 "metadata": {
  "kernelspec": {
   "display_name": "Python 3 (ipykernel)",
   "language": "python",
   "name": "python3"
  },
  "language_info": {
   "codemirror_mode": {
    "name": "ipython",
    "version": 3
   },
   "file_extension": ".py",
   "mimetype": "text/x-python",
   "name": "python",
   "nbconvert_exporter": "python",
   "pygments_lexer": "ipython3",
   "version": "3.11.1"
  }
 },
 "nbformat": 4,
 "nbformat_minor": 5
}
