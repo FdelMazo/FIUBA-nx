{
 "cells": [
  {
   "cell_type": "markdown",
   "id": "7d3e4e83-58e0-457f-bd75-abf4b9337bed",
   "metadata": {},
   "source": [
    "# Grafón: Qué electivas me conviene cursar?\n",
    "\n",
    "Este grafo se encarga de analizar \"gente que haya tenido experiencias facultativas similares\", sin importar en que año o cuatrimestre fue. \n",
    "\n",
    "La idea es que si me fue parecido en varias materias a alguna otra persona, y esa persona curso alguna electiva que yo no, entonces esa materia es una buena candidata para mí.\n",
    "\n",
    "Por ejemplo: Por más que Juan se haya recibido el año pasado, es una persona que se parece mucho a mí porque nos sacamos las mismas notas en muchas materias. Probablemente las electivas que Juan eligió, me sirvan a mí como guía."
   ]
  },
  {
   "cell_type": "markdown",
   "id": "ec1f34d6-3931-463f-b747-bdeb614a307c",
   "metadata": {},
   "source": [
    "## Cómo es el grafo?\n",
    "\n",
    "El grafo analizado va a ser un grafo simple, y no un multigrafo: entre cada par de alumnos solo puede haber una arista. Manejamos la cardinalidad en el peso, en vez de tener múltiples aristas.\n",
    "\n",
    "- Nodos: alumnos\n",
    "- Aristas: conectar dos alumnos que hayan cursado misma materia y \"les fue parecido\".\n",
    "    - A los dos nos fue muy bien (nos sacamos entre 8 y 10)    \n",
    "    - A los dos nos fue más o menos (nos sacamos un 6 o un 7)\n",
    "    - A los dos nos fue mal (nos sacamos un 4 o un 5)\n",
    "- Peso: La inversa* de la cantidad de materias en donde somos similares\n",
    "\n",
    "\\* Calculamos la inversa porque mientras mas similares son, menor peso queremos que haya entre la arista, para que más cercanos esten\n",
    "\n",
    "### Dos formas de armar el análisis\n",
    "// ToDo: que hacemos aca? Elegimos uno, o presentamos ambos en el mismo notebook?\n",
    "// Miti miti? la parte de abajo mas enfocada en solo electivas¨\n",
    "- sólo correr sobre materias electivas\n",
    "- correr sobre todas las materias, pero filtrar el output por electivas"
   ]
  },
  {
   "cell_type": "code",
   "execution_count": null,
   "id": "71577f73-52b6-4a58-afaa-9c1a2d6d18f2",
   "metadata": {},
   "outputs": [],
   "source": [
    "import pandas as pd\n",
    "import utils\n",
    "\n",
    "df = pd.read_pickle('fiuba-map-data.pickle')\n",
    "df.sample(3)"
   ]
  },
  {
   "cell_type": "code",
   "execution_count": null,
   "id": "aa0663cb-1172-4be0-a27a-8f70e52c0156",
   "metadata": {},
   "outputs": [],
   "source": [
    "# Armamos las categorias de que les haya hido parecido a dos alumnos\n",
    "categories = {\n",
    "    4: 0,\n",
    "    5: 0,\n",
    "    6: 1,\n",
    "    7: 1,\n",
    "    8: 2,\n",
    "    9: 2,\n",
    "    10: 2\n",
    "}\n",
    "\n",
    "# Sacamos materias en final y a cursar\n",
    "df_alumnos = df[df['materia_nota'] >= 4]\n",
    "\n",
    "# Sacamos gente que no le pone la nota a su fiubamap y deja que se saco (casi) todos 4s directamente\n",
    "df_alumnos['mediana'] = df_alumnos.groupby('Padron')['materia_nota'].transform('median')\n",
    "df_alumnos = df_alumnos[df_alumnos['mediana'] > 5]\n",
    "\n",
    "df_alumnos['nota_categoria'] = df_alumnos['materia_nota'].apply(lambda x: categories[x])\n",
    "\n",
    "# Juntamos el grafo con si mismo para tener la similiritud entre cada par de padrones\n",
    "df_simil_sinagg = pd.merge(df_alumnos, df_alumnos, on=['materia_id', 'nota_categoria'])\n",
    "df_simil_sinagg = df_simil_sinagg[df_simil_sinagg['Padron_x'] != df_simil_sinagg['Padron_y']]\n",
    "df_simil_sinagg = df_simil_sinagg.reset_index()\n",
    "\n",
    "df_simil_sinagg = df_simil_sinagg[['materia_id', 'nota_categoria', 'Padron_x', 'materia_nota_x', 'Padron_y', 'materia_nota_y']]\n",
    "\n",
    "# Unificar aristas ( con el objetivo de no tener pocos nodos y millones de aristas )\n",
    "df_simil = df_simil_sinagg.groupby(['Padron_x', 'Padron_y']).agg(cant_materias_similares=('materia_id', 'count'))\n",
    "df_simil = df_simil.reset_index()\n",
    "\n",
    "df_simil['Padron_min'] = df_simil[['Padron_x', 'Padron_y']].min(axis=1)\n",
    "df_simil['Padron_max'] = df_simil[['Padron_x', 'Padron_y']].max(axis=1)\n",
    "df_simil = df_simil.drop_duplicates(['Padron_min', 'Padron_max']).reset_index()\n",
    "\n",
    "# ToDo: fijarse si elevar a un K acá\n",
    "df_simil['inv_cant_materias_similares'] = df_simil['cant_materias_similares'].max() - df_simil['cant_materias_similares'] + 1\n",
    "df_simil[['Padron_x', 'Padron_y', 'cant_materias_similares', 'inv_cant_materias_similares']]\n",
    "\n",
    "\n",
    "# Nota: Al no tener en cuenta el factor temporal en este grafo (en que cuatri cursó cada alumno), esta vez no se aplica el filtro de \"sacar todos los alumnos que no setean el cuatrimestre\"\n",
    "# Ese filtro es considerable, por lo que tiene sentido que este grafo sea bastante mas grande que grafazo\n",
    "display(df_simil.sample(3))"
   ]
  },
  {
   "cell_type": "code",
   "execution_count": null,
   "id": "7b6e85c8-2f37-4e64-88d2-e06e4e5b8f5c",
   "metadata": {},
   "outputs": [],
   "source": [
    "# Veamos los padrones más parecidos entre sí\n",
    "df_simil.sort_values('cant_materias_similares', ascending=False).head(10)"
   ]
  },
  {
   "cell_type": "code",
   "execution_count": null,
   "id": "1226ed0c-90e3-4082-b6a4-c7924a9449c2",
   "metadata": {},
   "outputs": [],
   "source": [
    "import networkx as nx\n",
    "import matplotlib.pyplot as plt\n",
    "\n",
    "G = nx.from_pandas_edgelist(df_simil, \n",
    "                            source='Padron_x', \n",
    "                            target='Padron_y', \n",
    "                            edge_attr='inv_cant_materias_similares',\n",
    "                            create_using=nx.Graph())\n",
    "\n",
    "utils.stats(G)\n",
    "utils.plot(G, edge_width=0.0005)"
   ]
  },
  {
   "cell_type": "markdown",
   "id": "4d3657d1-1d48-4288-af12-4f5dbedb7a4c",
   "metadata": {},
   "source": [
    "## Comunidades\n",
    "\n",
    "\\# ToDo: explicar que pretendemos ver acá\n",
    "\\# ToDo: Explicar que a diferencia de grafazo, aca estamos viendo cosas un poco mas subjetivas, entonces no tenemos validación de homofilia para hacer"
   ]
  },
  {
   "cell_type": "code",
   "execution_count": null,
   "id": "ff717e7e-23cb-4138-8755-26a97cc50f44",
   "metadata": {},
   "outputs": [],
   "source": [
    "from networkx.algorithms import community\n",
    "\n",
    "louvain = community.louvain_communities(G, weight='inv_cant_materias_similares')\n",
    "utils.plot_communities(G, louvain)"
   ]
  },
  {
   "cell_type": "code",
   "execution_count": null,
   "id": "f1209083-1add-4c1e-b108-ac194fbed5cc",
   "metadata": {},
   "outputs": [],
   "source": [
    "# ToDo: Ver de agregarle logica a las subcomunidades, para que no se sienta que es nada mas correr el algoritmo generico original hasta que nos de algo que nos guste"
   ]
  },
  {
   "cell_type": "code",
   "execution_count": null,
   "id": "d2bb13c9-6200-411c-bb04-5b88fd25a158",
   "metadata": {},
   "outputs": [],
   "source": [
    "from config import PADRON, CARRERA\n",
    "from utils import plan_estudios\n",
    "\n",
    "def nestedsearch(el, lst_of_sets):\n",
    "    return list(filter(lambda lst: el in lst, lst_of_sets))[0]\n",
    "\n",
    "def materias_padron(padron):\n",
    "    return df[(df['Padron'] == padron) & (df['materia_nota'] >= 4)]['materia_id'].values\n",
    "\n",
    "def sugerir_electivas(padron):\n",
    "    min_alumnos, max_alumnos = 6, 20\n",
    "    max_iteraciones = 25\n",
    "\n",
    "    i = 0\n",
    "    grupo = []\n",
    "    for i in range(max_iteraciones):\n",
    "        louvain = community.louvain_communities(G, weight='inv_cant_materias_similares', resolution=1+(i*0.01))\n",
    "        comunidad = nestedsearch(padron, louvain)\n",
    "        if min_alumnos <= len(comunidad) <= max_alumnos:\n",
    "            grupo = comunidad\n",
    "            break\n",
    "        elif not grupo or (len(comunidad) >= max_alumnos and (len(comunidad) - max_alumnos <= len(grupo) - max_alumnos)):\n",
    "            grupo = comunidad\n",
    "        i+=1\n",
    "    \n",
    "    df_sugerencias = df_alumnos[df_alumnos['Padron'].isin(grupo)].groupby('materia_id').agg(cant_alumnos_similares=('materia_id', 'count'))\n",
    "    df_sugerencias = df_sugerencias[~df_sugerencias.index.isin(materias_padron(padron))]\n",
    "    \n",
    "    df_materias = pd.read_json(plan_estudios(CARRERA))\n",
    "    df_sugerencias = pd.merge(df_sugerencias, df_materias, left_on='materia_id', right_on=\"id\")\n",
    "    df_sugerencias = df_sugerencias[df_sugerencias['categoria'] == 'Materias Electivas']\n",
    "    df_sugerencias = df_sugerencias[['id', 'materia', 'creditos', 'cant_alumnos_similares']].sort_values('cant_alumnos_similares', ascending=False)\n",
    "    return df_sugerencias.reset_index(drop=True)\n",
    "\n",
    "print(f\"Top 10 electivas sugeridas a {PADRON}\")\n",
    "electivas = sugerir_electivas(PADRON)\n",
    "electivas.head(10)"
   ]
  }
 ],
 "metadata": {
  "kernelspec": {
   "display_name": "Python 3 (ipykernel)",
   "language": "python",
   "name": "python3"
  },
  "language_info": {
   "codemirror_mode": {
    "name": "ipython",
    "version": 3
   },
   "file_extension": ".py",
   "mimetype": "text/x-python",
   "name": "python",
   "nbconvert_exporter": "python",
   "pygments_lexer": "ipython3",
   "version": "3.11.1"
  }
 },
 "nbformat": 4,
 "nbformat_minor": 5
}
